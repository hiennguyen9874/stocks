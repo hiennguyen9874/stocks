{
 "cells": [
  {
   "cell_type": "code",
   "execution_count": 1,
   "metadata": {},
   "outputs": [],
   "source": [
    "import os\n",
    "import sys\n",
    "\n",
    "\n",
    "ROOT_CRAWL = os.path.join(os.path.dirname(\"__file__\"), \"..\", \"crawl\")"
   ]
  },
  {
   "cell_type": "markdown",
   "metadata": {},
   "source": [
    "# Load data"
   ]
  },
  {
   "cell_type": "code",
   "execution_count": 9,
   "metadata": {},
   "outputs": [
    {
     "name": "stdout",
     "output_type": "stream",
     "text": [
      "['Danh mục quan tâm', 'BDS', 'BDS - KCN', 'Bán lẻ', 'Bảo Hiểm', 'Cao su', 'Chứng Khoán', 'Cảng Biển & Vận Tải', 'Dầu khí', 'Dệt may', 'Ngân Hàng', 'Phân Bón & Hóa chất', 'Thép', 'Thủy sản', 'Trụ', 'Xây dựng', 'Điện gió', 'Đường, thực phẩm, gạo', 'Đầu tư công']\n"
     ]
    }
   ],
   "source": [
    "import json\n",
    "\n",
    "with open(os.path.join(ROOT_CRAWL, \"list_stocks.json\"), \"r\") as f:\n",
    "    list_stocks = json.load(f)\n",
    "print([x[\"CategoryName\"] for x in list_stocks[\"category\"]])\n",
    "\n",
    "symbols = list(filter(lambda x: x[\"CategoryName\"] == \"Danh mục quan tâm\", list_stocks[\"category\"]))[0][\n",
    "    \"ListStockCode\"\n",
    "]\n"
   ]
  },
  {
   "cell_type": "code",
   "execution_count": 15,
   "metadata": {},
   "outputs": [
    {
     "name": "stdout",
     "output_type": "stream",
     "text": [
      "<class 'pandas.core.frame.DataFrame'>\n",
      "RangeIndex: 5154 entries, 0 to 5153\n",
      "Data columns (total 39 columns):\n",
      " #   Column                  Non-Null Count  Dtype         \n",
      "---  ------                  --------------  -----         \n",
      " 0   ticker                  5154 non-null   object        \n",
      " 1   quarter                 5154 non-null   int64         \n",
      " 2   year                    5154 non-null   int64         \n",
      " 3   shortAsset              4444 non-null   float64       \n",
      " 4   cash                    5154 non-null   int64         \n",
      " 5   shortInvest             4444 non-null   float64       \n",
      " 6   shortReceivable         4444 non-null   float64       \n",
      " 7   inventory               4444 non-null   float64       \n",
      " 8   longAsset               4444 non-null   float64       \n",
      " 9   fixedAsset              5154 non-null   int64         \n",
      " 10  asset                   5154 non-null   int64         \n",
      " 11  debt                    5154 non-null   int64         \n",
      " 12  shortDebt               4444 non-null   float64       \n",
      " 13  longDebt                4400 non-null   float64       \n",
      " 14  equity                  5154 non-null   int64         \n",
      " 15  capital                 5154 non-null   int64         \n",
      " 16  centralBankDeposit      710 non-null    float64       \n",
      " 17  otherBankDeposit        710 non-null    float64       \n",
      " 18  otherBankLoan           630 non-null    float64       \n",
      " 19  stockInvest             710 non-null    float64       \n",
      " 20  customerLoan            710 non-null    float64       \n",
      " 21  badLoan                 630 non-null    float64       \n",
      " 22  provision               710 non-null    float64       \n",
      " 23  netCustomerLoan         710 non-null    float64       \n",
      " 24  otherAsset              710 non-null    float64       \n",
      " 25  otherBankCredit         710 non-null    float64       \n",
      " 26  oweOtherBank            630 non-null    float64       \n",
      " 27  oweCentralBank          710 non-null    float64       \n",
      " 28  valuablePaper           710 non-null    float64       \n",
      " 29  payableInterest         630 non-null    float64       \n",
      " 30  receivableInterest      630 non-null    float64       \n",
      " 31  deposit                 710 non-null    float64       \n",
      " 32  otherDebt               5154 non-null   int64         \n",
      " 33  fund                    710 non-null    float64       \n",
      " 34  unDistributedIncome     2207 non-null   float64       \n",
      " 35  minorShareHolderProfit  4936 non-null   float64       \n",
      " 36  payable                 5154 non-null   int64         \n",
      " 37  quarter_start_time      5154 non-null   datetime64[ns]\n",
      " 38  quarter_end_time        5154 non-null   datetime64[ns]\n",
      "dtypes: datetime64[ns](2), float64(26), int64(10), object(1)\n",
      "memory usage: 1.5+ MB\n"
     ]
    }
   ],
   "source": [
    "import pandas as pd\n",
    "\n",
    "balancesheet = pd.read_csv(os.path.join(ROOT_CRAWL, \"balancesheet.csv\"), encoding=\"utf-8\")\n",
    "balancesheet[\"quarter_start_time\"] = balancesheet.apply(\n",
    "    lambda row: (pd.Period(freq=\"Q\", year=row[\"year\"], quarter=row[\"quarter\"])).start_time,\n",
    "    axis=1,\n",
    ")\n",
    "balancesheet[\"quarter_end_time\"] = balancesheet.apply(\n",
    "    lambda row: (pd.Period(freq=\"Q\", year=row[\"year\"], quarter=row[\"quarter\"])).end_time, axis=1\n",
    ")\n",
    "balancesheet.info()\n"
   ]
  },
  {
   "cell_type": "code",
   "execution_count": 16,
   "metadata": {},
   "outputs": [
    {
     "name": "stdout",
     "output_type": "stream",
     "text": [
      "<class 'pandas.core.frame.DataFrame'>\n",
      "RangeIndex: 4465 entries, 0 to 4464\n",
      "Data columns (total 61 columns):\n",
      " #   Column                   Non-Null Count  Dtype         \n",
      "---  ------                   --------------  -----         \n",
      " 0   ticker                   4465 non-null   object        \n",
      " 1   quarter                  4465 non-null   int64         \n",
      " 2   year                     4465 non-null   int64         \n",
      " 3   priceToEarning           2868 non-null   float64       \n",
      " 4   priceToBook              2866 non-null   float64       \n",
      " 5   valueBeforeEbitda        3585 non-null   float64       \n",
      " 6   dividend                 0 non-null      float64       \n",
      " 7   roe                      4258 non-null   float64       \n",
      " 8   roa                      4458 non-null   float64       \n",
      " 9   daysReceivable           3666 non-null   float64       \n",
      " 10  daysInventory            3539 non-null   float64       \n",
      " 11  daysPayable              3855 non-null   float64       \n",
      " 12  ebitOnInterest           3232 non-null   float64       \n",
      " 13  earningPerShare          4458 non-null   float64       \n",
      " 14  bookValuePerShare        4350 non-null   float64       \n",
      " 15  interestMargin           575 non-null    float64       \n",
      " 16  nonInterestOnToi         575 non-null    float64       \n",
      " 17  badDebtPercentage        563 non-null    float64       \n",
      " 18  provisionOnBadDebt       562 non-null    float64       \n",
      " 19  costOfFinancing          514 non-null    float64       \n",
      " 20  equityOnTotalAsset       4350 non-null   float64       \n",
      " 21  equityOnLoan             582 non-null    float64       \n",
      " 22  costToIncome             575 non-null    float64       \n",
      " 23  equityOnLiability        4465 non-null   float64       \n",
      " 24  currentPayment           3883 non-null   float64       \n",
      " 25  quickPayment             3883 non-null   float64       \n",
      " 26  epsChange                4455 non-null   float64       \n",
      " 27  ebitdaOnStock            3656 non-null   float64       \n",
      " 28  grossProfitMargin        3748 non-null   float64       \n",
      " 29  operatingProfitMargin    3618 non-null   float64       \n",
      " 30  postTaxMargin            3707 non-null   float64       \n",
      " 31  debtOnEquity             3769 non-null   float64       \n",
      " 32  debtOnAsset              3769 non-null   float64       \n",
      " 33  debtOnEbitda             3604 non-null   float64       \n",
      " 34  shortOnLongDebt          3020 non-null   float64       \n",
      " 35  assetOnEquity            4350 non-null   float64       \n",
      " 36  capitalBalance           3883 non-null   float64       \n",
      " 37  cashOnEquity             3883 non-null   float64       \n",
      " 38  cashOnCapitalize         3702 non-null   float64       \n",
      " 39  cashCirculation          3505 non-null   float64       \n",
      " 40  revenueOnWorkCapital     3664 non-null   float64       \n",
      " 41  capexOnFixedAsset        3744 non-null   float64       \n",
      " 42  revenueOnAsset           3883 non-null   float64       \n",
      " 43  postTaxOnPreTax          3823 non-null   float64       \n",
      " 44  ebitOnRevenue            3618 non-null   float64       \n",
      " 45  preTaxOnEbit             3802 non-null   float64       \n",
      " 46  preProvisionOnToi        575 non-null    float64       \n",
      " 47  postTaxOnToi             575 non-null    float64       \n",
      " 48  loanOnEarnAsset          582 non-null    float64       \n",
      " 49  loanOnAsset              582 non-null    float64       \n",
      " 50  loanOnDeposit            582 non-null    float64       \n",
      " 51  depositOnEarnAsset       582 non-null    float64       \n",
      " 52  badDebtOnAsset           563 non-null    float64       \n",
      " 53  liquidityOnLiability     582 non-null    float64       \n",
      " 54  payableOnEquity          4465 non-null   float64       \n",
      " 55  cancelDebt               575 non-null    float64       \n",
      " 56  ebitdaOnStockChange      3618 non-null   float64       \n",
      " 57  bookValuePerShareChange  4340 non-null   float64       \n",
      " 58  creditGrowth             581 non-null    float64       \n",
      " 59  quarter_start_time       4465 non-null   datetime64[ns]\n",
      " 60  quarter_end_time         4465 non-null   datetime64[ns]\n",
      "dtypes: datetime64[ns](2), float64(56), int64(2), object(1)\n",
      "memory usage: 2.1+ MB\n"
     ]
    }
   ],
   "source": [
    "financialratio = pd.read_csv(os.path.join(ROOT_CRAWL, \"financialratio.csv\"), encoding=\"utf-8\")\n",
    "financialratio[\"quarter_start_time\"] = financialratio.apply(\n",
    "    lambda row: (pd.Period(freq=\"Q\", year=row[\"year\"], quarter=row[\"quarter\"])).start_time,\n",
    "    axis=1,\n",
    ")\n",
    "financialratio[\"quarter_end_time\"] = financialratio.apply(\n",
    "    lambda row: (pd.Period(freq=\"Q\", year=row[\"year\"], quarter=row[\"quarter\"])).end_time, axis=1\n",
    ")\n",
    "financialratio.info()"
   ]
  },
  {
   "cell_type": "code",
   "execution_count": 17,
   "metadata": {},
   "outputs": [
    {
     "name": "stdout",
     "output_type": "stream",
     "text": [
      "<class 'pandas.core.frame.DataFrame'>\n",
      "RangeIndex: 5397 entries, 0 to 5396\n",
      "Data columns (total 26 columns):\n",
      " #   Column                          Non-Null Count  Dtype         \n",
      "---  ------                          --------------  -----         \n",
      " 0   ticker                          5397 non-null   object        \n",
      " 1   quarter                         5397 non-null   int64         \n",
      " 2   year                            5397 non-null   int64         \n",
      " 3   revenue                         5397 non-null   int64         \n",
      " 4   yearRevenueGrowth               4668 non-null   float64       \n",
      " 5   quarterRevenueGrowth            4967 non-null   float64       \n",
      " 6   costOfGoodSold                  4677 non-null   float64       \n",
      " 7   grossProfit                     4677 non-null   float64       \n",
      " 8   operationExpense                5296 non-null   float64       \n",
      " 9   operationProfit                 5296 non-null   float64       \n",
      " 10  yearOperationProfitGrowth       4080 non-null   float64       \n",
      " 11  quarterOperationProfitGrowth    4376 non-null   float64       \n",
      " 12  interestExpense                 4421 non-null   float64       \n",
      " 13  preTaxProfit                    5397 non-null   int64         \n",
      " 14  postTaxProfit                   5397 non-null   int64         \n",
      " 15  shareHolderIncome               5397 non-null   int64         \n",
      " 16  yearShareHolderIncomeGrowth     4248 non-null   float64       \n",
      " 17  quarterShareHolderIncomeGrowth  4540 non-null   float64       \n",
      " 18  investProfit                    720 non-null    float64       \n",
      " 19  serviceProfit                   720 non-null    float64       \n",
      " 20  otherProfit                     720 non-null    float64       \n",
      " 21  provisionExpense                720 non-null    float64       \n",
      " 22  operationIncome                 720 non-null    float64       \n",
      " 23  ebitda                          3784 non-null   float64       \n",
      " 24  quarter_start_time              5397 non-null   datetime64[ns]\n",
      " 25  quarter_end_time                5397 non-null   datetime64[ns]\n",
      "dtypes: datetime64[ns](2), float64(17), int64(6), object(1)\n",
      "memory usage: 1.1+ MB\n"
     ]
    }
   ],
   "source": [
    "incomestatement = pd.read_csv(os.path.join(ROOT_CRAWL, \"incomestatement.csv\"), encoding=\"utf-8\")\n",
    "incomestatement[\"quarter_start_time\"] = incomestatement.apply(\n",
    "    lambda row: (pd.Period(freq=\"Q\", year=row[\"year\"], quarter=row[\"quarter\"])).start_time,\n",
    "    axis=1,\n",
    ")\n",
    "incomestatement[\"quarter_end_time\"] = incomestatement.apply(\n",
    "    lambda row: (pd.Period(freq=\"Q\", year=row[\"year\"], quarter=row[\"quarter\"])).end_time, axis=1\n",
    ")\n",
    "incomestatement.info()"
   ]
  },
  {
   "cell_type": "markdown",
   "metadata": {},
   "source": [
    "# Merge all data"
   ]
  },
  {
   "cell_type": "markdown",
   "metadata": {},
   "source": [
    "# Plot by group"
   ]
  },
  {
   "cell_type": "code",
   "execution_count": 59,
   "metadata": {},
   "outputs": [
    {
     "data": {
      "text/plain": [
       "'{\"ticker\":{\"542\":\"HPG\"},\"quarter\":{\"542\":3},\"year\":{\"542\":2022},\"shortAsset\":{\"542\":96871.0},\"cash\":{\"542\":11881},\"shortInvest\":{\"542\":27030.0},\"shortReceivable\":{\"542\":12008.0},\"inventory\":{\"542\":43880.0},\"longAsset\":{\"542\":86935.0},\"fixedAsset\":{\"542\":71725},\"asset\":{\"542\":183805},\"debt\":{\"542\":85730},\"shortDebt\":{\"542\":52871.0},\"longDebt\":{\"542\":12629.0},\"equity\":{\"542\":98075},\"capital\":{\"542\":58148},\"centralBankDeposit\":{\"542\":null},\"otherBankDeposit\":{\"542\":null},\"otherBankLoan\":{\"542\":null},\"stockInvest\":{\"542\":null},\"customerLoan\":{\"542\":null},\"badLoan\":{\"542\":null},\"provision\":{\"542\":null},\"netCustomerLoan\":{\"542\":null},\"otherAsset\":{\"542\":null},\"otherBankCredit\":{\"542\":null},\"oweOtherBank\":{\"542\":null},\"oweCentralBank\":{\"542\":null},\"valuablePaper\":{\"542\":null},\"payableInterest\":{\"542\":null},\"receivableInterest\":{\"542\":null},\"deposit\":{\"542\":null},\"otherDebt\":{\"542\":740},\"fund\":{\"542\":null},\"unDistributedIncome\":{\"542\":0.0},\"minorShareHolderProfit\":{\"542\":112.0},\"payable\":{\"542\":85730},\"quarter_start_time\":{\"542\":1656633600000},\"quarter_end_time\":{\"542\":1664582399999},\"priceToEarning\":{\"542\":6.3},\"priceToBook\":{\"542\":1.2},\"valueBeforeEbitda\":{\"542\":5.6},\"dividend\":{\"542\":null},\"roe\":{\"542\":0.197},\"roa\":{\"542\":0.1},\"daysReceivable\":{\"542\":55.0},\"daysInventory\":{\"542\":123.0},\"daysPayable\":{\"542\":52.0},\"ebitOnInterest\":{\"542\":0.1},\"earningPerShare\":{\"542\":3078.0},\"bookValuePerShare\":{\"542\":16847.0},\"interestMargin\":{\"542\":null},\"nonInterestOnToi\":{\"542\":null},\"badDebtPercentage\":{\"542\":null},\"provisionOnBadDebt\":{\"542\":null},\"costOfFinancing\":{\"542\":null},\"equityOnTotalAsset\":{\"542\":0.533},\"equityOnLoan\":{\"542\":null},\"costToIncome\":{\"542\":null},\"equityOnLiability\":{\"542\":1.1},\"currentPayment\":{\"542\":1.3},\"quickPayment\":{\"542\":0.7},\"epsChange\":{\"542\":-0.404},\"ebitdaOnStock\":{\"542\":5842.0},\"grossProfitMargin\":{\"542\":0.029},\"operatingProfitMargin\":{\"542\":0.002},\"postTaxMargin\":{\"542\":null},\"debtOnEquity\":{\"542\":0.7},\"debtOnAsset\":{\"542\":0.4},\"debtOnEbitda\":{\"542\":2.1},\"shortOnLongDebt\":{\"542\":4.2},\"assetOnEquity\":{\"542\":1.9},\"capitalBalance\":{\"542\":24341.0},\"cashOnEquity\":{\"542\":0.121},\"cashOnCapitalize\":{\"542\":0.105},\"cashCirculation\":{\"542\":126.0},\"revenueOnWorkCapital\":{\"542\":6.6},\"capexOnFixedAsset\":{\"542\":-0.265},\"revenueOnAsset\":{\"542\":0.9},\"postTaxOnPreTax\":{\"542\":null},\"ebitOnRevenue\":{\"542\":0.002},\"preTaxOnEbit\":{\"542\":-18.2},\"preProvisionOnToi\":{\"542\":null},\"postTaxOnToi\":{\"542\":null},\"loanOnEarnAsset\":{\"542\":null},\"loanOnAsset\":{\"542\":null},\"loanOnDeposit\":{\"542\":null},\"depositOnEarnAsset\":{\"542\":null},\"badDebtOnAsset\":{\"542\":null},\"liquidityOnLiability\":{\"542\":null},\"payableOnEquity\":{\"542\":0.9},\"cancelDebt\":{\"542\":null},\"ebitdaOnStockChange\":{\"542\":-0.36},\"bookValuePerShareChange\":{\"542\":-0.018},\"creditGrowth\":{\"542\":null},\"revenue\":{\"542\":34103},\"yearRevenueGrowth\":{\"542\":-0.118},\"quarterRevenueGrowth\":{\"542\":-0.089},\"costOfGoodSold\":{\"542\":-33103.0},\"grossProfit\":{\"542\":1001.0},\"operationExpense\":{\"542\":-929.0},\"operationProfit\":{\"542\":71.0},\"yearOperationProfitGrowth\":{\"542\":-0.994},\"quarterOperationProfitGrowth\":{\"542\":-0.987},\"interestExpense\":{\"542\":-837.0},\"preTaxProfit\":{\"542\":-1300},\"postTaxProfit\":{\"542\":-1786},\"shareHolderIncome\":{\"542\":-1774},\"yearShareHolderIncomeGrowth\":{\"542\":null},\"quarterShareHolderIncomeGrowth\":{\"542\":null},\"investProfit\":{\"542\":null},\"serviceProfit\":{\"542\":null},\"otherProfit\":{\"542\":null},\"provisionExpense\":{\"542\":null},\"operationIncome\":{\"542\":null},\"ebitda\":{\"542\":1808.0}}'"
      ]
     },
     "execution_count": 59,
     "metadata": {},
     "output_type": "execute_result"
    }
   ],
   "source": [
    "balancesheet_financialratio_incomestatement[\n",
    "    (balancesheet_financialratio_incomestatement[\"ticker\"] == \"HPG\")\n",
    "    & (balancesheet_financialratio_incomestatement[\"year\"] == 2022)\n",
    "    & (balancesheet_financialratio_incomestatement[\"quarter\"] == 3)\n",
    "].to_json()"
   ]
  },
  {
   "cell_type": "code",
   "execution_count": 62,
   "metadata": {},
   "outputs": [],
   "source": [
    "balancesheet_financialratio_incomestatement_per_group = balancesheet_financialratio_incomestatement[\n",
    "    balancesheet_financialratio_incomestatement[\"ticker\"].isin(symbols)\n",
    "]\n"
   ]
  },
  {
   "cell_type": "markdown",
   "metadata": {},
   "source": [
    "## Earning Per Share"
   ]
  },
  {
   "cell_type": "code",
   "execution_count": 63,
   "metadata": {},
   "outputs": [
    {
     "data": {
      "application/vnd.plotly.v1+json": {
       "config": {
        "plotlyServerURL": "https://plot.ly"
       },
       "data": [
        {
         "hovertemplate": "ticker=HPG<br>quarter_end_time=%{x}<br>earningPerShare=%{y}<extra></extra>",
         "legendgroup": "HPG",
         "line": {
          "color": "#636efa",
          "dash": "solid"
         },
         "marker": {
          "symbol": "circle"
         },
         "mode": "lines",
         "name": "HPG",
         "orientation": "v",
         "showlegend": true,
         "type": "scatter",
         "x": [
          "2022-09-30T23:59:59.999999",
          "2022-06-30T23:59:59.999999",
          "2022-03-31T23:59:59.999999",
          "2021-12-31T23:59:59.999999",
          "2021-09-30T23:59:59.999999",
          "2021-06-30T23:59:59.999999",
          "2021-03-31T23:59:59.999999",
          "2020-12-31T23:59:59.999999",
          "2020-09-30T23:59:59.999999",
          "2020-06-30T23:59:59.999999",
          "2020-03-31T23:59:59.999999",
          "2019-12-31T23:59:59.999999",
          "2019-09-30T23:59:59.999999",
          "2019-06-30T23:59:59.999999",
          "2019-03-31T23:59:59.999999",
          "2018-12-31T23:59:59.999999",
          "2018-09-30T23:59:59.999999",
          "2018-06-30T23:59:59.999999",
          "2018-03-31T23:59:59.999999",
          "2017-12-31T23:59:59.999999",
          "2017-09-30T23:59:59.999999",
          "2017-06-30T23:59:59.999999",
          "2017-03-31T23:59:59.999999",
          "2016-12-31T23:59:59.999999",
          "2016-09-30T23:59:59.999999",
          "2016-06-30T23:59:59.999999",
          "2016-03-31T23:59:59.999999",
          "2015-12-31T23:59:59.999999",
          "2015-09-30T23:59:59.999999",
          "2015-06-30T23:59:59.999999",
          "2015-03-31T23:59:59.999999",
          "2014-12-31T23:59:59.999999",
          "2014-09-30T23:59:59.999999",
          "2014-06-30T23:59:59.999999",
          "2014-03-31T23:59:59.999999",
          "2013-12-31T23:59:59.999999",
          "2013-09-30T23:59:59.999999",
          "2013-06-30T23:59:59.999999",
          "2013-03-31T23:59:59.999999",
          "2012-12-31T23:59:59.999999",
          "2012-09-30T23:59:59.999999",
          "2012-06-30T23:59:59.999999",
          "2012-03-31T23:59:59.999999",
          "2011-12-31T23:59:59.999999",
          "2011-09-30T23:59:59.999999",
          "2011-06-30T23:59:59.999999",
          "2011-03-31T23:59:59.999999",
          "2010-12-31T23:59:59.999999",
          "2010-09-30T23:59:59.999999",
          "2010-06-30T23:59:59.999999",
          "2010-03-31T23:59:59.999999",
          "2009-12-31T23:59:59.999999",
          "2009-09-30T23:59:59.999999",
          "2009-06-30T23:59:59.999999",
          "2009-03-31T23:59:59.999999",
          "2008-12-31T23:59:59.999999",
          "2008-09-30T23:59:59.999999",
          "2008-06-30T23:59:59.999999"
         ],
         "xaxis": "x",
         "y": [
          3078,
          5164,
          6142,
          5929,
          5449,
          4318,
          3118,
          2311,
          1843,
          1496,
          1374,
          1678,
          1644,
          1789,
          1824,
          1916,
          2057,
          1999,
          1851,
          1790,
          1690,
          1570,
          1679,
          1475,
          1166,
          1038,
          862,
          779,
          758,
          719,
          653,
          702,
          706,
          625,
          529,
          436,
          366,
          320,
          280,
          222,
          213,
          171,
          199,
          273,
          333,
          382,
          356,
          301,
          264,
          271,
          281,
          286,
          181,
          153,
          155,
          189,
          295,
          278
         ],
         "yaxis": "y"
        },
        {
         "hovertemplate": "ticker=PVS<br>quarter_end_time=%{x}<br>earningPerShare=%{y}<extra></extra>",
         "legendgroup": "PVS",
         "line": {
          "color": "#EF553B",
          "dash": "solid"
         },
         "marker": {
          "symbol": "circle"
         },
         "mode": "lines",
         "name": "PVS",
         "orientation": "v",
         "showlegend": true,
         "type": "scatter",
         "x": [
          "2022-09-30T23:59:59.999999",
          "2022-06-30T23:59:59.999999",
          "2022-03-31T23:59:59.999999",
          "2021-12-31T23:59:59.999999",
          "2021-09-30T23:59:59.999999",
          "2021-06-30T23:59:59.999999",
          "2021-03-31T23:59:59.999999",
          "2020-12-31T23:59:59.999999",
          "2020-09-30T23:59:59.999999",
          "2020-06-30T23:59:59.999999",
          "2020-03-31T23:59:59.999999",
          "2019-12-31T23:59:59.999999",
          "2019-09-30T23:59:59.999999",
          "2019-06-30T23:59:59.999999",
          "2019-03-31T23:59:59.999999",
          "2018-12-31T23:59:59.999999",
          "2018-09-30T23:59:59.999999",
          "2018-06-30T23:59:59.999999",
          "2018-03-31T23:59:59.999999",
          "2017-12-31T23:59:59.999999",
          "2017-09-30T23:59:59.999999",
          "2017-06-30T23:59:59.999999",
          "2017-03-31T23:59:59.999999",
          "2016-12-31T23:59:59.999999",
          "2016-09-30T23:59:59.999999",
          "2016-06-30T23:59:59.999999",
          "2016-03-31T23:59:59.999999",
          "2015-12-31T23:59:59.999999",
          "2015-09-30T23:59:59.999999",
          "2015-06-30T23:59:59.999999",
          "2015-03-31T23:59:59.999999",
          "2014-12-31T23:59:59.999999",
          "2014-09-30T23:59:59.999999",
          "2014-06-30T23:59:59.999999",
          "2014-03-31T23:59:59.999999",
          "2013-12-31T23:59:59.999999",
          "2013-09-30T23:59:59.999999",
          "2013-06-30T23:59:59.999999",
          "2013-03-31T23:59:59.999999",
          "2012-12-31T23:59:59.999999",
          "2012-09-30T23:59:59.999999",
          "2012-06-30T23:59:59.999999",
          "2012-03-31T23:59:59.999999",
          "2011-12-31T23:59:59.999999",
          "2011-09-30T23:59:59.999999",
          "2011-06-30T23:59:59.999999",
          "2011-03-31T23:59:59.999999",
          "2010-12-31T23:59:59.999999",
          "2010-09-30T23:59:59.999999",
          "2010-06-30T23:59:59.999999",
          "2010-03-31T23:59:59.999999",
          "2009-12-31T23:59:59.999999",
          "2009-09-30T23:59:59.999999",
          "2009-06-30T23:59:59.999999",
          "2009-03-31T23:59:59.999999",
          "2008-12-31T23:59:59.999999",
          "2008-09-30T23:59:59.999999",
          "2008-06-30T23:59:59.999999"
         ],
         "xaxis": "x",
         "y": [
          1045,
          1105,
          1409,
          1259,
          1237,
          1187,
          1426,
          1357,
          2004,
          1722,
          1622,
          2160,
          2056,
          2391,
          2426,
          2185,
          1747,
          1514,
          1670,
          1675,
          1772,
          1801,
          2008,
          2065,
          2210,
          2728,
          3024,
          3119,
          3855,
          3847,
          3812,
          3682,
          3472,
          3710,
          3180,
          3172,
          2567,
          2295,
          2453,
          2395,
          3116,
          2960,
          2928,
          2614,
          2073,
          1927,
          1701,
          1886,
          1829,
          1708,
          1516,
          1333,
          1281,
          1210,
          1126,
          1090,
          811,
          687
         ],
         "yaxis": "y"
        },
        {
         "hovertemplate": "ticker=HCM<br>quarter_end_time=%{x}<br>earningPerShare=%{y}<extra></extra>",
         "legendgroup": "HCM",
         "line": {
          "color": "#00cc96",
          "dash": "solid"
         },
         "marker": {
          "symbol": "circle"
         },
         "mode": "lines",
         "name": "HCM",
         "orientation": "v",
         "showlegend": true,
         "type": "scatter",
         "x": [
          "2022-09-30T23:59:59.999999",
          "2022-06-30T23:59:59.999999",
          "2022-03-31T23:59:59.999999",
          "2021-12-31T23:59:59.999999",
          "2021-09-30T23:59:59.999999",
          "2021-06-30T23:59:59.999999",
          "2021-03-31T23:59:59.999999",
          "2020-12-31T23:59:59.999999",
          "2020-09-30T23:59:59.999999",
          "2020-06-30T23:59:59.999999",
          "2020-03-31T23:59:59.999999",
          "2019-12-31T23:59:59.999999",
          "2019-09-30T23:59:59.999999",
          "2019-06-30T23:59:59.999999",
          "2019-03-31T23:59:59.999999",
          "2018-12-31T23:59:59.999999",
          "2018-09-30T23:59:59.999999",
          "2018-06-30T23:59:59.999999",
          "2018-03-31T23:59:59.999999",
          "2017-12-31T23:59:59.999999",
          "2017-09-30T23:59:59.999999",
          "2017-06-30T23:59:59.999999",
          "2017-03-31T23:59:59.999999",
          "2016-12-31T23:59:59.999999",
          "2016-09-30T23:59:59.999999",
          "2016-06-30T23:59:59.999999",
          "2016-03-31T23:59:59.999999",
          "2015-12-31T23:59:59.999999",
          "2015-09-30T23:59:59.999999",
          "2015-06-30T23:59:59.999999",
          "2015-03-31T23:59:59.999999",
          "2014-12-31T23:59:59.999999",
          "2014-09-30T23:59:59.999999",
          "2014-06-30T23:59:59.999999",
          "2014-03-31T23:59:59.999999",
          "2013-12-31T23:59:59.999999",
          "2013-09-30T23:59:59.999999",
          "2013-06-30T23:59:59.999999",
          "2013-03-31T23:59:59.999999",
          "2012-12-31T23:59:59.999999",
          "2012-09-30T23:59:59.999999",
          "2012-06-30T23:59:59.999999",
          "2012-03-31T23:59:59.999999",
          "2011-12-31T23:59:59.999999",
          "2011-09-30T23:59:59.999999",
          "2011-06-30T23:59:59.999999",
          "2011-03-31T23:59:59.999999",
          "2010-12-31T23:59:59.999999",
          "2010-09-30T23:59:59.999999",
          "2010-06-30T23:59:59.999999"
         ],
         "xaxis": "x",
         "y": [
          2079,
          2414,
          2423,
          2508,
          2320,
          1934,
          1643,
          1160,
          1138,
          1074,
          987,
          946,
          825,
          866,
          946,
          1476,
          1725,
          1735,
          1712,
          1210,
          969,
          850,
          731,
          665,
          651,
          571,
          505,
          466,
          436,
          567,
          660,
          822,
          922,
          815,
          742,
          616,
          477,
          450,
          497,
          538,
          561,
          589,
          512,
          424,
          378,
          323,
          368,
          398,
          467,
          605
         ],
         "yaxis": "y"
        },
        {
         "hovertemplate": "ticker=VCI<br>quarter_end_time=%{x}<br>earningPerShare=%{y}<extra></extra>",
         "legendgroup": "VCI",
         "line": {
          "color": "#ab63fa",
          "dash": "solid"
         },
         "marker": {
          "symbol": "circle"
         },
         "mode": "lines",
         "name": "VCI",
         "orientation": "v",
         "showlegend": true,
         "type": "scatter",
         "x": [
          "2022-09-30T23:59:59.999999",
          "2022-06-30T23:59:59.999999",
          "2022-03-31T23:59:59.999999",
          "2021-12-31T23:59:59.999999",
          "2021-09-30T23:59:59.999999",
          "2021-06-30T23:59:59.999999",
          "2021-03-31T23:59:59.999999",
          "2020-12-31T23:59:59.999999",
          "2020-09-30T23:59:59.999999",
          "2020-06-30T23:59:59.999999",
          "2020-03-31T23:59:59.999999",
          "2019-12-31T23:59:59.999999",
          "2019-09-30T23:59:59.999999",
          "2019-06-30T23:59:59.999999",
          "2019-03-31T23:59:59.999999",
          "2018-12-31T23:59:59.999999",
          "2018-09-30T23:59:59.999999",
          "2018-06-30T23:59:59.999999",
          "2018-03-31T23:59:59.999999",
          "2017-12-31T23:59:59.999999",
          "2017-09-30T23:59:59.999999",
          "2017-06-30T23:59:59.999999"
         ],
         "xaxis": "x",
         "y": [
          3003,
          3477,
          3729,
          3441,
          3171,
          2634,
          2163,
          1765,
          1422,
          1549,
          1398,
          2081,
          1873,
          1904,
          2080,
          2470,
          2616,
          2735,
          2609,
          1967,
          1753,
          1449
         ],
         "yaxis": "y"
        },
        {
         "hovertemplate": "ticker=STB<br>quarter_end_time=%{x}<br>earningPerShare=%{y}<extra></extra>",
         "legendgroup": "STB",
         "line": {
          "color": "#FFA15A",
          "dash": "solid"
         },
         "marker": {
          "symbol": "circle"
         },
         "mode": "lines",
         "name": "STB",
         "orientation": "v",
         "showlegend": true,
         "type": "scatter",
         "x": [
          "2022-09-30T23:59:59.999999",
          "2022-06-30T23:59:59.999999",
          "2022-03-31T23:59:59.999999",
          "2021-12-31T23:59:59.999999",
          "2021-09-30T23:59:59.999999",
          "2021-06-30T23:59:59.999999",
          "2021-03-31T23:59:59.999999",
          "2020-12-31T23:59:59.999999",
          "2020-09-30T23:59:59.999999",
          "2020-06-30T23:59:59.999999",
          "2020-03-31T23:59:59.999999",
          "2019-12-31T23:59:59.999999",
          "2019-09-30T23:59:59.999999",
          "2019-06-30T23:59:59.999999",
          "2019-03-31T23:59:59.999999",
          "2018-12-31T23:59:59.999999",
          "2018-09-30T23:59:59.999999",
          "2018-06-30T23:59:59.999999",
          "2018-03-31T23:59:59.999999",
          "2017-12-31T23:59:59.999999",
          "2017-09-30T23:59:59.999999",
          "2017-06-30T23:59:59.999999",
          "2017-03-31T23:59:59.999999",
          "2016-12-31T23:59:59.999999",
          "2016-09-30T23:59:59.999999",
          "2016-06-30T23:59:59.999999",
          "2016-03-31T23:59:59.999999",
          "2015-12-31T23:59:59.999999",
          "2015-09-30T23:59:59.999999",
          "2015-06-30T23:59:59.999999",
          "2015-03-31T23:59:59.999999",
          "2014-12-31T23:59:59.999999",
          "2014-09-30T23:59:59.999999",
          "2014-06-30T23:59:59.999999",
          "2014-03-31T23:59:59.999999",
          "2013-12-31T23:59:59.999999",
          "2013-09-30T23:59:59.999999",
          "2013-06-30T23:59:59.999999",
          "2013-03-31T23:59:59.999999",
          "2012-12-31T23:59:59.999999",
          "2012-09-30T23:59:59.999999",
          "2012-06-30T23:59:59.999999",
          "2012-03-31T23:59:59.999999",
          "2011-12-31T23:59:59.999999",
          "2011-09-30T23:59:59.999999",
          "2011-06-30T23:59:59.999999",
          "2011-03-31T23:59:59.999999",
          "2010-12-31T23:59:59.999999",
          "2010-09-30T23:59:59.999999",
          "2010-06-30T23:59:59.999999",
          "2010-03-31T23:59:59.999999",
          "2009-12-31T23:59:59.999999",
          "2009-09-30T23:59:59.999999",
          "2009-06-30T23:59:59.999999",
          "2008-09-30T23:59:59.999999",
          "2007-09-30T23:59:59.999999",
          "2007-06-30T23:59:59.999999"
         ],
         "xaxis": "x",
         "y": [
          2199,
          1896,
          2060,
          1809,
          1798,
          1838,
          1430,
          1422,
          1260,
          1290,
          1271,
          1361,
          1542,
          1205,
          1240,
          992,
          738,
          818,
          753,
          650,
          392,
          304,
          76,
          49,
          -204,
          -17,
          372,
          635,
          1109,
          1176,
          1235,
          1226,
          1357,
          1303,
          1205,
          1235,
          436,
          382,
          322,
          396,
          1140,
          1156,
          1277,
          1145,
          1085,
          1048,
          880,
          800,
          868,
          889,
          1000,
          928,
          800,
          671,
          450,
          547,
          399
         ],
         "yaxis": "y"
        },
        {
         "hovertemplate": "ticker=MBB<br>quarter_end_time=%{x}<br>earningPerShare=%{y}<extra></extra>",
         "legendgroup": "MBB",
         "line": {
          "color": "#19d3f3",
          "dash": "solid"
         },
         "marker": {
          "symbol": "circle"
         },
         "mode": "lines",
         "name": "MBB",
         "orientation": "v",
         "showlegend": true,
         "type": "scatter",
         "x": [
          "2022-09-30T23:59:59.999999",
          "2022-06-30T23:59:59.999999",
          "2022-03-31T23:59:59.999999",
          "2021-12-31T23:59:59.999999",
          "2021-09-30T23:59:59.999999",
          "2021-06-30T23:59:59.999999",
          "2021-03-31T23:59:59.999999",
          "2020-12-31T23:59:59.999999",
          "2020-09-30T23:59:59.999999",
          "2020-06-30T23:59:59.999999",
          "2020-03-31T23:59:59.999999",
          "2019-12-31T23:59:59.999999",
          "2019-09-30T23:59:59.999999",
          "2019-06-30T23:59:59.999999",
          "2019-03-31T23:59:59.999999",
          "2018-12-31T23:59:59.999999",
          "2018-09-30T23:59:59.999999",
          "2018-06-30T23:59:59.999999",
          "2018-03-31T23:59:59.999999",
          "2017-12-31T23:59:59.999999",
          "2017-09-30T23:59:59.999999",
          "2017-06-30T23:59:59.999999",
          "2017-03-31T23:59:59.999999",
          "2016-12-31T23:59:59.999999",
          "2016-09-30T23:59:59.999999",
          "2016-06-30T23:59:59.999999",
          "2016-03-31T23:59:59.999999",
          "2015-12-31T23:59:59.999999",
          "2015-09-30T23:59:59.999999",
          "2015-06-30T23:59:59.999999",
          "2015-03-31T23:59:59.999999",
          "2014-12-31T23:59:59.999999",
          "2014-09-30T23:59:59.999999",
          "2014-06-30T23:59:59.999999",
          "2014-03-31T23:59:59.999999",
          "2013-12-31T23:59:59.999999",
          "2013-09-30T23:59:59.999999",
          "2013-06-30T23:59:59.999999",
          "2013-03-31T23:59:59.999999",
          "2012-12-31T23:59:59.999999",
          "2012-09-30T23:59:59.999999",
          "2012-06-30T23:59:59.999999"
         ],
         "xaxis": "x",
         "y": [
          3876,
          3466,
          3019,
          2800,
          2448,
          2301,
          2228,
          1822,
          1808,
          1768,
          1692,
          2070,
          1943,
          1833,
          1709,
          1627,
          1338,
          1188,
          1089,
          915,
          991,
          875,
          802,
          753,
          717,
          676,
          681,
          659,
          681,
          685,
          653,
          655,
          618,
          594,
          601,
          600,
          566,
          597,
          596,
          611,
          738,
          708
         ],
         "yaxis": "y"
        },
        {
         "hovertemplate": "ticker=MBS<br>quarter_end_time=%{x}<br>earningPerShare=%{y}<extra></extra>",
         "legendgroup": "MBS",
         "line": {
          "color": "#FF6692",
          "dash": "solid"
         },
         "marker": {
          "symbol": "circle"
         },
         "mode": "lines",
         "name": "MBS",
         "orientation": "v",
         "showlegend": true,
         "type": "scatter",
         "x": [
          "2022-09-30T23:59:59.999999",
          "2022-06-30T23:59:59.999999",
          "2022-03-31T23:59:59.999999",
          "2021-12-31T23:59:59.999999",
          "2021-09-30T23:59:59.999999",
          "2021-06-30T23:59:59.999999",
          "2021-03-31T23:59:59.999999",
          "2020-12-31T23:59:59.999999",
          "2020-09-30T23:59:59.999999",
          "2020-06-30T23:59:59.999999",
          "2020-03-31T23:59:59.999999",
          "2019-12-31T23:59:59.999999",
          "2019-09-30T23:59:59.999999",
          "2019-06-30T23:59:59.999999",
          "2019-03-31T23:59:59.999999",
          "2018-12-31T23:59:59.999999",
          "2018-09-30T23:59:59.999999",
          "2018-06-30T23:59:59.999999",
          "2018-03-31T23:59:59.999999",
          "2017-12-31T23:59:59.999999",
          "2017-09-30T23:59:59.999999",
          "2017-06-30T23:59:59.999999"
         ],
         "xaxis": "x",
         "y": [
          1610,
          1774,
          1805,
          1541,
          1349,
          1033,
          899,
          706,
          603,
          555,
          517,
          855,
          637,
          658,
          615,
          662,
          679,
          512,
          325,
          89,
          72,
          68
         ],
         "yaxis": "y"
        }
       ],
       "layout": {
        "legend": {
         "title": {
          "text": "ticker"
         },
         "tracegroupgap": 0
        },
        "template": {
         "data": {
          "bar": [
           {
            "error_x": {
             "color": "#2a3f5f"
            },
            "error_y": {
             "color": "#2a3f5f"
            },
            "marker": {
             "line": {
              "color": "#E5ECF6",
              "width": 0.5
             },
             "pattern": {
              "fillmode": "overlay",
              "size": 10,
              "solidity": 0.2
             }
            },
            "type": "bar"
           }
          ],
          "barpolar": [
           {
            "marker": {
             "line": {
              "color": "#E5ECF6",
              "width": 0.5
             },
             "pattern": {
              "fillmode": "overlay",
              "size": 10,
              "solidity": 0.2
             }
            },
            "type": "barpolar"
           }
          ],
          "carpet": [
           {
            "aaxis": {
             "endlinecolor": "#2a3f5f",
             "gridcolor": "white",
             "linecolor": "white",
             "minorgridcolor": "white",
             "startlinecolor": "#2a3f5f"
            },
            "baxis": {
             "endlinecolor": "#2a3f5f",
             "gridcolor": "white",
             "linecolor": "white",
             "minorgridcolor": "white",
             "startlinecolor": "#2a3f5f"
            },
            "type": "carpet"
           }
          ],
          "choropleth": [
           {
            "colorbar": {
             "outlinewidth": 0,
             "ticks": ""
            },
            "type": "choropleth"
           }
          ],
          "contour": [
           {
            "colorbar": {
             "outlinewidth": 0,
             "ticks": ""
            },
            "colorscale": [
             [
              0,
              "#0d0887"
             ],
             [
              0.1111111111111111,
              "#46039f"
             ],
             [
              0.2222222222222222,
              "#7201a8"
             ],
             [
              0.3333333333333333,
              "#9c179e"
             ],
             [
              0.4444444444444444,
              "#bd3786"
             ],
             [
              0.5555555555555556,
              "#d8576b"
             ],
             [
              0.6666666666666666,
              "#ed7953"
             ],
             [
              0.7777777777777778,
              "#fb9f3a"
             ],
             [
              0.8888888888888888,
              "#fdca26"
             ],
             [
              1,
              "#f0f921"
             ]
            ],
            "type": "contour"
           }
          ],
          "contourcarpet": [
           {
            "colorbar": {
             "outlinewidth": 0,
             "ticks": ""
            },
            "type": "contourcarpet"
           }
          ],
          "heatmap": [
           {
            "colorbar": {
             "outlinewidth": 0,
             "ticks": ""
            },
            "colorscale": [
             [
              0,
              "#0d0887"
             ],
             [
              0.1111111111111111,
              "#46039f"
             ],
             [
              0.2222222222222222,
              "#7201a8"
             ],
             [
              0.3333333333333333,
              "#9c179e"
             ],
             [
              0.4444444444444444,
              "#bd3786"
             ],
             [
              0.5555555555555556,
              "#d8576b"
             ],
             [
              0.6666666666666666,
              "#ed7953"
             ],
             [
              0.7777777777777778,
              "#fb9f3a"
             ],
             [
              0.8888888888888888,
              "#fdca26"
             ],
             [
              1,
              "#f0f921"
             ]
            ],
            "type": "heatmap"
           }
          ],
          "heatmapgl": [
           {
            "colorbar": {
             "outlinewidth": 0,
             "ticks": ""
            },
            "colorscale": [
             [
              0,
              "#0d0887"
             ],
             [
              0.1111111111111111,
              "#46039f"
             ],
             [
              0.2222222222222222,
              "#7201a8"
             ],
             [
              0.3333333333333333,
              "#9c179e"
             ],
             [
              0.4444444444444444,
              "#bd3786"
             ],
             [
              0.5555555555555556,
              "#d8576b"
             ],
             [
              0.6666666666666666,
              "#ed7953"
             ],
             [
              0.7777777777777778,
              "#fb9f3a"
             ],
             [
              0.8888888888888888,
              "#fdca26"
             ],
             [
              1,
              "#f0f921"
             ]
            ],
            "type": "heatmapgl"
           }
          ],
          "histogram": [
           {
            "marker": {
             "pattern": {
              "fillmode": "overlay",
              "size": 10,
              "solidity": 0.2
             }
            },
            "type": "histogram"
           }
          ],
          "histogram2d": [
           {
            "colorbar": {
             "outlinewidth": 0,
             "ticks": ""
            },
            "colorscale": [
             [
              0,
              "#0d0887"
             ],
             [
              0.1111111111111111,
              "#46039f"
             ],
             [
              0.2222222222222222,
              "#7201a8"
             ],
             [
              0.3333333333333333,
              "#9c179e"
             ],
             [
              0.4444444444444444,
              "#bd3786"
             ],
             [
              0.5555555555555556,
              "#d8576b"
             ],
             [
              0.6666666666666666,
              "#ed7953"
             ],
             [
              0.7777777777777778,
              "#fb9f3a"
             ],
             [
              0.8888888888888888,
              "#fdca26"
             ],
             [
              1,
              "#f0f921"
             ]
            ],
            "type": "histogram2d"
           }
          ],
          "histogram2dcontour": [
           {
            "colorbar": {
             "outlinewidth": 0,
             "ticks": ""
            },
            "colorscale": [
             [
              0,
              "#0d0887"
             ],
             [
              0.1111111111111111,
              "#46039f"
             ],
             [
              0.2222222222222222,
              "#7201a8"
             ],
             [
              0.3333333333333333,
              "#9c179e"
             ],
             [
              0.4444444444444444,
              "#bd3786"
             ],
             [
              0.5555555555555556,
              "#d8576b"
             ],
             [
              0.6666666666666666,
              "#ed7953"
             ],
             [
              0.7777777777777778,
              "#fb9f3a"
             ],
             [
              0.8888888888888888,
              "#fdca26"
             ],
             [
              1,
              "#f0f921"
             ]
            ],
            "type": "histogram2dcontour"
           }
          ],
          "mesh3d": [
           {
            "colorbar": {
             "outlinewidth": 0,
             "ticks": ""
            },
            "type": "mesh3d"
           }
          ],
          "parcoords": [
           {
            "line": {
             "colorbar": {
              "outlinewidth": 0,
              "ticks": ""
             }
            },
            "type": "parcoords"
           }
          ],
          "pie": [
           {
            "automargin": true,
            "type": "pie"
           }
          ],
          "scatter": [
           {
            "fillpattern": {
             "fillmode": "overlay",
             "size": 10,
             "solidity": 0.2
            },
            "type": "scatter"
           }
          ],
          "scatter3d": [
           {
            "line": {
             "colorbar": {
              "outlinewidth": 0,
              "ticks": ""
             }
            },
            "marker": {
             "colorbar": {
              "outlinewidth": 0,
              "ticks": ""
             }
            },
            "type": "scatter3d"
           }
          ],
          "scattercarpet": [
           {
            "marker": {
             "colorbar": {
              "outlinewidth": 0,
              "ticks": ""
             }
            },
            "type": "scattercarpet"
           }
          ],
          "scattergeo": [
           {
            "marker": {
             "colorbar": {
              "outlinewidth": 0,
              "ticks": ""
             }
            },
            "type": "scattergeo"
           }
          ],
          "scattergl": [
           {
            "marker": {
             "colorbar": {
              "outlinewidth": 0,
              "ticks": ""
             }
            },
            "type": "scattergl"
           }
          ],
          "scattermapbox": [
           {
            "marker": {
             "colorbar": {
              "outlinewidth": 0,
              "ticks": ""
             }
            },
            "type": "scattermapbox"
           }
          ],
          "scatterpolar": [
           {
            "marker": {
             "colorbar": {
              "outlinewidth": 0,
              "ticks": ""
             }
            },
            "type": "scatterpolar"
           }
          ],
          "scatterpolargl": [
           {
            "marker": {
             "colorbar": {
              "outlinewidth": 0,
              "ticks": ""
             }
            },
            "type": "scatterpolargl"
           }
          ],
          "scatterternary": [
           {
            "marker": {
             "colorbar": {
              "outlinewidth": 0,
              "ticks": ""
             }
            },
            "type": "scatterternary"
           }
          ],
          "surface": [
           {
            "colorbar": {
             "outlinewidth": 0,
             "ticks": ""
            },
            "colorscale": [
             [
              0,
              "#0d0887"
             ],
             [
              0.1111111111111111,
              "#46039f"
             ],
             [
              0.2222222222222222,
              "#7201a8"
             ],
             [
              0.3333333333333333,
              "#9c179e"
             ],
             [
              0.4444444444444444,
              "#bd3786"
             ],
             [
              0.5555555555555556,
              "#d8576b"
             ],
             [
              0.6666666666666666,
              "#ed7953"
             ],
             [
              0.7777777777777778,
              "#fb9f3a"
             ],
             [
              0.8888888888888888,
              "#fdca26"
             ],
             [
              1,
              "#f0f921"
             ]
            ],
            "type": "surface"
           }
          ],
          "table": [
           {
            "cells": {
             "fill": {
              "color": "#EBF0F8"
             },
             "line": {
              "color": "white"
             }
            },
            "header": {
             "fill": {
              "color": "#C8D4E3"
             },
             "line": {
              "color": "white"
             }
            },
            "type": "table"
           }
          ]
         },
         "layout": {
          "annotationdefaults": {
           "arrowcolor": "#2a3f5f",
           "arrowhead": 0,
           "arrowwidth": 1
          },
          "autotypenumbers": "strict",
          "coloraxis": {
           "colorbar": {
            "outlinewidth": 0,
            "ticks": ""
           }
          },
          "colorscale": {
           "diverging": [
            [
             0,
             "#8e0152"
            ],
            [
             0.1,
             "#c51b7d"
            ],
            [
             0.2,
             "#de77ae"
            ],
            [
             0.3,
             "#f1b6da"
            ],
            [
             0.4,
             "#fde0ef"
            ],
            [
             0.5,
             "#f7f7f7"
            ],
            [
             0.6,
             "#e6f5d0"
            ],
            [
             0.7,
             "#b8e186"
            ],
            [
             0.8,
             "#7fbc41"
            ],
            [
             0.9,
             "#4d9221"
            ],
            [
             1,
             "#276419"
            ]
           ],
           "sequential": [
            [
             0,
             "#0d0887"
            ],
            [
             0.1111111111111111,
             "#46039f"
            ],
            [
             0.2222222222222222,
             "#7201a8"
            ],
            [
             0.3333333333333333,
             "#9c179e"
            ],
            [
             0.4444444444444444,
             "#bd3786"
            ],
            [
             0.5555555555555556,
             "#d8576b"
            ],
            [
             0.6666666666666666,
             "#ed7953"
            ],
            [
             0.7777777777777778,
             "#fb9f3a"
            ],
            [
             0.8888888888888888,
             "#fdca26"
            ],
            [
             1,
             "#f0f921"
            ]
           ],
           "sequentialminus": [
            [
             0,
             "#0d0887"
            ],
            [
             0.1111111111111111,
             "#46039f"
            ],
            [
             0.2222222222222222,
             "#7201a8"
            ],
            [
             0.3333333333333333,
             "#9c179e"
            ],
            [
             0.4444444444444444,
             "#bd3786"
            ],
            [
             0.5555555555555556,
             "#d8576b"
            ],
            [
             0.6666666666666666,
             "#ed7953"
            ],
            [
             0.7777777777777778,
             "#fb9f3a"
            ],
            [
             0.8888888888888888,
             "#fdca26"
            ],
            [
             1,
             "#f0f921"
            ]
           ]
          },
          "colorway": [
           "#636efa",
           "#EF553B",
           "#00cc96",
           "#ab63fa",
           "#FFA15A",
           "#19d3f3",
           "#FF6692",
           "#B6E880",
           "#FF97FF",
           "#FECB52"
          ],
          "font": {
           "color": "#2a3f5f"
          },
          "geo": {
           "bgcolor": "white",
           "lakecolor": "white",
           "landcolor": "#E5ECF6",
           "showlakes": true,
           "showland": true,
           "subunitcolor": "white"
          },
          "hoverlabel": {
           "align": "left"
          },
          "hovermode": "closest",
          "mapbox": {
           "style": "light"
          },
          "paper_bgcolor": "white",
          "plot_bgcolor": "#E5ECF6",
          "polar": {
           "angularaxis": {
            "gridcolor": "white",
            "linecolor": "white",
            "ticks": ""
           },
           "bgcolor": "#E5ECF6",
           "radialaxis": {
            "gridcolor": "white",
            "linecolor": "white",
            "ticks": ""
           }
          },
          "scene": {
           "xaxis": {
            "backgroundcolor": "#E5ECF6",
            "gridcolor": "white",
            "gridwidth": 2,
            "linecolor": "white",
            "showbackground": true,
            "ticks": "",
            "zerolinecolor": "white"
           },
           "yaxis": {
            "backgroundcolor": "#E5ECF6",
            "gridcolor": "white",
            "gridwidth": 2,
            "linecolor": "white",
            "showbackground": true,
            "ticks": "",
            "zerolinecolor": "white"
           },
           "zaxis": {
            "backgroundcolor": "#E5ECF6",
            "gridcolor": "white",
            "gridwidth": 2,
            "linecolor": "white",
            "showbackground": true,
            "ticks": "",
            "zerolinecolor": "white"
           }
          },
          "shapedefaults": {
           "line": {
            "color": "#2a3f5f"
           }
          },
          "ternary": {
           "aaxis": {
            "gridcolor": "white",
            "linecolor": "white",
            "ticks": ""
           },
           "baxis": {
            "gridcolor": "white",
            "linecolor": "white",
            "ticks": ""
           },
           "bgcolor": "#E5ECF6",
           "caxis": {
            "gridcolor": "white",
            "linecolor": "white",
            "ticks": ""
           }
          },
          "title": {
           "x": 0.05
          },
          "xaxis": {
           "automargin": true,
           "gridcolor": "white",
           "linecolor": "white",
           "ticks": "",
           "title": {
            "standoff": 15
           },
           "zerolinecolor": "white",
           "zerolinewidth": 2
          },
          "yaxis": {
           "automargin": true,
           "gridcolor": "white",
           "linecolor": "white",
           "ticks": "",
           "title": {
            "standoff": 15
           },
           "zerolinecolor": "white",
           "zerolinewidth": 2
          }
         }
        },
        "title": {
         "text": "EPS"
        },
        "xaxis": {
         "anchor": "y",
         "domain": [
          0,
          1
         ],
         "title": {
          "text": "quarter_end_time"
         }
        },
        "yaxis": {
         "anchor": "x",
         "domain": [
          0,
          1
         ],
         "title": {
          "text": "earningPerShare"
         }
        }
       }
      }
     },
     "metadata": {},
     "output_type": "display_data"
    }
   ],
   "source": [
    "import plotly.express as px\n",
    "\n",
    "fig = px.line(balancesheet_financialratio_incomestatement_per_group, x=\"quarter_end_time\", y=\"earningPerShare\", color=\"ticker\", title='EPS')\n",
    "fig.show()"
   ]
  },
  {
   "cell_type": "markdown",
   "metadata": {},
   "source": [
    "## P/E"
   ]
  },
  {
   "cell_type": "code",
   "execution_count": 64,
   "metadata": {},
   "outputs": [
    {
     "data": {
      "application/vnd.plotly.v1+json": {
       "config": {
        "plotlyServerURL": "https://plot.ly"
       },
       "data": [
        {
         "hovertemplate": "ticker=HPG<br>quarter_end_time=%{x}<br>priceToEarning=%{y}<extra></extra>",
         "legendgroup": "HPG",
         "line": {
          "color": "#636efa",
          "dash": "solid"
         },
         "marker": {
          "symbol": "circle"
         },
         "mode": "lines",
         "name": "HPG",
         "orientation": "v",
         "showlegend": true,
         "type": "scatter",
         "x": [
          "2022-09-30T23:59:59.999999",
          "2022-06-30T23:59:59.999999",
          "2022-03-31T23:59:59.999999",
          "2021-12-31T23:59:59.999999",
          "2021-09-30T23:59:59.999999",
          "2021-06-30T23:59:59.999999",
          "2021-03-31T23:59:59.999999",
          "2020-12-31T23:59:59.999999",
          "2020-09-30T23:59:59.999999",
          "2020-06-30T23:59:59.999999",
          "2020-03-31T23:59:59.999999",
          "2019-12-31T23:59:59.999999",
          "2019-09-30T23:59:59.999999",
          "2019-06-30T23:59:59.999999",
          "2019-03-31T23:59:59.999999",
          "2018-12-31T23:59:59.999999",
          "2018-09-30T23:59:59.999999",
          "2018-06-30T23:59:59.999999",
          "2018-03-31T23:59:59.999999",
          "2017-12-31T23:59:59.999999",
          "2017-09-30T23:59:59.999999",
          "2017-06-30T23:59:59.999999",
          "2017-03-31T23:59:59.999999",
          "2016-12-31T23:59:59.999999",
          "2016-09-30T23:59:59.999999",
          "2016-06-30T23:59:59.999999",
          "2016-03-31T23:59:59.999999",
          "2015-12-31T23:59:59.999999",
          "2015-09-30T23:59:59.999999",
          "2015-06-30T23:59:59.999999",
          "2015-03-31T23:59:59.999999"
         ],
         "xaxis": "x",
         "y": [
          6.3,
          4.3,
          5.6,
          5.9,
          7.3,
          9,
          8.4,
          10,
          8,
          8.2,
          5.6,
          8.4,
          8,
          7.9,
          8.2,
          7.5,
          9.5,
          8.9,
          10.8,
          8.6,
          7.6,
          6.7,
          5.6,
          6,
          8.1,
          6.6,
          5.9,
          6.5,
          7,
          7,
          7.6
         ],
         "yaxis": "y"
        },
        {
         "hovertemplate": "ticker=PVS<br>quarter_end_time=%{x}<br>priceToEarning=%{y}<extra></extra>",
         "legendgroup": "PVS",
         "line": {
          "color": "#EF553B",
          "dash": "solid"
         },
         "marker": {
          "symbol": "circle"
         },
         "mode": "lines",
         "name": "PVS",
         "orientation": "v",
         "showlegend": true,
         "type": "scatter",
         "x": [
          "2022-09-30T23:59:59.999999",
          "2022-06-30T23:59:59.999999",
          "2022-03-31T23:59:59.999999",
          "2021-12-31T23:59:59.999999",
          "2021-09-30T23:59:59.999999",
          "2021-06-30T23:59:59.999999",
          "2021-03-31T23:59:59.999999",
          "2020-12-31T23:59:59.999999",
          "2020-09-30T23:59:59.999999",
          "2020-06-30T23:59:59.999999",
          "2020-03-31T23:59:59.999999",
          "2019-12-31T23:59:59.999999",
          "2019-09-30T23:59:59.999999",
          "2019-06-30T23:59:59.999999",
          "2019-03-31T23:59:59.999999",
          "2018-12-31T23:59:59.999999",
          "2018-09-30T23:59:59.999999",
          "2018-06-30T23:59:59.999999",
          "2018-03-31T23:59:59.999999",
          "2017-12-31T23:59:59.999999",
          "2017-09-30T23:59:59.999999",
          "2017-06-30T23:59:59.999999",
          "2017-03-31T23:59:59.999999",
          "2016-12-31T23:59:59.999999",
          "2016-09-30T23:59:59.999999",
          "2016-06-30T23:59:59.999999",
          "2016-03-31T23:59:59.999999",
          "2015-12-31T23:59:59.999999",
          "2015-09-30T23:59:59.999999",
          "2015-06-30T23:59:59.999999",
          "2015-03-31T23:59:59.999999"
         ],
         "xaxis": "x",
         "y": [
          21.8,
          20.9,
          23.8,
          21,
          22.9,
          23.4,
          15.5,
          12.6,
          6.1,
          6.2,
          5,
          7.3,
          8.6,
          8.4,
          7.4,
          7,
          10.5,
          9.1,
          10,
          10.9,
          7.1,
          7,
          6.6,
          6,
          7,
          4.6,
          3.5,
          3.7,
          3.7,
          4.6,
          3.9
         ],
         "yaxis": "y"
        },
        {
         "hovertemplate": "ticker=HCM<br>quarter_end_time=%{x}<br>priceToEarning=%{y}<extra></extra>",
         "legendgroup": "HCM",
         "line": {
          "color": "#00cc96",
          "dash": "solid"
         },
         "marker": {
          "symbol": "circle"
         },
         "mode": "lines",
         "name": "HCM",
         "orientation": "v",
         "showlegend": true,
         "type": "scatter",
         "x": [
          "2022-09-30T23:59:59.999999",
          "2022-06-30T23:59:59.999999",
          "2022-03-31T23:59:59.999999",
          "2021-12-31T23:59:59.999999",
          "2021-09-30T23:59:59.999999",
          "2021-06-30T23:59:59.999999",
          "2021-03-31T23:59:59.999999",
          "2020-12-31T23:59:59.999999",
          "2020-09-30T23:59:59.999999",
          "2020-06-30T23:59:59.999999",
          "2020-03-31T23:59:59.999999",
          "2019-12-31T23:59:59.999999",
          "2019-09-30T23:59:59.999999",
          "2019-06-30T23:59:59.999999",
          "2019-03-31T23:59:59.999999",
          "2018-12-31T23:59:59.999999",
          "2018-09-30T23:59:59.999999",
          "2018-06-30T23:59:59.999999",
          "2018-03-31T23:59:59.999999",
          "2017-12-31T23:59:59.999999",
          "2017-09-30T23:59:59.999999",
          "2017-06-30T23:59:59.999999",
          "2017-03-31T23:59:59.999999",
          "2016-12-31T23:59:59.999999",
          "2016-09-30T23:59:59.999999",
          "2016-06-30T23:59:59.999999",
          "2016-03-31T23:59:59.999999",
          "2015-12-31T23:59:59.999999",
          "2015-09-30T23:59:59.999999",
          "2015-06-30T23:59:59.999999",
          "2015-03-31T23:59:59.999999"
         ],
         "xaxis": "x",
         "y": [
          10.8,
          8.4,
          14.1,
          18.1,
          16.9,
          19.9,
          13.9,
          20,
          13.4,
          12,
          7.9,
          16,
          20.4,
          18.7,
          19.2,
          10.4,
          13,
          10.6,
          14.8,
          15.6,
          13.2,
          16.5,
          13.5,
          12.4,
          13.5,
          15.6,
          16.6,
          19.1,
          23.6,
          18.5,
          13
         ],
         "yaxis": "y"
        },
        {
         "hovertemplate": "ticker=VCI<br>quarter_end_time=%{x}<br>priceToEarning=%{y}<extra></extra>",
         "legendgroup": "VCI",
         "line": {
          "color": "#ab63fa",
          "dash": "solid"
         },
         "marker": {
          "symbol": "circle"
         },
         "mode": "lines",
         "name": "VCI",
         "orientation": "v",
         "showlegend": true,
         "type": "scatter",
         "x": [
          "2022-09-30T23:59:59.999999",
          "2022-06-30T23:59:59.999999",
          "2022-03-31T23:59:59.999999",
          "2021-12-31T23:59:59.999999",
          "2021-09-30T23:59:59.999999",
          "2021-06-30T23:59:59.999999",
          "2021-03-31T23:59:59.999999",
          "2020-12-31T23:59:59.999999",
          "2020-09-30T23:59:59.999999",
          "2020-06-30T23:59:59.999999",
          "2020-03-31T23:59:59.999999",
          "2019-12-31T23:59:59.999999",
          "2019-09-30T23:59:59.999999",
          "2019-06-30T23:59:59.999999",
          "2019-03-31T23:59:59.999999",
          "2018-12-31T23:59:59.999999",
          "2018-09-30T23:59:59.999999",
          "2018-06-30T23:59:59.999999",
          "2018-03-31T23:59:59.999999",
          "2017-12-31T23:59:59.999999",
          "2017-09-30T23:59:59.999999"
         ],
         "xaxis": "x",
         "y": [
          8.4,
          7.3,
          11.6,
          16.3,
          14.2,
          15,
          10.8,
          12.1,
          7.3,
          4.5,
          3.4,
          6.3,
          8.2,
          7.1,
          7.9,
          8.1,
          10.6,
          9.4,
          13,
          12.4,
          10.7
         ],
         "yaxis": "y"
        },
        {
         "hovertemplate": "ticker=STB<br>quarter_end_time=%{x}<br>priceToEarning=%{y}<extra></extra>",
         "legendgroup": "STB",
         "line": {
          "color": "#FFA15A",
          "dash": "solid"
         },
         "marker": {
          "symbol": "circle"
         },
         "mode": "lines",
         "name": "STB",
         "orientation": "v",
         "showlegend": true,
         "type": "scatter",
         "x": [
          "2022-09-30T23:59:59.999999",
          "2022-06-30T23:59:59.999999",
          "2022-03-31T23:59:59.999999",
          "2021-12-31T23:59:59.999999",
          "2021-09-30T23:59:59.999999",
          "2021-06-30T23:59:59.999999",
          "2021-03-31T23:59:59.999999",
          "2020-12-31T23:59:59.999999",
          "2020-09-30T23:59:59.999999",
          "2020-06-30T23:59:59.999999",
          "2020-03-31T23:59:59.999999",
          "2019-12-31T23:59:59.999999",
          "2019-09-30T23:59:59.999999",
          "2019-06-30T23:59:59.999999",
          "2019-03-31T23:59:59.999999",
          "2018-12-31T23:59:59.999999",
          "2018-09-30T23:59:59.999999",
          "2018-06-30T23:59:59.999999",
          "2018-03-31T23:59:59.999999",
          "2017-12-31T23:59:59.999999",
          "2017-09-30T23:59:59.999999",
          "2017-06-30T23:59:59.999999",
          "2016-03-31T23:59:59.999999",
          "2015-12-31T23:59:59.999999",
          "2015-09-30T23:59:59.999999",
          "2015-06-30T23:59:59.999999",
          "2015-03-31T23:59:59.999999"
         ],
         "xaxis": "x",
         "y": [
          9.5,
          11.3,
          15.4,
          17.4,
          14.3,
          16.6,
          15,
          11.9,
          10.9,
          8.3,
          5.7,
          7.4,
          6.8,
          9.4,
          9.8,
          12,
          18.3,
          14.1,
          20.6,
          19.8,
          31.9,
          45.2,
          27.7,
          20.6,
          12.3,
          13.2,
          12.6
         ],
         "yaxis": "y"
        },
        {
         "hovertemplate": "ticker=MBB<br>quarter_end_time=%{x}<br>priceToEarning=%{y}<extra></extra>",
         "legendgroup": "MBB",
         "line": {
          "color": "#19d3f3",
          "dash": "solid"
         },
         "marker": {
          "symbol": "circle"
         },
         "mode": "lines",
         "name": "MBB",
         "orientation": "v",
         "showlegend": true,
         "type": "scatter",
         "x": [
          "2022-09-30T23:59:59.999999",
          "2022-06-30T23:59:59.999999",
          "2022-03-31T23:59:59.999999",
          "2021-12-31T23:59:59.999999",
          "2021-09-30T23:59:59.999999",
          "2021-06-30T23:59:59.999999",
          "2021-03-31T23:59:59.999999",
          "2020-12-31T23:59:59.999999",
          "2020-09-30T23:59:59.999999",
          "2020-06-30T23:59:59.999999",
          "2020-03-31T23:59:59.999999",
          "2019-12-31T23:59:59.999999",
          "2019-09-30T23:59:59.999999",
          "2019-06-30T23:59:59.999999",
          "2019-03-31T23:59:59.999999",
          "2018-12-31T23:59:59.999999",
          "2018-09-30T23:59:59.999999",
          "2018-06-30T23:59:59.999999",
          "2018-03-31T23:59:59.999999",
          "2017-12-31T23:59:59.999999",
          "2017-09-30T23:59:59.999999",
          "2017-06-30T23:59:59.999999",
          "2017-03-31T23:59:59.999999",
          "2016-12-31T23:59:59.999999",
          "2016-09-30T23:59:59.999999",
          "2016-06-30T23:59:59.999999",
          "2016-03-31T23:59:59.999999",
          "2015-12-31T23:59:59.999999",
          "2015-09-30T23:59:59.999999",
          "2015-06-30T23:59:59.999999",
          "2015-03-31T23:59:59.999999"
         ],
         "xaxis": "x",
         "y": [
          4.9,
          5.8,
          9.1,
          8.6,
          9.5,
          11.6,
          7.8,
          7.8,
          5.9,
          5,
          4.3,
          6.5,
          7.6,
          6.8,
          7.6,
          6.9,
          10,
          10.8,
          15.5,
          13.3,
          10.5,
          11.6,
          8.7,
          8.1,
          8.6,
          9.2,
          8.7,
          9.2,
          9.1,
          8.6,
          8.2
         ],
         "yaxis": "y"
        },
        {
         "hovertemplate": "ticker=MBS<br>quarter_end_time=%{x}<br>priceToEarning=%{y}<extra></extra>",
         "legendgroup": "MBS",
         "line": {
          "color": "#FF6692",
          "dash": "solid"
         },
         "marker": {
          "symbol": "circle"
         },
         "mode": "lines",
         "name": "MBS",
         "orientation": "v",
         "showlegend": true,
         "type": "scatter",
         "x": [
          "2022-09-30T23:59:59.999999",
          "2022-06-30T23:59:59.999999",
          "2022-03-31T23:59:59.999999",
          "2021-12-31T23:59:59.999999",
          "2021-09-30T23:59:59.999999",
          "2021-06-30T23:59:59.999999",
          "2021-03-31T23:59:59.999999",
          "2020-12-31T23:59:59.999999",
          "2020-09-30T23:59:59.999999",
          "2020-06-30T23:59:59.999999",
          "2020-03-31T23:59:59.999999",
          "2019-12-31T23:59:59.999999",
          "2019-09-30T23:59:59.999999",
          "2019-06-30T23:59:59.999999",
          "2019-03-31T23:59:59.999999",
          "2018-12-31T23:59:59.999999",
          "2018-09-30T23:59:59.999999",
          "2018-06-30T23:59:59.999999",
          "2018-03-31T23:59:59.999999"
         ],
         "xaxis": "x",
         "y": [
          9.1,
          7.2,
          14.4,
          20.1,
          18.5,
          23.3,
          14.1,
          13.2,
          9.6,
          9.6,
          8.3,
          10,
          14.2,
          13.4,
          15.5,
          12.4,
          16.2,
          17.6,
          34
         ],
         "yaxis": "y"
        }
       ],
       "layout": {
        "legend": {
         "title": {
          "text": "ticker"
         },
         "tracegroupgap": 0
        },
        "template": {
         "data": {
          "bar": [
           {
            "error_x": {
             "color": "#2a3f5f"
            },
            "error_y": {
             "color": "#2a3f5f"
            },
            "marker": {
             "line": {
              "color": "#E5ECF6",
              "width": 0.5
             },
             "pattern": {
              "fillmode": "overlay",
              "size": 10,
              "solidity": 0.2
             }
            },
            "type": "bar"
           }
          ],
          "barpolar": [
           {
            "marker": {
             "line": {
              "color": "#E5ECF6",
              "width": 0.5
             },
             "pattern": {
              "fillmode": "overlay",
              "size": 10,
              "solidity": 0.2
             }
            },
            "type": "barpolar"
           }
          ],
          "carpet": [
           {
            "aaxis": {
             "endlinecolor": "#2a3f5f",
             "gridcolor": "white",
             "linecolor": "white",
             "minorgridcolor": "white",
             "startlinecolor": "#2a3f5f"
            },
            "baxis": {
             "endlinecolor": "#2a3f5f",
             "gridcolor": "white",
             "linecolor": "white",
             "minorgridcolor": "white",
             "startlinecolor": "#2a3f5f"
            },
            "type": "carpet"
           }
          ],
          "choropleth": [
           {
            "colorbar": {
             "outlinewidth": 0,
             "ticks": ""
            },
            "type": "choropleth"
           }
          ],
          "contour": [
           {
            "colorbar": {
             "outlinewidth": 0,
             "ticks": ""
            },
            "colorscale": [
             [
              0,
              "#0d0887"
             ],
             [
              0.1111111111111111,
              "#46039f"
             ],
             [
              0.2222222222222222,
              "#7201a8"
             ],
             [
              0.3333333333333333,
              "#9c179e"
             ],
             [
              0.4444444444444444,
              "#bd3786"
             ],
             [
              0.5555555555555556,
              "#d8576b"
             ],
             [
              0.6666666666666666,
              "#ed7953"
             ],
             [
              0.7777777777777778,
              "#fb9f3a"
             ],
             [
              0.8888888888888888,
              "#fdca26"
             ],
             [
              1,
              "#f0f921"
             ]
            ],
            "type": "contour"
           }
          ],
          "contourcarpet": [
           {
            "colorbar": {
             "outlinewidth": 0,
             "ticks": ""
            },
            "type": "contourcarpet"
           }
          ],
          "heatmap": [
           {
            "colorbar": {
             "outlinewidth": 0,
             "ticks": ""
            },
            "colorscale": [
             [
              0,
              "#0d0887"
             ],
             [
              0.1111111111111111,
              "#46039f"
             ],
             [
              0.2222222222222222,
              "#7201a8"
             ],
             [
              0.3333333333333333,
              "#9c179e"
             ],
             [
              0.4444444444444444,
              "#bd3786"
             ],
             [
              0.5555555555555556,
              "#d8576b"
             ],
             [
              0.6666666666666666,
              "#ed7953"
             ],
             [
              0.7777777777777778,
              "#fb9f3a"
             ],
             [
              0.8888888888888888,
              "#fdca26"
             ],
             [
              1,
              "#f0f921"
             ]
            ],
            "type": "heatmap"
           }
          ],
          "heatmapgl": [
           {
            "colorbar": {
             "outlinewidth": 0,
             "ticks": ""
            },
            "colorscale": [
             [
              0,
              "#0d0887"
             ],
             [
              0.1111111111111111,
              "#46039f"
             ],
             [
              0.2222222222222222,
              "#7201a8"
             ],
             [
              0.3333333333333333,
              "#9c179e"
             ],
             [
              0.4444444444444444,
              "#bd3786"
             ],
             [
              0.5555555555555556,
              "#d8576b"
             ],
             [
              0.6666666666666666,
              "#ed7953"
             ],
             [
              0.7777777777777778,
              "#fb9f3a"
             ],
             [
              0.8888888888888888,
              "#fdca26"
             ],
             [
              1,
              "#f0f921"
             ]
            ],
            "type": "heatmapgl"
           }
          ],
          "histogram": [
           {
            "marker": {
             "pattern": {
              "fillmode": "overlay",
              "size": 10,
              "solidity": 0.2
             }
            },
            "type": "histogram"
           }
          ],
          "histogram2d": [
           {
            "colorbar": {
             "outlinewidth": 0,
             "ticks": ""
            },
            "colorscale": [
             [
              0,
              "#0d0887"
             ],
             [
              0.1111111111111111,
              "#46039f"
             ],
             [
              0.2222222222222222,
              "#7201a8"
             ],
             [
              0.3333333333333333,
              "#9c179e"
             ],
             [
              0.4444444444444444,
              "#bd3786"
             ],
             [
              0.5555555555555556,
              "#d8576b"
             ],
             [
              0.6666666666666666,
              "#ed7953"
             ],
             [
              0.7777777777777778,
              "#fb9f3a"
             ],
             [
              0.8888888888888888,
              "#fdca26"
             ],
             [
              1,
              "#f0f921"
             ]
            ],
            "type": "histogram2d"
           }
          ],
          "histogram2dcontour": [
           {
            "colorbar": {
             "outlinewidth": 0,
             "ticks": ""
            },
            "colorscale": [
             [
              0,
              "#0d0887"
             ],
             [
              0.1111111111111111,
              "#46039f"
             ],
             [
              0.2222222222222222,
              "#7201a8"
             ],
             [
              0.3333333333333333,
              "#9c179e"
             ],
             [
              0.4444444444444444,
              "#bd3786"
             ],
             [
              0.5555555555555556,
              "#d8576b"
             ],
             [
              0.6666666666666666,
              "#ed7953"
             ],
             [
              0.7777777777777778,
              "#fb9f3a"
             ],
             [
              0.8888888888888888,
              "#fdca26"
             ],
             [
              1,
              "#f0f921"
             ]
            ],
            "type": "histogram2dcontour"
           }
          ],
          "mesh3d": [
           {
            "colorbar": {
             "outlinewidth": 0,
             "ticks": ""
            },
            "type": "mesh3d"
           }
          ],
          "parcoords": [
           {
            "line": {
             "colorbar": {
              "outlinewidth": 0,
              "ticks": ""
             }
            },
            "type": "parcoords"
           }
          ],
          "pie": [
           {
            "automargin": true,
            "type": "pie"
           }
          ],
          "scatter": [
           {
            "fillpattern": {
             "fillmode": "overlay",
             "size": 10,
             "solidity": 0.2
            },
            "type": "scatter"
           }
          ],
          "scatter3d": [
           {
            "line": {
             "colorbar": {
              "outlinewidth": 0,
              "ticks": ""
             }
            },
            "marker": {
             "colorbar": {
              "outlinewidth": 0,
              "ticks": ""
             }
            },
            "type": "scatter3d"
           }
          ],
          "scattercarpet": [
           {
            "marker": {
             "colorbar": {
              "outlinewidth": 0,
              "ticks": ""
             }
            },
            "type": "scattercarpet"
           }
          ],
          "scattergeo": [
           {
            "marker": {
             "colorbar": {
              "outlinewidth": 0,
              "ticks": ""
             }
            },
            "type": "scattergeo"
           }
          ],
          "scattergl": [
           {
            "marker": {
             "colorbar": {
              "outlinewidth": 0,
              "ticks": ""
             }
            },
            "type": "scattergl"
           }
          ],
          "scattermapbox": [
           {
            "marker": {
             "colorbar": {
              "outlinewidth": 0,
              "ticks": ""
             }
            },
            "type": "scattermapbox"
           }
          ],
          "scatterpolar": [
           {
            "marker": {
             "colorbar": {
              "outlinewidth": 0,
              "ticks": ""
             }
            },
            "type": "scatterpolar"
           }
          ],
          "scatterpolargl": [
           {
            "marker": {
             "colorbar": {
              "outlinewidth": 0,
              "ticks": ""
             }
            },
            "type": "scatterpolargl"
           }
          ],
          "scatterternary": [
           {
            "marker": {
             "colorbar": {
              "outlinewidth": 0,
              "ticks": ""
             }
            },
            "type": "scatterternary"
           }
          ],
          "surface": [
           {
            "colorbar": {
             "outlinewidth": 0,
             "ticks": ""
            },
            "colorscale": [
             [
              0,
              "#0d0887"
             ],
             [
              0.1111111111111111,
              "#46039f"
             ],
             [
              0.2222222222222222,
              "#7201a8"
             ],
             [
              0.3333333333333333,
              "#9c179e"
             ],
             [
              0.4444444444444444,
              "#bd3786"
             ],
             [
              0.5555555555555556,
              "#d8576b"
             ],
             [
              0.6666666666666666,
              "#ed7953"
             ],
             [
              0.7777777777777778,
              "#fb9f3a"
             ],
             [
              0.8888888888888888,
              "#fdca26"
             ],
             [
              1,
              "#f0f921"
             ]
            ],
            "type": "surface"
           }
          ],
          "table": [
           {
            "cells": {
             "fill": {
              "color": "#EBF0F8"
             },
             "line": {
              "color": "white"
             }
            },
            "header": {
             "fill": {
              "color": "#C8D4E3"
             },
             "line": {
              "color": "white"
             }
            },
            "type": "table"
           }
          ]
         },
         "layout": {
          "annotationdefaults": {
           "arrowcolor": "#2a3f5f",
           "arrowhead": 0,
           "arrowwidth": 1
          },
          "autotypenumbers": "strict",
          "coloraxis": {
           "colorbar": {
            "outlinewidth": 0,
            "ticks": ""
           }
          },
          "colorscale": {
           "diverging": [
            [
             0,
             "#8e0152"
            ],
            [
             0.1,
             "#c51b7d"
            ],
            [
             0.2,
             "#de77ae"
            ],
            [
             0.3,
             "#f1b6da"
            ],
            [
             0.4,
             "#fde0ef"
            ],
            [
             0.5,
             "#f7f7f7"
            ],
            [
             0.6,
             "#e6f5d0"
            ],
            [
             0.7,
             "#b8e186"
            ],
            [
             0.8,
             "#7fbc41"
            ],
            [
             0.9,
             "#4d9221"
            ],
            [
             1,
             "#276419"
            ]
           ],
           "sequential": [
            [
             0,
             "#0d0887"
            ],
            [
             0.1111111111111111,
             "#46039f"
            ],
            [
             0.2222222222222222,
             "#7201a8"
            ],
            [
             0.3333333333333333,
             "#9c179e"
            ],
            [
             0.4444444444444444,
             "#bd3786"
            ],
            [
             0.5555555555555556,
             "#d8576b"
            ],
            [
             0.6666666666666666,
             "#ed7953"
            ],
            [
             0.7777777777777778,
             "#fb9f3a"
            ],
            [
             0.8888888888888888,
             "#fdca26"
            ],
            [
             1,
             "#f0f921"
            ]
           ],
           "sequentialminus": [
            [
             0,
             "#0d0887"
            ],
            [
             0.1111111111111111,
             "#46039f"
            ],
            [
             0.2222222222222222,
             "#7201a8"
            ],
            [
             0.3333333333333333,
             "#9c179e"
            ],
            [
             0.4444444444444444,
             "#bd3786"
            ],
            [
             0.5555555555555556,
             "#d8576b"
            ],
            [
             0.6666666666666666,
             "#ed7953"
            ],
            [
             0.7777777777777778,
             "#fb9f3a"
            ],
            [
             0.8888888888888888,
             "#fdca26"
            ],
            [
             1,
             "#f0f921"
            ]
           ]
          },
          "colorway": [
           "#636efa",
           "#EF553B",
           "#00cc96",
           "#ab63fa",
           "#FFA15A",
           "#19d3f3",
           "#FF6692",
           "#B6E880",
           "#FF97FF",
           "#FECB52"
          ],
          "font": {
           "color": "#2a3f5f"
          },
          "geo": {
           "bgcolor": "white",
           "lakecolor": "white",
           "landcolor": "#E5ECF6",
           "showlakes": true,
           "showland": true,
           "subunitcolor": "white"
          },
          "hoverlabel": {
           "align": "left"
          },
          "hovermode": "closest",
          "mapbox": {
           "style": "light"
          },
          "paper_bgcolor": "white",
          "plot_bgcolor": "#E5ECF6",
          "polar": {
           "angularaxis": {
            "gridcolor": "white",
            "linecolor": "white",
            "ticks": ""
           },
           "bgcolor": "#E5ECF6",
           "radialaxis": {
            "gridcolor": "white",
            "linecolor": "white",
            "ticks": ""
           }
          },
          "scene": {
           "xaxis": {
            "backgroundcolor": "#E5ECF6",
            "gridcolor": "white",
            "gridwidth": 2,
            "linecolor": "white",
            "showbackground": true,
            "ticks": "",
            "zerolinecolor": "white"
           },
           "yaxis": {
            "backgroundcolor": "#E5ECF6",
            "gridcolor": "white",
            "gridwidth": 2,
            "linecolor": "white",
            "showbackground": true,
            "ticks": "",
            "zerolinecolor": "white"
           },
           "zaxis": {
            "backgroundcolor": "#E5ECF6",
            "gridcolor": "white",
            "gridwidth": 2,
            "linecolor": "white",
            "showbackground": true,
            "ticks": "",
            "zerolinecolor": "white"
           }
          },
          "shapedefaults": {
           "line": {
            "color": "#2a3f5f"
           }
          },
          "ternary": {
           "aaxis": {
            "gridcolor": "white",
            "linecolor": "white",
            "ticks": ""
           },
           "baxis": {
            "gridcolor": "white",
            "linecolor": "white",
            "ticks": ""
           },
           "bgcolor": "#E5ECF6",
           "caxis": {
            "gridcolor": "white",
            "linecolor": "white",
            "ticks": ""
           }
          },
          "title": {
           "x": 0.05
          },
          "xaxis": {
           "automargin": true,
           "gridcolor": "white",
           "linecolor": "white",
           "ticks": "",
           "title": {
            "standoff": 15
           },
           "zerolinecolor": "white",
           "zerolinewidth": 2
          },
          "yaxis": {
           "automargin": true,
           "gridcolor": "white",
           "linecolor": "white",
           "ticks": "",
           "title": {
            "standoff": 15
           },
           "zerolinecolor": "white",
           "zerolinewidth": 2
          }
         }
        },
        "title": {
         "text": "P/E"
        },
        "xaxis": {
         "anchor": "y",
         "domain": [
          0,
          1
         ],
         "title": {
          "text": "quarter_end_time"
         }
        },
        "yaxis": {
         "anchor": "x",
         "domain": [
          0,
          1
         ],
         "title": {
          "text": "priceToEarning"
         }
        }
       }
      }
     },
     "metadata": {},
     "output_type": "display_data"
    }
   ],
   "source": [
    "import seaborn as sns\n",
    "import plotly.express as px\n",
    "\n",
    "fig = px.line(\n",
    "    balancesheet_financialratio_incomestatement_per_group[\n",
    "        (balancesheet_financialratio_incomestatement_per_group[\"priceToEarning\"] >= -10)\n",
    "        & (balancesheet_financialratio_incomestatement_per_group[\"priceToEarning\"] <= 50)\n",
    "    ],\n",
    "    x=\"quarter_end_time\",\n",
    "    y=\"priceToEarning\",\n",
    "    color=\"ticker\",\n",
    "    title=\"P/E\",\n",
    ")\n",
    "fig.show()\n"
   ]
  },
  {
   "cell_type": "markdown",
   "metadata": {},
   "source": [
    "## Book-Value Per Share"
   ]
  },
  {
   "cell_type": "code",
   "execution_count": 65,
   "metadata": {},
   "outputs": [
    {
     "data": {
      "application/vnd.plotly.v1+json": {
       "config": {
        "plotlyServerURL": "https://plot.ly"
       },
       "data": [
        {
         "hovertemplate": "ticker=HPG<br>quarter_end_time=%{x}<br>bookValuePerShare=%{y}<extra></extra>",
         "legendgroup": "HPG",
         "line": {
          "color": "#636efa",
          "dash": "solid"
         },
         "marker": {
          "symbol": "circle"
         },
         "mode": "lines",
         "name": "HPG",
         "orientation": "v",
         "showlegend": true,
         "type": "scatter",
         "x": [
          "2022-09-30T23:59:59.999999",
          "2022-06-30T23:59:59.999999",
          "2022-03-31T23:59:59.999999",
          "2021-12-31T23:59:59.999999",
          "2021-09-30T23:59:59.999999",
          "2021-06-30T23:59:59.999999",
          "2021-03-31T23:59:59.999999",
          "2020-12-31T23:59:59.999999",
          "2020-09-30T23:59:59.999999",
          "2020-06-30T23:59:59.999999",
          "2020-03-31T23:59:59.999999",
          "2019-12-31T23:59:59.999999",
          "2019-09-30T23:59:59.999999",
          "2019-06-30T23:59:59.999999",
          "2019-03-31T23:59:59.999999",
          "2018-12-31T23:59:59.999999",
          "2018-09-30T23:59:59.999999",
          "2018-06-30T23:59:59.999999",
          "2018-03-31T23:59:59.999999",
          "2017-12-31T23:59:59.999999",
          "2017-09-30T23:59:59.999999",
          "2017-06-30T23:59:59.999999",
          "2017-03-31T23:59:59.999999",
          "2016-12-31T23:59:59.999999",
          "2016-09-30T23:59:59.999999",
          "2016-06-30T23:59:59.999999",
          "2016-03-31T23:59:59.999999",
          "2015-12-31T23:59:59.999999",
          "2015-09-30T23:59:59.999999",
          "2015-06-30T23:59:59.999999",
          "2015-03-31T23:59:59.999999",
          "2014-12-31T23:59:59.999999",
          "2014-09-30T23:59:59.999999",
          "2014-06-30T23:59:59.999999",
          "2014-03-31T23:59:59.999999",
          "2013-12-31T23:59:59.999999",
          "2013-09-30T23:59:59.999999",
          "2013-06-30T23:59:59.999999",
          "2013-03-31T23:59:59.999999",
          "2012-12-31T23:59:59.999999",
          "2012-09-30T23:59:59.999999",
          "2012-06-30T23:59:59.999999",
          "2012-03-31T23:59:59.999999",
          "2011-12-31T23:59:59.999999",
          "2011-09-30T23:59:59.999999",
          "2011-06-30T23:59:59.999999",
          "2011-03-31T23:59:59.999999",
          "2010-12-31T23:59:59.999999",
          "2010-09-30T23:59:59.999999",
          "2010-06-30T23:59:59.999999",
          "2010-03-31T23:59:59.999999",
          "2009-12-31T23:59:59.999999",
          "2009-09-30T23:59:59.999999",
          "2009-06-30T23:59:59.999999",
          "2009-03-31T23:59:59.999999",
          "2008-12-31T23:59:59.999999",
          "2008-09-30T23:59:59.999999",
          "2008-06-30T23:59:59.999999"
         ],
         "xaxis": "x",
         "y": [
          16847,
          17161,
          16993,
          15585,
          14469,
          12691,
          11357,
          10157,
          9423,
          9012,
          8578,
          10642,
          10254,
          9862,
          9407,
          9050,
          8697,
          8160,
          7669,
          7218,
          6714,
          5105,
          4761,
          4415,
          4015,
          3900,
          3447,
          3229,
          3139,
          2901,
          2735,
          2635,
          2532,
          2346,
          2281,
          2104,
          1913,
          1898,
          2019,
          1697,
          1744,
          1730,
          1577,
          1741,
          1510,
          1487,
          1445,
          1355,
          1229,
          1153,
          1084,
          1043,
          1041,
          958,
          925,
          866,
          930,
          989
         ],
         "yaxis": "y"
        },
        {
         "hovertemplate": "ticker=PVS<br>quarter_end_time=%{x}<br>bookValuePerShare=%{y}<extra></extra>",
         "legendgroup": "PVS",
         "line": {
          "color": "#EF553B",
          "dash": "solid"
         },
         "marker": {
          "symbol": "circle"
         },
         "mode": "lines",
         "name": "PVS",
         "orientation": "v",
         "showlegend": true,
         "type": "scatter",
         "x": [
          "2022-09-30T23:59:59.999999",
          "2022-06-30T23:59:59.999999",
          "2022-03-31T23:59:59.999999",
          "2021-12-31T23:59:59.999999",
          "2021-09-30T23:59:59.999999",
          "2021-06-30T23:59:59.999999",
          "2021-03-31T23:59:59.999999",
          "2020-12-31T23:59:59.999999",
          "2020-09-30T23:59:59.999999",
          "2020-06-30T23:59:59.999999",
          "2020-03-31T23:59:59.999999",
          "2019-12-31T23:59:59.999999",
          "2019-09-30T23:59:59.999999",
          "2019-06-30T23:59:59.999999",
          "2019-03-31T23:59:59.999999",
          "2018-12-31T23:59:59.999999",
          "2018-09-30T23:59:59.999999",
          "2018-06-30T23:59:59.999999",
          "2018-03-31T23:59:59.999999",
          "2017-12-31T23:59:59.999999",
          "2017-09-30T23:59:59.999999",
          "2017-06-30T23:59:59.999999",
          "2017-03-31T23:59:59.999999",
          "2016-12-31T23:59:59.999999",
          "2016-09-30T23:59:59.999999",
          "2016-06-30T23:59:59.999999",
          "2016-03-31T23:59:59.999999",
          "2015-12-31T23:59:59.999999",
          "2015-09-30T23:59:59.999999",
          "2015-06-30T23:59:59.999999",
          "2015-03-31T23:59:59.999999",
          "2014-12-31T23:59:59.999999",
          "2014-09-30T23:59:59.999999",
          "2014-06-30T23:59:59.999999",
          "2014-03-31T23:59:59.999999",
          "2013-12-31T23:59:59.999999",
          "2013-09-30T23:59:59.999999",
          "2013-06-30T23:59:59.999999",
          "2013-03-31T23:59:59.999999",
          "2012-12-31T23:59:59.999999",
          "2012-09-30T23:59:59.999999",
          "2012-06-30T23:59:59.999999",
          "2012-03-31T23:59:59.999999",
          "2011-12-31T23:59:59.999999",
          "2011-09-30T23:59:59.999999",
          "2011-06-30T23:59:59.999999",
          "2011-03-31T23:59:59.999999",
          "2010-12-31T23:59:59.999999",
          "2010-09-30T23:59:59.999999",
          "2010-06-30T23:59:59.999999",
          "2010-03-31T23:59:59.999999",
          "2009-12-31T23:59:59.999999",
          "2009-09-30T23:59:59.999999",
          "2009-06-30T23:59:59.999999",
          "2009-03-31T23:59:59.999999",
          "2008-12-31T23:59:59.999999",
          "2008-09-30T23:59:59.999999",
          "2008-06-30T23:59:59.999999"
         ],
         "xaxis": "x",
         "y": [
          25481,
          24871,
          25141,
          24673,
          25862,
          25556,
          25698,
          25462,
          26193,
          25824,
          25609,
          24741,
          25589,
          25728,
          25565,
          23686,
          22714,
          22428,
          22520,
          22437,
          22180,
          22111,
          22130,
          21486,
          21607,
          21380,
          22039,
          21392,
          20555,
          19792,
          23092,
          16459,
          15196,
          14307,
          14925,
          14211,
          12664,
          11691,
          11929,
          9634,
          9219,
          8709,
          9634,
          10040,
          8702,
          8580,
          9067,
          7791,
          7030,
          6631,
          6394,
          7094,
          5134,
          4854,
          4763,
          5008,
          3068,
          2824
         ],
         "yaxis": "y"
        },
        {
         "hovertemplate": "ticker=HCM<br>quarter_end_time=%{x}<br>bookValuePerShare=%{y}<extra></extra>",
         "legendgroup": "HCM",
         "line": {
          "color": "#00cc96",
          "dash": "solid"
         },
         "marker": {
          "symbol": "circle"
         },
         "mode": "lines",
         "name": "HCM",
         "orientation": "v",
         "showlegend": true,
         "type": "scatter",
         "x": [
          "2022-09-30T23:59:59.999999",
          "2022-06-30T23:59:59.999999",
          "2022-03-31T23:59:59.999999",
          "2021-12-31T23:59:59.999999",
          "2021-09-30T23:59:59.999999",
          "2021-06-30T23:59:59.999999",
          "2021-03-31T23:59:59.999999",
          "2020-12-31T23:59:59.999999",
          "2020-09-30T23:59:59.999999",
          "2020-06-30T23:59:59.999999",
          "2020-03-31T23:59:59.999999",
          "2019-12-31T23:59:59.999999",
          "2019-09-30T23:59:59.999999",
          "2019-06-30T23:59:59.999999",
          "2019-03-31T23:59:59.999999",
          "2018-12-31T23:59:59.999999",
          "2018-09-30T23:59:59.999999",
          "2018-06-30T23:59:59.999999",
          "2018-03-31T23:59:59.999999",
          "2017-12-31T23:59:59.999999",
          "2017-09-30T23:59:59.999999",
          "2017-06-30T23:59:59.999999",
          "2017-03-31T23:59:59.999999",
          "2016-12-31T23:59:59.999999",
          "2016-09-30T23:59:59.999999",
          "2016-06-30T23:59:59.999999",
          "2016-03-31T23:59:59.999999",
          "2015-12-31T23:59:59.999999",
          "2015-09-30T23:59:59.999999",
          "2015-06-30T23:59:59.999999",
          "2015-03-31T23:59:59.999999",
          "2014-12-31T23:59:59.999999",
          "2014-09-30T23:59:59.999999",
          "2014-06-30T23:59:59.999999",
          "2014-03-31T23:59:59.999999",
          "2013-12-31T23:59:59.999999",
          "2013-09-30T23:59:59.999999",
          "2013-06-30T23:59:59.999999",
          "2013-03-31T23:59:59.999999",
          "2012-12-31T23:59:59.999999",
          "2012-09-30T23:59:59.999999",
          "2012-06-30T23:59:59.999999",
          "2012-03-31T23:59:59.999999",
          "2011-12-31T23:59:59.999999",
          "2011-09-30T23:59:59.999999",
          "2011-06-30T23:59:59.999999",
          "2011-03-31T23:59:59.999999",
          "2010-12-31T23:59:59.999999",
          "2010-09-30T23:59:59.999999",
          "2010-06-30T23:59:59.999999"
         ],
         "xaxis": "x",
         "y": [
          17486,
          17125,
          16640,
          16021,
          11206,
          10510,
          10415,
          9711,
          9745,
          9436,
          9629,
          9413,
          9469,
          9226,
          6785,
          6688,
          6700,
          6414,
          6632,
          6100,
          5710,
          5415,
          5493,
          5227,
          5200,
          5022,
          5123,
          4981,
          4969,
          4870,
          5202,
          null,
          null,
          null,
          null,
          null,
          null,
          null,
          null,
          null,
          null,
          null,
          null,
          null,
          null,
          null,
          null,
          null,
          null,
          null
         ],
         "yaxis": "y"
        },
        {
         "hovertemplate": "ticker=VCI<br>quarter_end_time=%{x}<br>bookValuePerShare=%{y}<extra></extra>",
         "legendgroup": "VCI",
         "line": {
          "color": "#ab63fa",
          "dash": "solid"
         },
         "marker": {
          "symbol": "circle"
         },
         "mode": "lines",
         "name": "VCI",
         "orientation": "v",
         "showlegend": true,
         "type": "scatter",
         "x": [
          "2022-09-30T23:59:59.999999",
          "2022-06-30T23:59:59.999999",
          "2022-03-31T23:59:59.999999",
          "2021-12-31T23:59:59.999999",
          "2021-09-30T23:59:59.999999",
          "2021-06-30T23:59:59.999999",
          "2021-03-31T23:59:59.999999",
          "2020-12-31T23:59:59.999999",
          "2020-09-30T23:59:59.999999",
          "2020-06-30T23:59:59.999999",
          "2020-03-31T23:59:59.999999",
          "2019-12-31T23:59:59.999999",
          "2019-09-30T23:59:59.999999",
          "2019-06-30T23:59:59.999999",
          "2019-03-31T23:59:59.999999",
          "2018-12-31T23:59:59.999999",
          "2018-09-30T23:59:59.999999",
          "2018-06-30T23:59:59.999999",
          "2018-03-31T23:59:59.999999",
          "2017-12-31T23:59:59.999999",
          "2017-09-30T23:59:59.999999",
          "2017-06-30T23:59:59.999999"
         ],
         "xaxis": "x",
         "y": [
          15135,
          16398,
          16418,
          15021,
          14552,
          12176,
          11276,
          10382,
          9185,
          8568,
          8296,
          12166,
          11389,
          10504,
          10858,
          10939,
          11337,
          10798,
          10784,
          9067,
          7972,
          4243
         ],
         "yaxis": "y"
        },
        {
         "hovertemplate": "ticker=STB<br>quarter_end_time=%{x}<br>bookValuePerShare=%{y}<extra></extra>",
         "legendgroup": "STB",
         "line": {
          "color": "#FFA15A",
          "dash": "solid"
         },
         "marker": {
          "symbol": "circle"
         },
         "mode": "lines",
         "name": "STB",
         "orientation": "v",
         "showlegend": true,
         "type": "scatter",
         "x": [
          "2022-09-30T23:59:59.999999",
          "2022-06-30T23:59:59.999999",
          "2022-03-31T23:59:59.999999",
          "2021-12-31T23:59:59.999999",
          "2021-09-30T23:59:59.999999",
          "2021-06-30T23:59:59.999999",
          "2021-03-31T23:59:59.999999",
          "2020-12-31T23:59:59.999999",
          "2020-09-30T23:59:59.999999",
          "2020-06-30T23:59:59.999999",
          "2020-03-31T23:59:59.999999",
          "2019-12-31T23:59:59.999999",
          "2019-09-30T23:59:59.999999",
          "2019-06-30T23:59:59.999999",
          "2019-03-31T23:59:59.999999",
          "2018-12-31T23:59:59.999999",
          "2018-09-30T23:59:59.999999",
          "2018-06-30T23:59:59.999999",
          "2018-03-31T23:59:59.999999",
          "2017-12-31T23:59:59.999999",
          "2017-09-30T23:59:59.999999",
          "2017-06-30T23:59:59.999999",
          "2017-03-31T23:59:59.999999",
          "2016-12-31T23:59:59.999999",
          "2016-09-30T23:59:59.999999",
          "2016-06-30T23:59:59.999999",
          "2016-03-31T23:59:59.999999",
          "2015-12-31T23:59:59.999999",
          "2015-09-30T23:59:59.999999",
          "2015-06-30T23:59:59.999999",
          "2015-03-31T23:59:59.999999",
          "2014-12-31T23:59:59.999999",
          "2014-09-30T23:59:59.999999",
          "2014-06-30T23:59:59.999999",
          "2014-03-31T23:59:59.999999",
          "2013-12-31T23:59:59.999999",
          "2013-09-30T23:59:59.999999",
          "2013-06-30T23:59:59.999999",
          "2013-03-31T23:59:59.999999",
          "2012-12-31T23:59:59.999999",
          "2012-09-30T23:59:59.999999",
          "2012-06-30T23:59:59.999999",
          "2012-03-31T23:59:59.999999",
          "2011-12-31T23:59:59.999999",
          "2011-09-30T23:59:59.999999",
          "2011-06-30T23:59:59.999999",
          "2011-03-31T23:59:59.999999",
          "2010-12-31T23:59:59.999999",
          "2010-09-30T23:59:59.999999",
          "2010-06-30T23:59:59.999999",
          "2010-03-31T23:59:59.999999",
          "2009-12-31T23:59:59.999999",
          "2009-09-30T23:59:59.999999",
          "2009-06-30T23:59:59.999999",
          "2008-09-30T23:59:59.999999",
          "2007-09-30T23:59:59.999999",
          "2007-06-30T23:59:59.999999"
         ],
         "xaxis": "x",
         "y": [
          19594,
          18988,
          18820,
          18173,
          17707,
          16116,
          15772,
          15359,
          14960,
          14559,
          14611,
          14826,
          14542,
          14137,
          14125,
          13656,
          13184,
          13111,
          13123,
          12878,
          12631,
          12465,
          12814,
          12736,
          12569,
          12171,
          12577,
          12518,
          10812,
          10511,
          10372,
          10017,
          9816,
          9483,
          9176,
          9460,
          9109,
          7898,
          7952,
          7436,
          7912,
          7680,
          8477,
          8064,
          7774,
          7463,
          7950,
          7752,
          7298,
          5554,
          5368,
          5850,
          5181,
          4232,
          4418,
          3756,
          1821
         ],
         "yaxis": "y"
        },
        {
         "hovertemplate": "ticker=MBB<br>quarter_end_time=%{x}<br>bookValuePerShare=%{y}<extra></extra>",
         "legendgroup": "MBB",
         "line": {
          "color": "#19d3f3",
          "dash": "solid"
         },
         "marker": {
          "symbol": "circle"
         },
         "mode": "lines",
         "name": "MBB",
         "orientation": "v",
         "showlegend": true,
         "type": "scatter",
         "x": [
          "2022-09-30T23:59:59.999999",
          "2022-06-30T23:59:59.999999",
          "2022-03-31T23:59:59.999999",
          "2021-12-31T23:59:59.999999",
          "2021-09-30T23:59:59.999999",
          "2021-06-30T23:59:59.999999",
          "2021-03-31T23:59:59.999999",
          "2020-12-31T23:59:59.999999",
          "2020-09-30T23:59:59.999999",
          "2020-06-30T23:59:59.999999",
          "2020-03-31T23:59:59.999999",
          "2019-12-31T23:59:59.999999",
          "2019-09-30T23:59:59.999999",
          "2019-06-30T23:59:59.999999",
          "2019-03-31T23:59:59.999999",
          "2018-12-31T23:59:59.999999",
          "2018-09-30T23:59:59.999999",
          "2018-06-30T23:59:59.999999",
          "2018-03-31T23:59:59.999999",
          "2017-12-31T23:59:59.999999",
          "2017-09-30T23:59:59.999999",
          "2017-06-30T23:59:59.999999",
          "2017-03-31T23:59:59.999999",
          "2016-12-31T23:59:59.999999",
          "2016-09-30T23:59:59.999999",
          "2016-06-30T23:59:59.999999",
          "2016-03-31T23:59:59.999999",
          "2015-12-31T23:59:59.999999",
          "2015-09-30T23:59:59.999999",
          "2015-06-30T23:59:59.999999",
          "2015-03-31T23:59:59.999999",
          "2014-12-31T23:59:59.999999",
          "2014-09-30T23:59:59.999999",
          "2014-06-30T23:59:59.999999",
          "2014-03-31T23:59:59.999999",
          "2013-12-31T23:59:59.999999",
          "2013-09-30T23:59:59.999999",
          "2013-06-30T23:59:59.999999",
          "2013-03-31T23:59:59.999999",
          "2012-12-31T23:59:59.999999",
          "2012-09-30T23:59:59.999999",
          "2012-06-30T23:59:59.999999"
         ],
         "xaxis": "x",
         "y": [
          16742,
          15638,
          14791,
          13781,
          12979,
          12336,
          11849,
          11049,
          10642,
          10101,
          9700,
          10556,
          9973,
          9402,
          9562,
          9044,
          8788,
          8292,
          8212,
          7834,
          7533,
          7227,
          6962,
          7037,
          6811,
          6516,
          6195,
          5979,
          5861,
          4702,
          4536,
          4383,
          4448,
          4302,
          4166,
          4007,
          3961,
          3816,
          3732,
          3404,
          3615,
          3446
         ],
         "yaxis": "y"
        },
        {
         "hovertemplate": "ticker=MBS<br>quarter_end_time=%{x}<br>bookValuePerShare=%{y}<extra></extra>",
         "legendgroup": "MBS",
         "line": {
          "color": "#FF6692",
          "dash": "solid"
         },
         "marker": {
          "symbol": "circle"
         },
         "mode": "lines",
         "name": "MBS",
         "orientation": "v",
         "showlegend": true,
         "type": "scatter",
         "x": [
          "2022-09-30T23:59:59.999999",
          "2022-06-30T23:59:59.999999",
          "2022-03-31T23:59:59.999999",
          "2021-12-31T23:59:59.999999",
          "2021-09-30T23:59:59.999999",
          "2021-06-30T23:59:59.999999",
          "2021-03-31T23:59:59.999999",
          "2020-12-31T23:59:59.999999",
          "2020-09-30T23:59:59.999999",
          "2020-06-30T23:59:59.999999",
          "2020-03-31T23:59:59.999999",
          "2019-12-31T23:59:59.999999",
          "2019-09-30T23:59:59.999999",
          "2019-06-30T23:59:59.999999",
          "2019-03-31T23:59:59.999999",
          "2018-12-31T23:59:59.999999",
          "2018-09-30T23:59:59.999999",
          "2018-06-30T23:59:59.999999",
          "2018-03-31T23:59:59.999999",
          "2017-12-31T23:59:59.999999",
          "2017-09-30T23:59:59.999999",
          "2017-06-30T23:59:59.999999"
         ],
         "xaxis": "x",
         "y": [
          10032,
          9714,
          9490,
          8964,
          8515,
          8033,
          5676,
          5414,
          5157,
          4989,
          5245,
          6240,
          6020,
          5850,
          5598,
          5457,
          5456,
          5265,
          5064,
          4800,
          4782,
          4986
         ],
         "yaxis": "y"
        }
       ],
       "layout": {
        "legend": {
         "title": {
          "text": "ticker"
         },
         "tracegroupgap": 0
        },
        "template": {
         "data": {
          "bar": [
           {
            "error_x": {
             "color": "#2a3f5f"
            },
            "error_y": {
             "color": "#2a3f5f"
            },
            "marker": {
             "line": {
              "color": "#E5ECF6",
              "width": 0.5
             },
             "pattern": {
              "fillmode": "overlay",
              "size": 10,
              "solidity": 0.2
             }
            },
            "type": "bar"
           }
          ],
          "barpolar": [
           {
            "marker": {
             "line": {
              "color": "#E5ECF6",
              "width": 0.5
             },
             "pattern": {
              "fillmode": "overlay",
              "size": 10,
              "solidity": 0.2
             }
            },
            "type": "barpolar"
           }
          ],
          "carpet": [
           {
            "aaxis": {
             "endlinecolor": "#2a3f5f",
             "gridcolor": "white",
             "linecolor": "white",
             "minorgridcolor": "white",
             "startlinecolor": "#2a3f5f"
            },
            "baxis": {
             "endlinecolor": "#2a3f5f",
             "gridcolor": "white",
             "linecolor": "white",
             "minorgridcolor": "white",
             "startlinecolor": "#2a3f5f"
            },
            "type": "carpet"
           }
          ],
          "choropleth": [
           {
            "colorbar": {
             "outlinewidth": 0,
             "ticks": ""
            },
            "type": "choropleth"
           }
          ],
          "contour": [
           {
            "colorbar": {
             "outlinewidth": 0,
             "ticks": ""
            },
            "colorscale": [
             [
              0,
              "#0d0887"
             ],
             [
              0.1111111111111111,
              "#46039f"
             ],
             [
              0.2222222222222222,
              "#7201a8"
             ],
             [
              0.3333333333333333,
              "#9c179e"
             ],
             [
              0.4444444444444444,
              "#bd3786"
             ],
             [
              0.5555555555555556,
              "#d8576b"
             ],
             [
              0.6666666666666666,
              "#ed7953"
             ],
             [
              0.7777777777777778,
              "#fb9f3a"
             ],
             [
              0.8888888888888888,
              "#fdca26"
             ],
             [
              1,
              "#f0f921"
             ]
            ],
            "type": "contour"
           }
          ],
          "contourcarpet": [
           {
            "colorbar": {
             "outlinewidth": 0,
             "ticks": ""
            },
            "type": "contourcarpet"
           }
          ],
          "heatmap": [
           {
            "colorbar": {
             "outlinewidth": 0,
             "ticks": ""
            },
            "colorscale": [
             [
              0,
              "#0d0887"
             ],
             [
              0.1111111111111111,
              "#46039f"
             ],
             [
              0.2222222222222222,
              "#7201a8"
             ],
             [
              0.3333333333333333,
              "#9c179e"
             ],
             [
              0.4444444444444444,
              "#bd3786"
             ],
             [
              0.5555555555555556,
              "#d8576b"
             ],
             [
              0.6666666666666666,
              "#ed7953"
             ],
             [
              0.7777777777777778,
              "#fb9f3a"
             ],
             [
              0.8888888888888888,
              "#fdca26"
             ],
             [
              1,
              "#f0f921"
             ]
            ],
            "type": "heatmap"
           }
          ],
          "heatmapgl": [
           {
            "colorbar": {
             "outlinewidth": 0,
             "ticks": ""
            },
            "colorscale": [
             [
              0,
              "#0d0887"
             ],
             [
              0.1111111111111111,
              "#46039f"
             ],
             [
              0.2222222222222222,
              "#7201a8"
             ],
             [
              0.3333333333333333,
              "#9c179e"
             ],
             [
              0.4444444444444444,
              "#bd3786"
             ],
             [
              0.5555555555555556,
              "#d8576b"
             ],
             [
              0.6666666666666666,
              "#ed7953"
             ],
             [
              0.7777777777777778,
              "#fb9f3a"
             ],
             [
              0.8888888888888888,
              "#fdca26"
             ],
             [
              1,
              "#f0f921"
             ]
            ],
            "type": "heatmapgl"
           }
          ],
          "histogram": [
           {
            "marker": {
             "pattern": {
              "fillmode": "overlay",
              "size": 10,
              "solidity": 0.2
             }
            },
            "type": "histogram"
           }
          ],
          "histogram2d": [
           {
            "colorbar": {
             "outlinewidth": 0,
             "ticks": ""
            },
            "colorscale": [
             [
              0,
              "#0d0887"
             ],
             [
              0.1111111111111111,
              "#46039f"
             ],
             [
              0.2222222222222222,
              "#7201a8"
             ],
             [
              0.3333333333333333,
              "#9c179e"
             ],
             [
              0.4444444444444444,
              "#bd3786"
             ],
             [
              0.5555555555555556,
              "#d8576b"
             ],
             [
              0.6666666666666666,
              "#ed7953"
             ],
             [
              0.7777777777777778,
              "#fb9f3a"
             ],
             [
              0.8888888888888888,
              "#fdca26"
             ],
             [
              1,
              "#f0f921"
             ]
            ],
            "type": "histogram2d"
           }
          ],
          "histogram2dcontour": [
           {
            "colorbar": {
             "outlinewidth": 0,
             "ticks": ""
            },
            "colorscale": [
             [
              0,
              "#0d0887"
             ],
             [
              0.1111111111111111,
              "#46039f"
             ],
             [
              0.2222222222222222,
              "#7201a8"
             ],
             [
              0.3333333333333333,
              "#9c179e"
             ],
             [
              0.4444444444444444,
              "#bd3786"
             ],
             [
              0.5555555555555556,
              "#d8576b"
             ],
             [
              0.6666666666666666,
              "#ed7953"
             ],
             [
              0.7777777777777778,
              "#fb9f3a"
             ],
             [
              0.8888888888888888,
              "#fdca26"
             ],
             [
              1,
              "#f0f921"
             ]
            ],
            "type": "histogram2dcontour"
           }
          ],
          "mesh3d": [
           {
            "colorbar": {
             "outlinewidth": 0,
             "ticks": ""
            },
            "type": "mesh3d"
           }
          ],
          "parcoords": [
           {
            "line": {
             "colorbar": {
              "outlinewidth": 0,
              "ticks": ""
             }
            },
            "type": "parcoords"
           }
          ],
          "pie": [
           {
            "automargin": true,
            "type": "pie"
           }
          ],
          "scatter": [
           {
            "fillpattern": {
             "fillmode": "overlay",
             "size": 10,
             "solidity": 0.2
            },
            "type": "scatter"
           }
          ],
          "scatter3d": [
           {
            "line": {
             "colorbar": {
              "outlinewidth": 0,
              "ticks": ""
             }
            },
            "marker": {
             "colorbar": {
              "outlinewidth": 0,
              "ticks": ""
             }
            },
            "type": "scatter3d"
           }
          ],
          "scattercarpet": [
           {
            "marker": {
             "colorbar": {
              "outlinewidth": 0,
              "ticks": ""
             }
            },
            "type": "scattercarpet"
           }
          ],
          "scattergeo": [
           {
            "marker": {
             "colorbar": {
              "outlinewidth": 0,
              "ticks": ""
             }
            },
            "type": "scattergeo"
           }
          ],
          "scattergl": [
           {
            "marker": {
             "colorbar": {
              "outlinewidth": 0,
              "ticks": ""
             }
            },
            "type": "scattergl"
           }
          ],
          "scattermapbox": [
           {
            "marker": {
             "colorbar": {
              "outlinewidth": 0,
              "ticks": ""
             }
            },
            "type": "scattermapbox"
           }
          ],
          "scatterpolar": [
           {
            "marker": {
             "colorbar": {
              "outlinewidth": 0,
              "ticks": ""
             }
            },
            "type": "scatterpolar"
           }
          ],
          "scatterpolargl": [
           {
            "marker": {
             "colorbar": {
              "outlinewidth": 0,
              "ticks": ""
             }
            },
            "type": "scatterpolargl"
           }
          ],
          "scatterternary": [
           {
            "marker": {
             "colorbar": {
              "outlinewidth": 0,
              "ticks": ""
             }
            },
            "type": "scatterternary"
           }
          ],
          "surface": [
           {
            "colorbar": {
             "outlinewidth": 0,
             "ticks": ""
            },
            "colorscale": [
             [
              0,
              "#0d0887"
             ],
             [
              0.1111111111111111,
              "#46039f"
             ],
             [
              0.2222222222222222,
              "#7201a8"
             ],
             [
              0.3333333333333333,
              "#9c179e"
             ],
             [
              0.4444444444444444,
              "#bd3786"
             ],
             [
              0.5555555555555556,
              "#d8576b"
             ],
             [
              0.6666666666666666,
              "#ed7953"
             ],
             [
              0.7777777777777778,
              "#fb9f3a"
             ],
             [
              0.8888888888888888,
              "#fdca26"
             ],
             [
              1,
              "#f0f921"
             ]
            ],
            "type": "surface"
           }
          ],
          "table": [
           {
            "cells": {
             "fill": {
              "color": "#EBF0F8"
             },
             "line": {
              "color": "white"
             }
            },
            "header": {
             "fill": {
              "color": "#C8D4E3"
             },
             "line": {
              "color": "white"
             }
            },
            "type": "table"
           }
          ]
         },
         "layout": {
          "annotationdefaults": {
           "arrowcolor": "#2a3f5f",
           "arrowhead": 0,
           "arrowwidth": 1
          },
          "autotypenumbers": "strict",
          "coloraxis": {
           "colorbar": {
            "outlinewidth": 0,
            "ticks": ""
           }
          },
          "colorscale": {
           "diverging": [
            [
             0,
             "#8e0152"
            ],
            [
             0.1,
             "#c51b7d"
            ],
            [
             0.2,
             "#de77ae"
            ],
            [
             0.3,
             "#f1b6da"
            ],
            [
             0.4,
             "#fde0ef"
            ],
            [
             0.5,
             "#f7f7f7"
            ],
            [
             0.6,
             "#e6f5d0"
            ],
            [
             0.7,
             "#b8e186"
            ],
            [
             0.8,
             "#7fbc41"
            ],
            [
             0.9,
             "#4d9221"
            ],
            [
             1,
             "#276419"
            ]
           ],
           "sequential": [
            [
             0,
             "#0d0887"
            ],
            [
             0.1111111111111111,
             "#46039f"
            ],
            [
             0.2222222222222222,
             "#7201a8"
            ],
            [
             0.3333333333333333,
             "#9c179e"
            ],
            [
             0.4444444444444444,
             "#bd3786"
            ],
            [
             0.5555555555555556,
             "#d8576b"
            ],
            [
             0.6666666666666666,
             "#ed7953"
            ],
            [
             0.7777777777777778,
             "#fb9f3a"
            ],
            [
             0.8888888888888888,
             "#fdca26"
            ],
            [
             1,
             "#f0f921"
            ]
           ],
           "sequentialminus": [
            [
             0,
             "#0d0887"
            ],
            [
             0.1111111111111111,
             "#46039f"
            ],
            [
             0.2222222222222222,
             "#7201a8"
            ],
            [
             0.3333333333333333,
             "#9c179e"
            ],
            [
             0.4444444444444444,
             "#bd3786"
            ],
            [
             0.5555555555555556,
             "#d8576b"
            ],
            [
             0.6666666666666666,
             "#ed7953"
            ],
            [
             0.7777777777777778,
             "#fb9f3a"
            ],
            [
             0.8888888888888888,
             "#fdca26"
            ],
            [
             1,
             "#f0f921"
            ]
           ]
          },
          "colorway": [
           "#636efa",
           "#EF553B",
           "#00cc96",
           "#ab63fa",
           "#FFA15A",
           "#19d3f3",
           "#FF6692",
           "#B6E880",
           "#FF97FF",
           "#FECB52"
          ],
          "font": {
           "color": "#2a3f5f"
          },
          "geo": {
           "bgcolor": "white",
           "lakecolor": "white",
           "landcolor": "#E5ECF6",
           "showlakes": true,
           "showland": true,
           "subunitcolor": "white"
          },
          "hoverlabel": {
           "align": "left"
          },
          "hovermode": "closest",
          "mapbox": {
           "style": "light"
          },
          "paper_bgcolor": "white",
          "plot_bgcolor": "#E5ECF6",
          "polar": {
           "angularaxis": {
            "gridcolor": "white",
            "linecolor": "white",
            "ticks": ""
           },
           "bgcolor": "#E5ECF6",
           "radialaxis": {
            "gridcolor": "white",
            "linecolor": "white",
            "ticks": ""
           }
          },
          "scene": {
           "xaxis": {
            "backgroundcolor": "#E5ECF6",
            "gridcolor": "white",
            "gridwidth": 2,
            "linecolor": "white",
            "showbackground": true,
            "ticks": "",
            "zerolinecolor": "white"
           },
           "yaxis": {
            "backgroundcolor": "#E5ECF6",
            "gridcolor": "white",
            "gridwidth": 2,
            "linecolor": "white",
            "showbackground": true,
            "ticks": "",
            "zerolinecolor": "white"
           },
           "zaxis": {
            "backgroundcolor": "#E5ECF6",
            "gridcolor": "white",
            "gridwidth": 2,
            "linecolor": "white",
            "showbackground": true,
            "ticks": "",
            "zerolinecolor": "white"
           }
          },
          "shapedefaults": {
           "line": {
            "color": "#2a3f5f"
           }
          },
          "ternary": {
           "aaxis": {
            "gridcolor": "white",
            "linecolor": "white",
            "ticks": ""
           },
           "baxis": {
            "gridcolor": "white",
            "linecolor": "white",
            "ticks": ""
           },
           "bgcolor": "#E5ECF6",
           "caxis": {
            "gridcolor": "white",
            "linecolor": "white",
            "ticks": ""
           }
          },
          "title": {
           "x": 0.05
          },
          "xaxis": {
           "automargin": true,
           "gridcolor": "white",
           "linecolor": "white",
           "ticks": "",
           "title": {
            "standoff": 15
           },
           "zerolinecolor": "white",
           "zerolinewidth": 2
          },
          "yaxis": {
           "automargin": true,
           "gridcolor": "white",
           "linecolor": "white",
           "ticks": "",
           "title": {
            "standoff": 15
           },
           "zerolinecolor": "white",
           "zerolinewidth": 2
          }
         }
        },
        "title": {
         "text": "Book-Value Per Share"
        },
        "xaxis": {
         "anchor": "y",
         "domain": [
          0,
          1
         ],
         "title": {
          "text": "quarter_end_time"
         }
        },
        "yaxis": {
         "anchor": "x",
         "domain": [
          0,
          1
         ],
         "title": {
          "text": "bookValuePerShare"
         }
        }
       }
      }
     },
     "metadata": {},
     "output_type": "display_data"
    }
   ],
   "source": [
    "import seaborn as sns\n",
    "import plotly.express as px\n",
    "\n",
    "fig = px.line(\n",
    "    balancesheet_financialratio_incomestatement_per_group,\n",
    "    x=\"quarter_end_time\",\n",
    "    y=\"bookValuePerShare\",\n",
    "    color=\"ticker\",\n",
    "    title=\"Book-Value Per Share\",\n",
    ")\n",
    "fig.show()\n"
   ]
  },
  {
   "cell_type": "markdown",
   "metadata": {},
   "source": [
    "## P/B"
   ]
  },
  {
   "cell_type": "code",
   "execution_count": 66,
   "metadata": {},
   "outputs": [
    {
     "data": {
      "application/vnd.plotly.v1+json": {
       "config": {
        "plotlyServerURL": "https://plot.ly"
       },
       "data": [
        {
         "hovertemplate": "ticker=HPG<br>quarter_end_time=%{x}<br>priceToBook=%{y}<extra></extra>",
         "legendgroup": "HPG",
         "line": {
          "color": "#636efa",
          "dash": "solid"
         },
         "marker": {
          "symbol": "circle"
         },
         "mode": "lines",
         "name": "HPG",
         "orientation": "v",
         "showlegend": true,
         "type": "scatter",
         "x": [
          "2022-09-30T23:59:59.999999",
          "2022-06-30T23:59:59.999999",
          "2022-03-31T23:59:59.999999",
          "2021-12-31T23:59:59.999999",
          "2021-09-30T23:59:59.999999",
          "2021-06-30T23:59:59.999999",
          "2021-03-31T23:59:59.999999",
          "2020-12-31T23:59:59.999999",
          "2020-09-30T23:59:59.999999",
          "2020-06-30T23:59:59.999999",
          "2020-03-31T23:59:59.999999",
          "2019-12-31T23:59:59.999999",
          "2019-09-30T23:59:59.999999",
          "2019-06-30T23:59:59.999999",
          "2019-03-31T23:59:59.999999",
          "2018-12-31T23:59:59.999999",
          "2018-09-30T23:59:59.999999",
          "2018-06-30T23:59:59.999999",
          "2018-03-31T23:59:59.999999",
          "2017-12-31T23:59:59.999999",
          "2017-09-30T23:59:59.999999",
          "2017-06-30T23:59:59.999999",
          "2017-03-31T23:59:59.999999",
          "2016-12-31T23:59:59.999999",
          "2016-09-30T23:59:59.999999",
          "2016-06-30T23:59:59.999999",
          "2016-03-31T23:59:59.999999",
          "2015-12-31T23:59:59.999999",
          "2015-09-30T23:59:59.999999",
          "2015-06-30T23:59:59.999999",
          "2015-03-31T23:59:59.999999",
          "2014-12-31T23:59:59.999999",
          "2014-09-30T23:59:59.999999",
          "2014-06-30T23:59:59.999999",
          "2014-03-31T23:59:59.999999",
          "2013-12-31T23:59:59.999999",
          "2013-09-30T23:59:59.999999",
          "2013-06-30T23:59:59.999999",
          "2013-03-31T23:59:59.999999",
          "2012-12-31T23:59:59.999999",
          "2012-09-30T23:59:59.999999",
          "2012-06-30T23:59:59.999999",
          "2012-03-31T23:59:59.999999",
          "2011-12-31T23:59:59.999999",
          "2011-09-30T23:59:59.999999",
          "2011-06-30T23:59:59.999999",
          "2011-03-31T23:59:59.999999",
          "2010-12-31T23:59:59.999999",
          "2010-09-30T23:59:59.999999",
          "2010-06-30T23:59:59.999999",
          "2010-03-31T23:59:59.999999",
          "2009-12-31T23:59:59.999999",
          "2009-09-30T23:59:59.999999",
          "2009-06-30T23:59:59.999999",
          "2009-03-31T23:59:59.999999",
          "2008-12-31T23:59:59.999999",
          "2008-09-30T23:59:59.999999",
          "2008-06-30T23:59:59.999999"
         ],
         "xaxis": "x",
         "y": [
          1.2,
          1.3,
          2,
          2.3,
          2.8,
          3.1,
          2.3,
          2.3,
          1.6,
          1.4,
          0.9,
          1.3,
          1.3,
          1.4,
          1.6,
          1.6,
          2.3,
          2.2,
          2.6,
          2.1,
          1.9,
          2.1,
          2,
          2,
          2.3,
          1.8,
          1.5,
          1.6,
          1.7,
          1.7,
          1.8,
          null,
          null,
          null,
          null,
          null,
          null,
          null,
          null,
          null,
          null,
          null,
          null,
          null,
          null,
          null,
          null,
          null,
          null,
          null,
          null,
          null,
          null,
          null,
          null,
          null,
          null,
          null
         ],
         "yaxis": "y"
        },
        {
         "hovertemplate": "ticker=PVS<br>quarter_end_time=%{x}<br>priceToBook=%{y}<extra></extra>",
         "legendgroup": "PVS",
         "line": {
          "color": "#EF553B",
          "dash": "solid"
         },
         "marker": {
          "symbol": "circle"
         },
         "mode": "lines",
         "name": "PVS",
         "orientation": "v",
         "showlegend": true,
         "type": "scatter",
         "x": [
          "2022-09-30T23:59:59.999999",
          "2022-06-30T23:59:59.999999",
          "2022-03-31T23:59:59.999999",
          "2021-12-31T23:59:59.999999",
          "2021-09-30T23:59:59.999999",
          "2021-06-30T23:59:59.999999",
          "2021-03-31T23:59:59.999999",
          "2020-12-31T23:59:59.999999",
          "2020-09-30T23:59:59.999999",
          "2020-06-30T23:59:59.999999",
          "2020-03-31T23:59:59.999999",
          "2019-12-31T23:59:59.999999",
          "2019-09-30T23:59:59.999999",
          "2019-06-30T23:59:59.999999",
          "2019-03-31T23:59:59.999999",
          "2018-12-31T23:59:59.999999",
          "2018-09-30T23:59:59.999999",
          "2018-06-30T23:59:59.999999",
          "2018-03-31T23:59:59.999999",
          "2017-12-31T23:59:59.999999",
          "2017-09-30T23:59:59.999999",
          "2017-06-30T23:59:59.999999",
          "2017-03-31T23:59:59.999999",
          "2016-12-31T23:59:59.999999",
          "2016-09-30T23:59:59.999999",
          "2016-06-30T23:59:59.999999",
          "2016-03-31T23:59:59.999999",
          "2015-12-31T23:59:59.999999",
          "2015-09-30T23:59:59.999999",
          "2015-06-30T23:59:59.999999",
          "2015-03-31T23:59:59.999999",
          "2014-12-31T23:59:59.999999",
          "2014-09-30T23:59:59.999999",
          "2014-06-30T23:59:59.999999",
          "2014-03-31T23:59:59.999999",
          "2013-12-31T23:59:59.999999",
          "2013-09-30T23:59:59.999999",
          "2013-06-30T23:59:59.999999",
          "2013-03-31T23:59:59.999999",
          "2012-12-31T23:59:59.999999",
          "2012-09-30T23:59:59.999999",
          "2012-06-30T23:59:59.999999",
          "2012-03-31T23:59:59.999999",
          "2011-12-31T23:59:59.999999",
          "2011-09-30T23:59:59.999999",
          "2011-06-30T23:59:59.999999",
          "2011-03-31T23:59:59.999999",
          "2010-12-31T23:59:59.999999",
          "2010-09-30T23:59:59.999999",
          "2010-06-30T23:59:59.999999",
          "2010-03-31T23:59:59.999999",
          "2009-12-31T23:59:59.999999",
          "2009-09-30T23:59:59.999999",
          "2009-06-30T23:59:59.999999",
          "2009-03-31T23:59:59.999999",
          "2008-12-31T23:59:59.999999",
          "2008-09-30T23:59:59.999999",
          "2008-06-30T23:59:59.999999"
         ],
         "xaxis": "x",
         "y": [
          0.9,
          0.9,
          1.3,
          1.1,
          1.1,
          1.1,
          0.9,
          0.7,
          0.5,
          0.4,
          0.3,
          0.6,
          0.7,
          0.8,
          0.7,
          0.6,
          0.8,
          0.6,
          0.7,
          0.8,
          0.6,
          0.6,
          0.6,
          0.6,
          0.7,
          0.6,
          0.5,
          0.5,
          0.7,
          0.9,
          0.6,
          null,
          null,
          null,
          null,
          null,
          null,
          null,
          null,
          null,
          null,
          null,
          null,
          null,
          null,
          null,
          null,
          null,
          null,
          null,
          null,
          null,
          null,
          null,
          null,
          null,
          null,
          null
         ],
         "yaxis": "y"
        },
        {
         "hovertemplate": "ticker=HCM<br>quarter_end_time=%{x}<br>priceToBook=%{y}<extra></extra>",
         "legendgroup": "HCM",
         "line": {
          "color": "#00cc96",
          "dash": "solid"
         },
         "marker": {
          "symbol": "circle"
         },
         "mode": "lines",
         "name": "HCM",
         "orientation": "v",
         "showlegend": true,
         "type": "scatter",
         "x": [
          "2022-09-30T23:59:59.999999",
          "2022-06-30T23:59:59.999999",
          "2022-03-31T23:59:59.999999",
          "2021-12-31T23:59:59.999999",
          "2021-09-30T23:59:59.999999",
          "2021-06-30T23:59:59.999999",
          "2021-03-31T23:59:59.999999",
          "2020-12-31T23:59:59.999999",
          "2020-09-30T23:59:59.999999",
          "2020-06-30T23:59:59.999999",
          "2020-03-31T23:59:59.999999",
          "2019-12-31T23:59:59.999999",
          "2019-09-30T23:59:59.999999",
          "2019-06-30T23:59:59.999999",
          "2019-03-31T23:59:59.999999",
          "2018-12-31T23:59:59.999999",
          "2018-09-30T23:59:59.999999",
          "2018-06-30T23:59:59.999999",
          "2018-03-31T23:59:59.999999",
          "2017-12-31T23:59:59.999999",
          "2017-09-30T23:59:59.999999",
          "2017-06-30T23:59:59.999999",
          "2017-03-31T23:59:59.999999",
          "2016-12-31T23:59:59.999999",
          "2016-09-30T23:59:59.999999",
          "2016-06-30T23:59:59.999999",
          "2016-03-31T23:59:59.999999",
          "2015-12-31T23:59:59.999999",
          "2015-09-30T23:59:59.999999",
          "2015-06-30T23:59:59.999999",
          "2015-03-31T23:59:59.999999",
          "2014-12-31T23:59:59.999999",
          "2014-09-30T23:59:59.999999",
          "2014-06-30T23:59:59.999999",
          "2014-03-31T23:59:59.999999",
          "2013-12-31T23:59:59.999999",
          "2013-09-30T23:59:59.999999",
          "2013-06-30T23:59:59.999999",
          "2013-03-31T23:59:59.999999",
          "2012-12-31T23:59:59.999999",
          "2012-09-30T23:59:59.999999",
          "2012-06-30T23:59:59.999999",
          "2012-03-31T23:59:59.999999",
          "2011-12-31T23:59:59.999999",
          "2011-09-30T23:59:59.999999",
          "2011-06-30T23:59:59.999999",
          "2011-03-31T23:59:59.999999",
          "2010-12-31T23:59:59.999999",
          "2010-09-30T23:59:59.999999",
          "2010-06-30T23:59:59.999999"
         ],
         "xaxis": "x",
         "y": [
          1.3,
          1.2,
          2,
          2.8,
          3.5,
          3.7,
          2.2,
          2.4,
          1.6,
          1.4,
          0.8,
          1.6,
          1.8,
          1.8,
          2.7,
          2.3,
          3.3,
          2.9,
          3.8,
          3.1,
          2.2,
          2.6,
          1.8,
          1.6,
          1.7,
          1.8,
          1.6,
          1.8,
          2.1,
          2.2,
          1.6,
          null,
          null,
          null,
          null,
          null,
          null,
          null,
          null,
          null,
          null,
          null,
          null,
          null,
          null,
          null,
          null,
          null,
          null,
          null
         ],
         "yaxis": "y"
        },
        {
         "hovertemplate": "ticker=VCI<br>quarter_end_time=%{x}<br>priceToBook=%{y}<extra></extra>",
         "legendgroup": "VCI",
         "line": {
          "color": "#ab63fa",
          "dash": "solid"
         },
         "marker": {
          "symbol": "circle"
         },
         "mode": "lines",
         "name": "VCI",
         "orientation": "v",
         "showlegend": true,
         "type": "scatter",
         "x": [
          "2022-09-30T23:59:59.999999",
          "2022-06-30T23:59:59.999999",
          "2022-03-31T23:59:59.999999",
          "2021-12-31T23:59:59.999999",
          "2021-09-30T23:59:59.999999",
          "2021-06-30T23:59:59.999999",
          "2021-03-31T23:59:59.999999",
          "2020-12-31T23:59:59.999999",
          "2020-09-30T23:59:59.999999",
          "2020-06-30T23:59:59.999999",
          "2020-03-31T23:59:59.999999",
          "2019-12-31T23:59:59.999999",
          "2019-09-30T23:59:59.999999",
          "2019-06-30T23:59:59.999999",
          "2019-03-31T23:59:59.999999",
          "2018-12-31T23:59:59.999999",
          "2018-09-30T23:59:59.999999",
          "2018-06-30T23:59:59.999999",
          "2018-03-31T23:59:59.999999",
          "2017-12-31T23:59:59.999999",
          "2017-09-30T23:59:59.999999",
          "2017-06-30T23:59:59.999999"
         ],
         "xaxis": "x",
         "y": [
          1.7,
          1.6,
          2.6,
          3.7,
          3.1,
          3.2,
          2.1,
          2.1,
          1.1,
          0.8,
          0.6,
          1.1,
          1.3,
          1.3,
          1.5,
          1.8,
          2.5,
          2.4,
          3.1,
          2.7,
          2.3,
          null
         ],
         "yaxis": "y"
        },
        {
         "hovertemplate": "ticker=STB<br>quarter_end_time=%{x}<br>priceToBook=%{y}<extra></extra>",
         "legendgroup": "STB",
         "line": {
          "color": "#FFA15A",
          "dash": "solid"
         },
         "marker": {
          "symbol": "circle"
         },
         "mode": "lines",
         "name": "STB",
         "orientation": "v",
         "showlegend": true,
         "type": "scatter",
         "x": [
          "2022-09-30T23:59:59.999999",
          "2022-06-30T23:59:59.999999",
          "2022-03-31T23:59:59.999999",
          "2021-12-31T23:59:59.999999",
          "2021-09-30T23:59:59.999999",
          "2021-06-30T23:59:59.999999",
          "2021-03-31T23:59:59.999999",
          "2020-12-31T23:59:59.999999",
          "2020-09-30T23:59:59.999999",
          "2020-06-30T23:59:59.999999",
          "2020-03-31T23:59:59.999999",
          "2019-12-31T23:59:59.999999",
          "2019-09-30T23:59:59.999999",
          "2019-06-30T23:59:59.999999",
          "2019-03-31T23:59:59.999999",
          "2018-12-31T23:59:59.999999",
          "2018-09-30T23:59:59.999999",
          "2018-06-30T23:59:59.999999",
          "2018-03-31T23:59:59.999999",
          "2017-12-31T23:59:59.999999",
          "2017-09-30T23:59:59.999999",
          "2017-06-30T23:59:59.999999",
          "2017-03-31T23:59:59.999999",
          "2016-12-31T23:59:59.999999",
          "2016-09-30T23:59:59.999999",
          "2016-06-30T23:59:59.999999",
          "2016-03-31T23:59:59.999999",
          "2015-12-31T23:59:59.999999",
          "2015-09-30T23:59:59.999999",
          "2015-06-30T23:59:59.999999",
          "2015-03-31T23:59:59.999999",
          "2014-12-31T23:59:59.999999",
          "2014-09-30T23:59:59.999999",
          "2014-06-30T23:59:59.999999",
          "2014-03-31T23:59:59.999999",
          "2013-12-31T23:59:59.999999",
          "2013-09-30T23:59:59.999999",
          "2013-06-30T23:59:59.999999",
          "2013-03-31T23:59:59.999999",
          "2012-12-31T23:59:59.999999",
          "2012-09-30T23:59:59.999999",
          "2012-06-30T23:59:59.999999",
          "2012-03-31T23:59:59.999999",
          "2011-12-31T23:59:59.999999",
          "2011-09-30T23:59:59.999999",
          "2011-06-30T23:59:59.999999",
          "2011-03-31T23:59:59.999999",
          "2010-12-31T23:59:59.999999",
          "2010-09-30T23:59:59.999999",
          "2010-06-30T23:59:59.999999",
          "2010-03-31T23:59:59.999999",
          "2009-12-31T23:59:59.999999",
          "2009-09-30T23:59:59.999999",
          "2009-06-30T23:59:59.999999",
          "2008-09-30T23:59:59.999999",
          "2007-09-30T23:59:59.999999",
          "2007-06-30T23:59:59.999999"
         ],
         "xaxis": "x",
         "y": [
          1.1,
          1.1,
          1.7,
          1.7,
          1.5,
          1.9,
          1.4,
          1.1,
          0.9,
          0.7,
          0.5,
          0.7,
          0.7,
          0.8,
          0.9,
          0.9,
          1,
          0.9,
          1.2,
          1,
          1,
          1.1,
          0.9,
          0.7,
          0.7,
          0.9,
          0.8,
          1,
          1.3,
          1.5,
          1.5,
          null,
          null,
          null,
          null,
          null,
          null,
          null,
          null,
          null,
          null,
          null,
          null,
          null,
          null,
          null,
          null,
          null,
          null,
          null,
          null,
          null,
          null,
          null,
          null,
          null,
          null
         ],
         "yaxis": "y"
        },
        {
         "hovertemplate": "ticker=MBB<br>quarter_end_time=%{x}<br>priceToBook=%{y}<extra></extra>",
         "legendgroup": "MBB",
         "line": {
          "color": "#19d3f3",
          "dash": "solid"
         },
         "marker": {
          "symbol": "circle"
         },
         "mode": "lines",
         "name": "MBB",
         "orientation": "v",
         "showlegend": true,
         "type": "scatter",
         "x": [
          "2022-09-30T23:59:59.999999",
          "2022-06-30T23:59:59.999999",
          "2022-03-31T23:59:59.999999",
          "2021-12-31T23:59:59.999999",
          "2021-09-30T23:59:59.999999",
          "2021-06-30T23:59:59.999999",
          "2021-03-31T23:59:59.999999",
          "2020-12-31T23:59:59.999999",
          "2020-09-30T23:59:59.999999",
          "2020-06-30T23:59:59.999999",
          "2020-03-31T23:59:59.999999",
          "2019-12-31T23:59:59.999999",
          "2019-09-30T23:59:59.999999",
          "2019-06-30T23:59:59.999999",
          "2019-03-31T23:59:59.999999",
          "2018-12-31T23:59:59.999999",
          "2018-09-30T23:59:59.999999",
          "2018-06-30T23:59:59.999999",
          "2018-03-31T23:59:59.999999",
          "2017-12-31T23:59:59.999999",
          "2017-09-30T23:59:59.999999",
          "2017-06-30T23:59:59.999999",
          "2017-03-31T23:59:59.999999",
          "2016-12-31T23:59:59.999999",
          "2016-09-30T23:59:59.999999",
          "2016-06-30T23:59:59.999999",
          "2016-03-31T23:59:59.999999",
          "2015-12-31T23:59:59.999999",
          "2015-09-30T23:59:59.999999",
          "2015-06-30T23:59:59.999999",
          "2015-03-31T23:59:59.999999",
          "2014-12-31T23:59:59.999999",
          "2014-09-30T23:59:59.999999",
          "2014-06-30T23:59:59.999999",
          "2014-03-31T23:59:59.999999",
          "2013-12-31T23:59:59.999999",
          "2013-09-30T23:59:59.999999",
          "2013-06-30T23:59:59.999999",
          "2013-03-31T23:59:59.999999",
          "2012-12-31T23:59:59.999999",
          "2012-09-30T23:59:59.999999",
          "2012-06-30T23:59:59.999999"
         ],
         "xaxis": "x",
         "y": [
          1.1,
          1.3,
          1.9,
          1.7,
          1.8,
          2.2,
          1.5,
          1.3,
          1,
          0.9,
          0.7,
          1.3,
          1.5,
          1.3,
          1.4,
          1.2,
          1.5,
          1.5,
          2.1,
          1.5,
          1.4,
          1.4,
          1,
          0.9,
          0.9,
          1,
          1,
          1,
          1.1,
          1.3,
          1.2,
          null,
          null,
          null,
          null,
          null,
          null,
          null,
          null,
          null,
          null,
          null
         ],
         "yaxis": "y"
        },
        {
         "hovertemplate": "ticker=MBS<br>quarter_end_time=%{x}<br>priceToBook=%{y}<extra></extra>",
         "legendgroup": "MBS",
         "line": {
          "color": "#FF6692",
          "dash": "solid"
         },
         "marker": {
          "symbol": "circle"
         },
         "mode": "lines",
         "name": "MBS",
         "orientation": "v",
         "showlegend": true,
         "type": "scatter",
         "x": [
          "2022-09-30T23:59:59.999999",
          "2022-06-30T23:59:59.999999",
          "2022-03-31T23:59:59.999999",
          "2021-12-31T23:59:59.999999",
          "2021-09-30T23:59:59.999999",
          "2021-06-30T23:59:59.999999",
          "2021-03-31T23:59:59.999999",
          "2020-12-31T23:59:59.999999",
          "2020-09-30T23:59:59.999999",
          "2020-06-30T23:59:59.999999",
          "2020-03-31T23:59:59.999999",
          "2019-12-31T23:59:59.999999",
          "2019-09-30T23:59:59.999999",
          "2019-06-30T23:59:59.999999",
          "2019-03-31T23:59:59.999999",
          "2018-12-31T23:59:59.999999",
          "2018-09-30T23:59:59.999999",
          "2018-06-30T23:59:59.999999",
          "2018-03-31T23:59:59.999999",
          "2017-12-31T23:59:59.999999",
          "2017-09-30T23:59:59.999999",
          "2017-06-30T23:59:59.999999"
         ],
         "xaxis": "x",
         "y": [
          1.5,
          1.3,
          2.7,
          3.5,
          2.9,
          3,
          2.2,
          1.7,
          1.1,
          1.1,
          0.8,
          1.4,
          1.5,
          1.5,
          1.7,
          1.5,
          2,
          1.7,
          2.2,
          1.8,
          1.5,
          1.1
         ],
         "yaxis": "y"
        }
       ],
       "layout": {
        "legend": {
         "title": {
          "text": "ticker"
         },
         "tracegroupgap": 0
        },
        "template": {
         "data": {
          "bar": [
           {
            "error_x": {
             "color": "#2a3f5f"
            },
            "error_y": {
             "color": "#2a3f5f"
            },
            "marker": {
             "line": {
              "color": "#E5ECF6",
              "width": 0.5
             },
             "pattern": {
              "fillmode": "overlay",
              "size": 10,
              "solidity": 0.2
             }
            },
            "type": "bar"
           }
          ],
          "barpolar": [
           {
            "marker": {
             "line": {
              "color": "#E5ECF6",
              "width": 0.5
             },
             "pattern": {
              "fillmode": "overlay",
              "size": 10,
              "solidity": 0.2
             }
            },
            "type": "barpolar"
           }
          ],
          "carpet": [
           {
            "aaxis": {
             "endlinecolor": "#2a3f5f",
             "gridcolor": "white",
             "linecolor": "white",
             "minorgridcolor": "white",
             "startlinecolor": "#2a3f5f"
            },
            "baxis": {
             "endlinecolor": "#2a3f5f",
             "gridcolor": "white",
             "linecolor": "white",
             "minorgridcolor": "white",
             "startlinecolor": "#2a3f5f"
            },
            "type": "carpet"
           }
          ],
          "choropleth": [
           {
            "colorbar": {
             "outlinewidth": 0,
             "ticks": ""
            },
            "type": "choropleth"
           }
          ],
          "contour": [
           {
            "colorbar": {
             "outlinewidth": 0,
             "ticks": ""
            },
            "colorscale": [
             [
              0,
              "#0d0887"
             ],
             [
              0.1111111111111111,
              "#46039f"
             ],
             [
              0.2222222222222222,
              "#7201a8"
             ],
             [
              0.3333333333333333,
              "#9c179e"
             ],
             [
              0.4444444444444444,
              "#bd3786"
             ],
             [
              0.5555555555555556,
              "#d8576b"
             ],
             [
              0.6666666666666666,
              "#ed7953"
             ],
             [
              0.7777777777777778,
              "#fb9f3a"
             ],
             [
              0.8888888888888888,
              "#fdca26"
             ],
             [
              1,
              "#f0f921"
             ]
            ],
            "type": "contour"
           }
          ],
          "contourcarpet": [
           {
            "colorbar": {
             "outlinewidth": 0,
             "ticks": ""
            },
            "type": "contourcarpet"
           }
          ],
          "heatmap": [
           {
            "colorbar": {
             "outlinewidth": 0,
             "ticks": ""
            },
            "colorscale": [
             [
              0,
              "#0d0887"
             ],
             [
              0.1111111111111111,
              "#46039f"
             ],
             [
              0.2222222222222222,
              "#7201a8"
             ],
             [
              0.3333333333333333,
              "#9c179e"
             ],
             [
              0.4444444444444444,
              "#bd3786"
             ],
             [
              0.5555555555555556,
              "#d8576b"
             ],
             [
              0.6666666666666666,
              "#ed7953"
             ],
             [
              0.7777777777777778,
              "#fb9f3a"
             ],
             [
              0.8888888888888888,
              "#fdca26"
             ],
             [
              1,
              "#f0f921"
             ]
            ],
            "type": "heatmap"
           }
          ],
          "heatmapgl": [
           {
            "colorbar": {
             "outlinewidth": 0,
             "ticks": ""
            },
            "colorscale": [
             [
              0,
              "#0d0887"
             ],
             [
              0.1111111111111111,
              "#46039f"
             ],
             [
              0.2222222222222222,
              "#7201a8"
             ],
             [
              0.3333333333333333,
              "#9c179e"
             ],
             [
              0.4444444444444444,
              "#bd3786"
             ],
             [
              0.5555555555555556,
              "#d8576b"
             ],
             [
              0.6666666666666666,
              "#ed7953"
             ],
             [
              0.7777777777777778,
              "#fb9f3a"
             ],
             [
              0.8888888888888888,
              "#fdca26"
             ],
             [
              1,
              "#f0f921"
             ]
            ],
            "type": "heatmapgl"
           }
          ],
          "histogram": [
           {
            "marker": {
             "pattern": {
              "fillmode": "overlay",
              "size": 10,
              "solidity": 0.2
             }
            },
            "type": "histogram"
           }
          ],
          "histogram2d": [
           {
            "colorbar": {
             "outlinewidth": 0,
             "ticks": ""
            },
            "colorscale": [
             [
              0,
              "#0d0887"
             ],
             [
              0.1111111111111111,
              "#46039f"
             ],
             [
              0.2222222222222222,
              "#7201a8"
             ],
             [
              0.3333333333333333,
              "#9c179e"
             ],
             [
              0.4444444444444444,
              "#bd3786"
             ],
             [
              0.5555555555555556,
              "#d8576b"
             ],
             [
              0.6666666666666666,
              "#ed7953"
             ],
             [
              0.7777777777777778,
              "#fb9f3a"
             ],
             [
              0.8888888888888888,
              "#fdca26"
             ],
             [
              1,
              "#f0f921"
             ]
            ],
            "type": "histogram2d"
           }
          ],
          "histogram2dcontour": [
           {
            "colorbar": {
             "outlinewidth": 0,
             "ticks": ""
            },
            "colorscale": [
             [
              0,
              "#0d0887"
             ],
             [
              0.1111111111111111,
              "#46039f"
             ],
             [
              0.2222222222222222,
              "#7201a8"
             ],
             [
              0.3333333333333333,
              "#9c179e"
             ],
             [
              0.4444444444444444,
              "#bd3786"
             ],
             [
              0.5555555555555556,
              "#d8576b"
             ],
             [
              0.6666666666666666,
              "#ed7953"
             ],
             [
              0.7777777777777778,
              "#fb9f3a"
             ],
             [
              0.8888888888888888,
              "#fdca26"
             ],
             [
              1,
              "#f0f921"
             ]
            ],
            "type": "histogram2dcontour"
           }
          ],
          "mesh3d": [
           {
            "colorbar": {
             "outlinewidth": 0,
             "ticks": ""
            },
            "type": "mesh3d"
           }
          ],
          "parcoords": [
           {
            "line": {
             "colorbar": {
              "outlinewidth": 0,
              "ticks": ""
             }
            },
            "type": "parcoords"
           }
          ],
          "pie": [
           {
            "automargin": true,
            "type": "pie"
           }
          ],
          "scatter": [
           {
            "fillpattern": {
             "fillmode": "overlay",
             "size": 10,
             "solidity": 0.2
            },
            "type": "scatter"
           }
          ],
          "scatter3d": [
           {
            "line": {
             "colorbar": {
              "outlinewidth": 0,
              "ticks": ""
             }
            },
            "marker": {
             "colorbar": {
              "outlinewidth": 0,
              "ticks": ""
             }
            },
            "type": "scatter3d"
           }
          ],
          "scattercarpet": [
           {
            "marker": {
             "colorbar": {
              "outlinewidth": 0,
              "ticks": ""
             }
            },
            "type": "scattercarpet"
           }
          ],
          "scattergeo": [
           {
            "marker": {
             "colorbar": {
              "outlinewidth": 0,
              "ticks": ""
             }
            },
            "type": "scattergeo"
           }
          ],
          "scattergl": [
           {
            "marker": {
             "colorbar": {
              "outlinewidth": 0,
              "ticks": ""
             }
            },
            "type": "scattergl"
           }
          ],
          "scattermapbox": [
           {
            "marker": {
             "colorbar": {
              "outlinewidth": 0,
              "ticks": ""
             }
            },
            "type": "scattermapbox"
           }
          ],
          "scatterpolar": [
           {
            "marker": {
             "colorbar": {
              "outlinewidth": 0,
              "ticks": ""
             }
            },
            "type": "scatterpolar"
           }
          ],
          "scatterpolargl": [
           {
            "marker": {
             "colorbar": {
              "outlinewidth": 0,
              "ticks": ""
             }
            },
            "type": "scatterpolargl"
           }
          ],
          "scatterternary": [
           {
            "marker": {
             "colorbar": {
              "outlinewidth": 0,
              "ticks": ""
             }
            },
            "type": "scatterternary"
           }
          ],
          "surface": [
           {
            "colorbar": {
             "outlinewidth": 0,
             "ticks": ""
            },
            "colorscale": [
             [
              0,
              "#0d0887"
             ],
             [
              0.1111111111111111,
              "#46039f"
             ],
             [
              0.2222222222222222,
              "#7201a8"
             ],
             [
              0.3333333333333333,
              "#9c179e"
             ],
             [
              0.4444444444444444,
              "#bd3786"
             ],
             [
              0.5555555555555556,
              "#d8576b"
             ],
             [
              0.6666666666666666,
              "#ed7953"
             ],
             [
              0.7777777777777778,
              "#fb9f3a"
             ],
             [
              0.8888888888888888,
              "#fdca26"
             ],
             [
              1,
              "#f0f921"
             ]
            ],
            "type": "surface"
           }
          ],
          "table": [
           {
            "cells": {
             "fill": {
              "color": "#EBF0F8"
             },
             "line": {
              "color": "white"
             }
            },
            "header": {
             "fill": {
              "color": "#C8D4E3"
             },
             "line": {
              "color": "white"
             }
            },
            "type": "table"
           }
          ]
         },
         "layout": {
          "annotationdefaults": {
           "arrowcolor": "#2a3f5f",
           "arrowhead": 0,
           "arrowwidth": 1
          },
          "autotypenumbers": "strict",
          "coloraxis": {
           "colorbar": {
            "outlinewidth": 0,
            "ticks": ""
           }
          },
          "colorscale": {
           "diverging": [
            [
             0,
             "#8e0152"
            ],
            [
             0.1,
             "#c51b7d"
            ],
            [
             0.2,
             "#de77ae"
            ],
            [
             0.3,
             "#f1b6da"
            ],
            [
             0.4,
             "#fde0ef"
            ],
            [
             0.5,
             "#f7f7f7"
            ],
            [
             0.6,
             "#e6f5d0"
            ],
            [
             0.7,
             "#b8e186"
            ],
            [
             0.8,
             "#7fbc41"
            ],
            [
             0.9,
             "#4d9221"
            ],
            [
             1,
             "#276419"
            ]
           ],
           "sequential": [
            [
             0,
             "#0d0887"
            ],
            [
             0.1111111111111111,
             "#46039f"
            ],
            [
             0.2222222222222222,
             "#7201a8"
            ],
            [
             0.3333333333333333,
             "#9c179e"
            ],
            [
             0.4444444444444444,
             "#bd3786"
            ],
            [
             0.5555555555555556,
             "#d8576b"
            ],
            [
             0.6666666666666666,
             "#ed7953"
            ],
            [
             0.7777777777777778,
             "#fb9f3a"
            ],
            [
             0.8888888888888888,
             "#fdca26"
            ],
            [
             1,
             "#f0f921"
            ]
           ],
           "sequentialminus": [
            [
             0,
             "#0d0887"
            ],
            [
             0.1111111111111111,
             "#46039f"
            ],
            [
             0.2222222222222222,
             "#7201a8"
            ],
            [
             0.3333333333333333,
             "#9c179e"
            ],
            [
             0.4444444444444444,
             "#bd3786"
            ],
            [
             0.5555555555555556,
             "#d8576b"
            ],
            [
             0.6666666666666666,
             "#ed7953"
            ],
            [
             0.7777777777777778,
             "#fb9f3a"
            ],
            [
             0.8888888888888888,
             "#fdca26"
            ],
            [
             1,
             "#f0f921"
            ]
           ]
          },
          "colorway": [
           "#636efa",
           "#EF553B",
           "#00cc96",
           "#ab63fa",
           "#FFA15A",
           "#19d3f3",
           "#FF6692",
           "#B6E880",
           "#FF97FF",
           "#FECB52"
          ],
          "font": {
           "color": "#2a3f5f"
          },
          "geo": {
           "bgcolor": "white",
           "lakecolor": "white",
           "landcolor": "#E5ECF6",
           "showlakes": true,
           "showland": true,
           "subunitcolor": "white"
          },
          "hoverlabel": {
           "align": "left"
          },
          "hovermode": "closest",
          "mapbox": {
           "style": "light"
          },
          "paper_bgcolor": "white",
          "plot_bgcolor": "#E5ECF6",
          "polar": {
           "angularaxis": {
            "gridcolor": "white",
            "linecolor": "white",
            "ticks": ""
           },
           "bgcolor": "#E5ECF6",
           "radialaxis": {
            "gridcolor": "white",
            "linecolor": "white",
            "ticks": ""
           }
          },
          "scene": {
           "xaxis": {
            "backgroundcolor": "#E5ECF6",
            "gridcolor": "white",
            "gridwidth": 2,
            "linecolor": "white",
            "showbackground": true,
            "ticks": "",
            "zerolinecolor": "white"
           },
           "yaxis": {
            "backgroundcolor": "#E5ECF6",
            "gridcolor": "white",
            "gridwidth": 2,
            "linecolor": "white",
            "showbackground": true,
            "ticks": "",
            "zerolinecolor": "white"
           },
           "zaxis": {
            "backgroundcolor": "#E5ECF6",
            "gridcolor": "white",
            "gridwidth": 2,
            "linecolor": "white",
            "showbackground": true,
            "ticks": "",
            "zerolinecolor": "white"
           }
          },
          "shapedefaults": {
           "line": {
            "color": "#2a3f5f"
           }
          },
          "ternary": {
           "aaxis": {
            "gridcolor": "white",
            "linecolor": "white",
            "ticks": ""
           },
           "baxis": {
            "gridcolor": "white",
            "linecolor": "white",
            "ticks": ""
           },
           "bgcolor": "#E5ECF6",
           "caxis": {
            "gridcolor": "white",
            "linecolor": "white",
            "ticks": ""
           }
          },
          "title": {
           "x": 0.05
          },
          "xaxis": {
           "automargin": true,
           "gridcolor": "white",
           "linecolor": "white",
           "ticks": "",
           "title": {
            "standoff": 15
           },
           "zerolinecolor": "white",
           "zerolinewidth": 2
          },
          "yaxis": {
           "automargin": true,
           "gridcolor": "white",
           "linecolor": "white",
           "ticks": "",
           "title": {
            "standoff": 15
           },
           "zerolinecolor": "white",
           "zerolinewidth": 2
          }
         }
        },
        "title": {
         "text": "P/B"
        },
        "xaxis": {
         "anchor": "y",
         "domain": [
          0,
          1
         ],
         "title": {
          "text": "quarter_end_time"
         }
        },
        "yaxis": {
         "anchor": "x",
         "domain": [
          0,
          1
         ],
         "title": {
          "text": "priceToBook"
         }
        }
       }
      }
     },
     "metadata": {},
     "output_type": "display_data"
    }
   ],
   "source": [
    "import seaborn as sns\n",
    "import plotly.express as px\n",
    "\n",
    "fig = px.line(\n",
    "    balancesheet_financialratio_incomestatement_per_group,\n",
    "    x=\"quarter_end_time\",\n",
    "    y=\"priceToBook\",\n",
    "    color=\"ticker\",\n",
    "    title=\"P/B\",\n",
    ")\n",
    "fig.show()\n"
   ]
  },
  {
   "cell_type": "markdown",
   "metadata": {},
   "source": [
    "## ROA (Return on Assets)"
   ]
  },
  {
   "cell_type": "code",
   "execution_count": 67,
   "metadata": {},
   "outputs": [
    {
     "data": {
      "application/vnd.plotly.v1+json": {
       "config": {
        "plotlyServerURL": "https://plot.ly"
       },
       "data": [
        {
         "hovertemplate": "ticker=HPG<br>quarter_end_time=%{x}<br>roa=%{y}<extra></extra>",
         "legendgroup": "HPG",
         "line": {
          "color": "#636efa",
          "dash": "solid"
         },
         "marker": {
          "symbol": "circle"
         },
         "mode": "lines",
         "name": "HPG",
         "orientation": "v",
         "showlegend": true,
         "type": "scatter",
         "x": [
          "2022-09-30T23:59:59.999999",
          "2022-06-30T23:59:59.999999",
          "2022-03-31T23:59:59.999999",
          "2021-12-31T23:59:59.999999",
          "2021-09-30T23:59:59.999999",
          "2021-06-30T23:59:59.999999",
          "2021-03-31T23:59:59.999999",
          "2020-12-31T23:59:59.999999",
          "2020-09-30T23:59:59.999999",
          "2020-06-30T23:59:59.999999",
          "2020-03-31T23:59:59.999999",
          "2019-12-31T23:59:59.999999",
          "2019-09-30T23:59:59.999999",
          "2019-06-30T23:59:59.999999",
          "2019-03-31T23:59:59.999999",
          "2018-12-31T23:59:59.999999",
          "2018-09-30T23:59:59.999999",
          "2018-06-30T23:59:59.999999",
          "2018-03-31T23:59:59.999999",
          "2017-12-31T23:59:59.999999",
          "2017-09-30T23:59:59.999999",
          "2017-06-30T23:59:59.999999",
          "2017-03-31T23:59:59.999999",
          "2016-12-31T23:59:59.999999",
          "2016-09-30T23:59:59.999999",
          "2016-06-30T23:59:59.999999",
          "2016-03-31T23:59:59.999999",
          "2015-12-31T23:59:59.999999",
          "2015-09-30T23:59:59.999999",
          "2015-06-30T23:59:59.999999",
          "2015-03-31T23:59:59.999999",
          "2014-12-31T23:59:59.999999",
          "2014-09-30T23:59:59.999999",
          "2014-06-30T23:59:59.999999",
          "2014-03-31T23:59:59.999999",
          "2013-12-31T23:59:59.999999",
          "2013-09-30T23:59:59.999999",
          "2013-06-30T23:59:59.999999",
          "2013-03-31T23:59:59.999999",
          "2012-12-31T23:59:59.999999",
          "2012-09-30T23:59:59.999999",
          "2012-06-30T23:59:59.999999",
          "2012-03-31T23:59:59.999999",
          "2011-12-31T23:59:59.999999",
          "2011-09-30T23:59:59.999999",
          "2011-06-30T23:59:59.999999",
          "2011-03-31T23:59:59.999999",
          "2010-12-31T23:59:59.999999",
          "2010-09-30T23:59:59.999999",
          "2010-06-30T23:59:59.999999",
          "2010-03-31T23:59:59.999999",
          "2009-12-31T23:59:59.999999",
          "2009-09-30T23:59:59.999999",
          "2009-06-30T23:59:59.999999",
          "2009-03-31T23:59:59.999999",
          "2008-12-31T23:59:59.999999",
          "2008-09-30T23:59:59.999999",
          "2008-06-30T23:59:59.999999"
         ],
         "xaxis": "x",
         "y": [
          0.1,
          0.164,
          0.22,
          0.223,
          0.217,
          0.184,
          0.147,
          0.115,
          0.1,
          0.085,
          0.083,
          0.083,
          0.088,
          0.103,
          0.117,
          0.131,
          0.155,
          0.176,
          0.181,
          0.186,
          0.197,
          0.209,
          0.241,
          0.225,
          0.197,
          0.183,
          0.163,
          0.146,
          0.149,
          0.149,
          0.134,
          0.14,
          0.145,
          0.135,
          0.116,
          0.093,
          0.082,
          0.074,
          0.07,
          0.055,
          0.055,
          0.044,
          0.053,
          0.076,
          0.094,
          0.111,
          0.116,
          0.107,
          0.103,
          0.116,
          0.151,
          0.162,
          0.126,
          0.099,
          0.121,
          0.165,
          0.321,
          0.254
         ],
         "yaxis": "y"
        },
        {
         "hovertemplate": "ticker=PVS<br>quarter_end_time=%{x}<br>roa=%{y}<extra></extra>",
         "legendgroup": "PVS",
         "line": {
          "color": "#EF553B",
          "dash": "solid"
         },
         "marker": {
          "symbol": "circle"
         },
         "mode": "lines",
         "name": "PVS",
         "orientation": "v",
         "showlegend": true,
         "type": "scatter",
         "x": [
          "2022-09-30T23:59:59.999999",
          "2022-06-30T23:59:59.999999",
          "2022-03-31T23:59:59.999999",
          "2021-12-31T23:59:59.999999",
          "2021-09-30T23:59:59.999999",
          "2021-06-30T23:59:59.999999",
          "2021-03-31T23:59:59.999999",
          "2020-12-31T23:59:59.999999",
          "2020-09-30T23:59:59.999999",
          "2020-06-30T23:59:59.999999",
          "2020-03-31T23:59:59.999999",
          "2019-12-31T23:59:59.999999",
          "2019-09-30T23:59:59.999999",
          "2019-06-30T23:59:59.999999",
          "2019-03-31T23:59:59.999999",
          "2018-12-31T23:59:59.999999",
          "2018-09-30T23:59:59.999999",
          "2018-06-30T23:59:59.999999",
          "2018-03-31T23:59:59.999999",
          "2017-12-31T23:59:59.999999",
          "2017-09-30T23:59:59.999999",
          "2017-06-30T23:59:59.999999",
          "2017-03-31T23:59:59.999999",
          "2016-12-31T23:59:59.999999",
          "2016-09-30T23:59:59.999999",
          "2016-06-30T23:59:59.999999",
          "2016-03-31T23:59:59.999999",
          "2015-12-31T23:59:59.999999",
          "2015-09-30T23:59:59.999999",
          "2015-06-30T23:59:59.999999",
          "2015-03-31T23:59:59.999999",
          "2014-12-31T23:59:59.999999",
          "2014-09-30T23:59:59.999999",
          "2014-06-30T23:59:59.999999",
          "2014-03-31T23:59:59.999999",
          "2013-12-31T23:59:59.999999",
          "2013-09-30T23:59:59.999999",
          "2013-06-30T23:59:59.999999",
          "2013-03-31T23:59:59.999999",
          "2012-12-31T23:59:59.999999",
          "2012-09-30T23:59:59.999999",
          "2012-06-30T23:59:59.999999",
          "2012-03-31T23:59:59.999999",
          "2011-12-31T23:59:59.999999",
          "2011-09-30T23:59:59.999999",
          "2011-06-30T23:59:59.999999",
          "2011-03-31T23:59:59.999999",
          "2010-12-31T23:59:59.999999",
          "2010-09-30T23:59:59.999999",
          "2010-06-30T23:59:59.999999",
          "2010-03-31T23:59:59.999999",
          "2009-12-31T23:59:59.999999",
          "2009-09-30T23:59:59.999999",
          "2009-06-30T23:59:59.999999",
          "2009-03-31T23:59:59.999999",
          "2008-12-31T23:59:59.999999",
          "2008-09-30T23:59:59.999999",
          "2008-06-30T23:59:59.999999"
         ],
         "xaxis": "x",
         "y": [
          0.02,
          0.021,
          0.027,
          0.024,
          0.023,
          0.022,
          0.027,
          0.025,
          0.036,
          0.031,
          0.031,
          0.043,
          0.039,
          0.046,
          0.05,
          0.046,
          0.035,
          0.03,
          0.034,
          0.033,
          0.034,
          0.034,
          0.038,
          0.038,
          0.039,
          0.049,
          0.056,
          0.057,
          0.067,
          0.069,
          0.073,
          0.07,
          0.063,
          0.07,
          0.066,
          0.068,
          0.051,
          0.047,
          0.05,
          0.053,
          0.066,
          0.062,
          0.065,
          0.063,
          0.051,
          0.048,
          0.053,
          0.061,
          0.065,
          0.064,
          0.069,
          0.063,
          0.071,
          0.076,
          0.083,
          0.081,
          0.066,
          0.109
         ],
         "yaxis": "y"
        },
        {
         "hovertemplate": "ticker=HCM<br>quarter_end_time=%{x}<br>roa=%{y}<extra></extra>",
         "legendgroup": "HCM",
         "line": {
          "color": "#00cc96",
          "dash": "solid"
         },
         "marker": {
          "symbol": "circle"
         },
         "mode": "lines",
         "name": "HCM",
         "orientation": "v",
         "showlegend": true,
         "type": "scatter",
         "x": [
          "2022-09-30T23:59:59.999999",
          "2022-06-30T23:59:59.999999",
          "2022-03-31T23:59:59.999999",
          "2021-12-31T23:59:59.999999",
          "2021-09-30T23:59:59.999999",
          "2021-06-30T23:59:59.999999",
          "2021-03-31T23:59:59.999999",
          "2020-12-31T23:59:59.999999",
          "2020-09-30T23:59:59.999999",
          "2020-06-30T23:59:59.999999",
          "2020-03-31T23:59:59.999999",
          "2019-12-31T23:59:59.999999",
          "2019-09-30T23:59:59.999999",
          "2019-06-30T23:59:59.999999",
          "2019-03-31T23:59:59.999999",
          "2018-12-31T23:59:59.999999",
          "2018-09-30T23:59:59.999999",
          "2018-06-30T23:59:59.999999",
          "2018-03-31T23:59:59.999999",
          "2017-12-31T23:59:59.999999",
          "2017-09-30T23:59:59.999999",
          "2017-06-30T23:59:59.999999",
          "2017-03-31T23:59:59.999999",
          "2016-12-31T23:59:59.999999",
          "2016-09-30T23:59:59.999999",
          "2016-06-30T23:59:59.999999",
          "2016-03-31T23:59:59.999999",
          "2015-12-31T23:59:59.999999",
          "2015-09-30T23:59:59.999999",
          "2015-06-30T23:59:59.999999",
          "2015-03-31T23:59:59.999999",
          "2014-12-31T23:59:59.999999",
          "2014-09-30T23:59:59.999999",
          "2014-06-30T23:59:59.999999",
          "2014-03-31T23:59:59.999999",
          "2013-12-31T23:59:59.999999",
          "2013-09-30T23:59:59.999999",
          "2013-06-30T23:59:59.999999",
          "2013-03-31T23:59:59.999999",
          "2012-12-31T23:59:59.999999",
          "2012-09-30T23:59:59.999999",
          "2012-06-30T23:59:59.999999",
          "2012-03-31T23:59:59.999999",
          "2011-12-31T23:59:59.999999",
          "2011-09-30T23:59:59.999999",
          "2011-06-30T23:59:59.999999",
          "2011-03-31T23:59:59.999999",
          "2010-12-31T23:59:59.999999",
          "2010-09-30T23:59:59.999999",
          "2010-06-30T23:59:59.999999"
         ],
         "xaxis": "x",
         "y": [
          0.048,
          0.064,
          0.059,
          0.062,
          0.075,
          0.079,
          0.071,
          0.053,
          0.065,
          0.07,
          0.075,
          0.068,
          0.062,
          0.067,
          0.073,
          0.113,
          0.151,
          0.168,
          0.155,
          0.108,
          0.106,
          0.09,
          0.098,
          0.084,
          0.088,
          0.077,
          0.079,
          0.057,
          0.059,
          0.083,
          0.095,
          0.108,
          0.125,
          0.101,
          0.098,
          0.089,
          0.072,
          0.057,
          0.072,
          0.085,
          0.092,
          0.105,
          0.097,
          0.075,
          0.072,
          0.067,
          0.083,
          0.079,
          0.099,
          0.131
         ],
         "yaxis": "y"
        },
        {
         "hovertemplate": "ticker=VCI<br>quarter_end_time=%{x}<br>roa=%{y}<extra></extra>",
         "legendgroup": "VCI",
         "line": {
          "color": "#ab63fa",
          "dash": "solid"
         },
         "marker": {
          "symbol": "circle"
         },
         "mode": "lines",
         "name": "VCI",
         "orientation": "v",
         "showlegend": true,
         "type": "scatter",
         "x": [
          "2022-09-30T23:59:59.999999",
          "2022-06-30T23:59:59.999999",
          "2022-03-31T23:59:59.999999",
          "2021-12-31T23:59:59.999999",
          "2021-09-30T23:59:59.999999",
          "2021-06-30T23:59:59.999999",
          "2021-03-31T23:59:59.999999",
          "2020-12-31T23:59:59.999999",
          "2020-09-30T23:59:59.999999",
          "2020-06-30T23:59:59.999999",
          "2020-03-31T23:59:59.999999",
          "2019-12-31T23:59:59.999999",
          "2019-09-30T23:59:59.999999",
          "2019-06-30T23:59:59.999999",
          "2019-03-31T23:59:59.999999",
          "2018-12-31T23:59:59.999999",
          "2018-09-30T23:59:59.999999",
          "2018-06-30T23:59:59.999999",
          "2018-03-31T23:59:59.999999",
          "2017-12-31T23:59:59.999999",
          "2017-09-30T23:59:59.999999",
          "2017-06-30T23:59:59.999999"
         ],
         "xaxis": "x",
         "y": [
          0.089,
          0.108,
          0.123,
          0.12,
          0.135,
          0.126,
          0.114,
          0.098,
          0.093,
          0.105,
          0.096,
          0.101,
          0.09,
          0.09,
          0.109,
          0.127,
          0.137,
          0.153,
          0.171,
          0.138,
          0.139,
          0.139
         ],
         "yaxis": "y"
        },
        {
         "hovertemplate": "ticker=STB<br>quarter_end_time=%{x}<br>roa=%{y}<extra></extra>",
         "legendgroup": "STB",
         "line": {
          "color": "#FFA15A",
          "dash": "solid"
         },
         "marker": {
          "symbol": "circle"
         },
         "mode": "lines",
         "name": "STB",
         "orientation": "v",
         "showlegend": true,
         "type": "scatter",
         "x": [
          "2022-09-30T23:59:59.999999",
          "2022-06-30T23:59:59.999999",
          "2022-03-31T23:59:59.999999",
          "2021-12-31T23:59:59.999999",
          "2021-09-30T23:59:59.999999",
          "2021-06-30T23:59:59.999999",
          "2021-03-31T23:59:59.999999",
          "2020-12-31T23:59:59.999999",
          "2020-09-30T23:59:59.999999",
          "2020-06-30T23:59:59.999999",
          "2020-03-31T23:59:59.999999",
          "2019-12-31T23:59:59.999999",
          "2019-09-30T23:59:59.999999",
          "2019-06-30T23:59:59.999999",
          "2019-03-31T23:59:59.999999",
          "2018-12-31T23:59:59.999999",
          "2018-09-30T23:59:59.999999",
          "2018-06-30T23:59:59.999999",
          "2018-03-31T23:59:59.999999",
          "2017-12-31T23:59:59.999999",
          "2017-09-30T23:59:59.999999",
          "2017-06-30T23:59:59.999999",
          "2017-03-31T23:59:59.999999",
          "2016-12-31T23:59:59.999999",
          "2016-09-30T23:59:59.999999",
          "2016-06-30T23:59:59.999999",
          "2016-03-31T23:59:59.999999",
          "2015-12-31T23:59:59.999999",
          "2015-09-30T23:59:59.999999",
          "2015-06-30T23:59:59.999999",
          "2015-03-31T23:59:59.999999",
          "2014-12-31T23:59:59.999999",
          "2014-09-30T23:59:59.999999",
          "2014-06-30T23:59:59.999999",
          "2014-03-31T23:59:59.999999",
          "2013-12-31T23:59:59.999999",
          "2013-09-30T23:59:59.999999",
          "2013-06-30T23:59:59.999999",
          "2013-03-31T23:59:59.999999",
          "2012-12-31T23:59:59.999999",
          "2012-09-30T23:59:59.999999",
          "2012-06-30T23:59:59.999999",
          "2012-03-31T23:59:59.999999",
          "2011-12-31T23:59:59.999999",
          "2011-09-30T23:59:59.999999",
          "2011-06-30T23:59:59.999999",
          "2011-03-31T23:59:59.999999",
          "2010-12-31T23:59:59.999999",
          "2010-09-30T23:59:59.999999",
          "2010-06-30T23:59:59.999999",
          "2010-03-31T23:59:59.999999",
          "2009-12-31T23:59:59.999999",
          "2009-09-30T23:59:59.999999",
          "2009-06-30T23:59:59.999999",
          "2008-09-30T23:59:59.999999",
          "2007-09-30T23:59:59.999999",
          "2007-06-30T23:59:59.999999"
         ],
         "xaxis": "x",
         "y": [
          0.008,
          0.007,
          0.007,
          0.007,
          0.007,
          0.007,
          0.006,
          0.006,
          0.005,
          0.005,
          0.005,
          0.006,
          0.007,
          0.005,
          0.006,
          0.005,
          0.003,
          0.004,
          0.004,
          0.003,
          0.002,
          0.002,
          0,
          0,
          -0.001,
          0,
          0.003,
          0.005,
          0.01,
          0.011,
          0.012,
          0.013,
          0.014,
          0.014,
          0.013,
          0.014,
          0.005,
          0.005,
          0.004,
          0.005,
          0.014,
          0.015,
          0.016,
          0.014,
          0.014,
          0.015,
          0.012,
          0.011,
          0.014,
          0.016,
          0.02,
          0.019,
          0.018,
          0.015,
          0.014,
          0.028,
          0.025
         ],
         "yaxis": "y"
        },
        {
         "hovertemplate": "ticker=MBB<br>quarter_end_time=%{x}<br>roa=%{y}<extra></extra>",
         "legendgroup": "MBB",
         "line": {
          "color": "#19d3f3",
          "dash": "solid"
         },
         "marker": {
          "symbol": "circle"
         },
         "mode": "lines",
         "name": "MBB",
         "orientation": "v",
         "showlegend": true,
         "type": "scatter",
         "x": [
          "2022-09-30T23:59:59.999999",
          "2022-06-30T23:59:59.999999",
          "2022-03-31T23:59:59.999999",
          "2021-12-31T23:59:59.999999",
          "2021-09-30T23:59:59.999999",
          "2021-06-30T23:59:59.999999",
          "2021-03-31T23:59:59.999999",
          "2020-12-31T23:59:59.999999",
          "2020-09-30T23:59:59.999999",
          "2020-06-30T23:59:59.999999",
          "2020-03-31T23:59:59.999999",
          "2019-12-31T23:59:59.999999",
          "2019-09-30T23:59:59.999999",
          "2019-06-30T23:59:59.999999",
          "2019-03-31T23:59:59.999999",
          "2018-12-31T23:59:59.999999",
          "2018-09-30T23:59:59.999999",
          "2018-06-30T23:59:59.999999",
          "2018-03-31T23:59:59.999999",
          "2017-12-31T23:59:59.999999",
          "2017-09-30T23:59:59.999999",
          "2017-06-30T23:59:59.999999",
          "2017-03-31T23:59:59.999999",
          "2016-12-31T23:59:59.999999",
          "2016-09-30T23:59:59.999999",
          "2016-06-30T23:59:59.999999",
          "2016-03-31T23:59:59.999999",
          "2015-12-31T23:59:59.999999",
          "2015-09-30T23:59:59.999999",
          "2015-06-30T23:59:59.999999",
          "2015-03-31T23:59:59.999999",
          "2014-12-31T23:59:59.999999",
          "2014-09-30T23:59:59.999999",
          "2014-06-30T23:59:59.999999",
          "2014-03-31T23:59:59.999999",
          "2013-12-31T23:59:59.999999",
          "2013-09-30T23:59:59.999999",
          "2013-06-30T23:59:59.999999",
          "2013-03-31T23:59:59.999999",
          "2012-12-31T23:59:59.999999",
          "2012-09-30T23:59:59.999999",
          "2012-06-30T23:59:59.999999"
         ],
         "xaxis": "x",
         "y": [
          0.029,
          0.027,
          0.024,
          0.023,
          0.023,
          0.022,
          0.022,
          0.018,
          0.02,
          0.019,
          0.019,
          0.02,
          0.02,
          0.019,
          0.018,
          0.018,
          0.016,
          0.015,
          0.015,
          0.012,
          0.014,
          0.013,
          0.013,
          0.012,
          0.012,
          0.012,
          0.012,
          0.012,
          0.013,
          0.013,
          0.013,
          0.013,
          0.013,
          0.012,
          0.013,
          0.013,
          0.013,
          0.014,
          0.014,
          0.015,
          0.021,
          0.02
         ],
         "yaxis": "y"
        },
        {
         "hovertemplate": "ticker=MBS<br>quarter_end_time=%{x}<br>roa=%{y}<extra></extra>",
         "legendgroup": "MBS",
         "line": {
          "color": "#FF6692",
          "dash": "solid"
         },
         "marker": {
          "symbol": "circle"
         },
         "mode": "lines",
         "name": "MBS",
         "orientation": "v",
         "showlegend": true,
         "type": "scatter",
         "x": [
          "2022-09-30T23:59:59.999999",
          "2022-06-30T23:59:59.999999",
          "2022-03-31T23:59:59.999999",
          "2021-12-31T23:59:59.999999",
          "2021-09-30T23:59:59.999999",
          "2021-06-30T23:59:59.999999",
          "2021-03-31T23:59:59.999999",
          "2020-12-31T23:59:59.999999",
          "2020-09-30T23:59:59.999999",
          "2020-06-30T23:59:59.999999",
          "2020-03-31T23:59:59.999999",
          "2019-12-31T23:59:59.999999",
          "2019-09-30T23:59:59.999999",
          "2019-06-30T23:59:59.999999",
          "2019-03-31T23:59:59.999999",
          "2018-12-31T23:59:59.999999",
          "2018-09-30T23:59:59.999999",
          "2018-06-30T23:59:59.999999",
          "2018-03-31T23:59:59.999999",
          "2017-12-31T23:59:59.999999",
          "2017-09-30T23:59:59.999999",
          "2017-06-30T23:59:59.999999"
         ],
         "xaxis": "x",
         "y": [
          0.054,
          0.067,
          0.068,
          0.065,
          0.065,
          0.057,
          0.054,
          0.046,
          0.047,
          0.048,
          0.047,
          0.054,
          0.04,
          0.044,
          0.04,
          0.044,
          0.046,
          0.034,
          0.021,
          0.006,
          0.005,
          0.005
         ],
         "yaxis": "y"
        }
       ],
       "layout": {
        "legend": {
         "title": {
          "text": "ticker"
         },
         "tracegroupgap": 0
        },
        "template": {
         "data": {
          "bar": [
           {
            "error_x": {
             "color": "#2a3f5f"
            },
            "error_y": {
             "color": "#2a3f5f"
            },
            "marker": {
             "line": {
              "color": "#E5ECF6",
              "width": 0.5
             },
             "pattern": {
              "fillmode": "overlay",
              "size": 10,
              "solidity": 0.2
             }
            },
            "type": "bar"
           }
          ],
          "barpolar": [
           {
            "marker": {
             "line": {
              "color": "#E5ECF6",
              "width": 0.5
             },
             "pattern": {
              "fillmode": "overlay",
              "size": 10,
              "solidity": 0.2
             }
            },
            "type": "barpolar"
           }
          ],
          "carpet": [
           {
            "aaxis": {
             "endlinecolor": "#2a3f5f",
             "gridcolor": "white",
             "linecolor": "white",
             "minorgridcolor": "white",
             "startlinecolor": "#2a3f5f"
            },
            "baxis": {
             "endlinecolor": "#2a3f5f",
             "gridcolor": "white",
             "linecolor": "white",
             "minorgridcolor": "white",
             "startlinecolor": "#2a3f5f"
            },
            "type": "carpet"
           }
          ],
          "choropleth": [
           {
            "colorbar": {
             "outlinewidth": 0,
             "ticks": ""
            },
            "type": "choropleth"
           }
          ],
          "contour": [
           {
            "colorbar": {
             "outlinewidth": 0,
             "ticks": ""
            },
            "colorscale": [
             [
              0,
              "#0d0887"
             ],
             [
              0.1111111111111111,
              "#46039f"
             ],
             [
              0.2222222222222222,
              "#7201a8"
             ],
             [
              0.3333333333333333,
              "#9c179e"
             ],
             [
              0.4444444444444444,
              "#bd3786"
             ],
             [
              0.5555555555555556,
              "#d8576b"
             ],
             [
              0.6666666666666666,
              "#ed7953"
             ],
             [
              0.7777777777777778,
              "#fb9f3a"
             ],
             [
              0.8888888888888888,
              "#fdca26"
             ],
             [
              1,
              "#f0f921"
             ]
            ],
            "type": "contour"
           }
          ],
          "contourcarpet": [
           {
            "colorbar": {
             "outlinewidth": 0,
             "ticks": ""
            },
            "type": "contourcarpet"
           }
          ],
          "heatmap": [
           {
            "colorbar": {
             "outlinewidth": 0,
             "ticks": ""
            },
            "colorscale": [
             [
              0,
              "#0d0887"
             ],
             [
              0.1111111111111111,
              "#46039f"
             ],
             [
              0.2222222222222222,
              "#7201a8"
             ],
             [
              0.3333333333333333,
              "#9c179e"
             ],
             [
              0.4444444444444444,
              "#bd3786"
             ],
             [
              0.5555555555555556,
              "#d8576b"
             ],
             [
              0.6666666666666666,
              "#ed7953"
             ],
             [
              0.7777777777777778,
              "#fb9f3a"
             ],
             [
              0.8888888888888888,
              "#fdca26"
             ],
             [
              1,
              "#f0f921"
             ]
            ],
            "type": "heatmap"
           }
          ],
          "heatmapgl": [
           {
            "colorbar": {
             "outlinewidth": 0,
             "ticks": ""
            },
            "colorscale": [
             [
              0,
              "#0d0887"
             ],
             [
              0.1111111111111111,
              "#46039f"
             ],
             [
              0.2222222222222222,
              "#7201a8"
             ],
             [
              0.3333333333333333,
              "#9c179e"
             ],
             [
              0.4444444444444444,
              "#bd3786"
             ],
             [
              0.5555555555555556,
              "#d8576b"
             ],
             [
              0.6666666666666666,
              "#ed7953"
             ],
             [
              0.7777777777777778,
              "#fb9f3a"
             ],
             [
              0.8888888888888888,
              "#fdca26"
             ],
             [
              1,
              "#f0f921"
             ]
            ],
            "type": "heatmapgl"
           }
          ],
          "histogram": [
           {
            "marker": {
             "pattern": {
              "fillmode": "overlay",
              "size": 10,
              "solidity": 0.2
             }
            },
            "type": "histogram"
           }
          ],
          "histogram2d": [
           {
            "colorbar": {
             "outlinewidth": 0,
             "ticks": ""
            },
            "colorscale": [
             [
              0,
              "#0d0887"
             ],
             [
              0.1111111111111111,
              "#46039f"
             ],
             [
              0.2222222222222222,
              "#7201a8"
             ],
             [
              0.3333333333333333,
              "#9c179e"
             ],
             [
              0.4444444444444444,
              "#bd3786"
             ],
             [
              0.5555555555555556,
              "#d8576b"
             ],
             [
              0.6666666666666666,
              "#ed7953"
             ],
             [
              0.7777777777777778,
              "#fb9f3a"
             ],
             [
              0.8888888888888888,
              "#fdca26"
             ],
             [
              1,
              "#f0f921"
             ]
            ],
            "type": "histogram2d"
           }
          ],
          "histogram2dcontour": [
           {
            "colorbar": {
             "outlinewidth": 0,
             "ticks": ""
            },
            "colorscale": [
             [
              0,
              "#0d0887"
             ],
             [
              0.1111111111111111,
              "#46039f"
             ],
             [
              0.2222222222222222,
              "#7201a8"
             ],
             [
              0.3333333333333333,
              "#9c179e"
             ],
             [
              0.4444444444444444,
              "#bd3786"
             ],
             [
              0.5555555555555556,
              "#d8576b"
             ],
             [
              0.6666666666666666,
              "#ed7953"
             ],
             [
              0.7777777777777778,
              "#fb9f3a"
             ],
             [
              0.8888888888888888,
              "#fdca26"
             ],
             [
              1,
              "#f0f921"
             ]
            ],
            "type": "histogram2dcontour"
           }
          ],
          "mesh3d": [
           {
            "colorbar": {
             "outlinewidth": 0,
             "ticks": ""
            },
            "type": "mesh3d"
           }
          ],
          "parcoords": [
           {
            "line": {
             "colorbar": {
              "outlinewidth": 0,
              "ticks": ""
             }
            },
            "type": "parcoords"
           }
          ],
          "pie": [
           {
            "automargin": true,
            "type": "pie"
           }
          ],
          "scatter": [
           {
            "fillpattern": {
             "fillmode": "overlay",
             "size": 10,
             "solidity": 0.2
            },
            "type": "scatter"
           }
          ],
          "scatter3d": [
           {
            "line": {
             "colorbar": {
              "outlinewidth": 0,
              "ticks": ""
             }
            },
            "marker": {
             "colorbar": {
              "outlinewidth": 0,
              "ticks": ""
             }
            },
            "type": "scatter3d"
           }
          ],
          "scattercarpet": [
           {
            "marker": {
             "colorbar": {
              "outlinewidth": 0,
              "ticks": ""
             }
            },
            "type": "scattercarpet"
           }
          ],
          "scattergeo": [
           {
            "marker": {
             "colorbar": {
              "outlinewidth": 0,
              "ticks": ""
             }
            },
            "type": "scattergeo"
           }
          ],
          "scattergl": [
           {
            "marker": {
             "colorbar": {
              "outlinewidth": 0,
              "ticks": ""
             }
            },
            "type": "scattergl"
           }
          ],
          "scattermapbox": [
           {
            "marker": {
             "colorbar": {
              "outlinewidth": 0,
              "ticks": ""
             }
            },
            "type": "scattermapbox"
           }
          ],
          "scatterpolar": [
           {
            "marker": {
             "colorbar": {
              "outlinewidth": 0,
              "ticks": ""
             }
            },
            "type": "scatterpolar"
           }
          ],
          "scatterpolargl": [
           {
            "marker": {
             "colorbar": {
              "outlinewidth": 0,
              "ticks": ""
             }
            },
            "type": "scatterpolargl"
           }
          ],
          "scatterternary": [
           {
            "marker": {
             "colorbar": {
              "outlinewidth": 0,
              "ticks": ""
             }
            },
            "type": "scatterternary"
           }
          ],
          "surface": [
           {
            "colorbar": {
             "outlinewidth": 0,
             "ticks": ""
            },
            "colorscale": [
             [
              0,
              "#0d0887"
             ],
             [
              0.1111111111111111,
              "#46039f"
             ],
             [
              0.2222222222222222,
              "#7201a8"
             ],
             [
              0.3333333333333333,
              "#9c179e"
             ],
             [
              0.4444444444444444,
              "#bd3786"
             ],
             [
              0.5555555555555556,
              "#d8576b"
             ],
             [
              0.6666666666666666,
              "#ed7953"
             ],
             [
              0.7777777777777778,
              "#fb9f3a"
             ],
             [
              0.8888888888888888,
              "#fdca26"
             ],
             [
              1,
              "#f0f921"
             ]
            ],
            "type": "surface"
           }
          ],
          "table": [
           {
            "cells": {
             "fill": {
              "color": "#EBF0F8"
             },
             "line": {
              "color": "white"
             }
            },
            "header": {
             "fill": {
              "color": "#C8D4E3"
             },
             "line": {
              "color": "white"
             }
            },
            "type": "table"
           }
          ]
         },
         "layout": {
          "annotationdefaults": {
           "arrowcolor": "#2a3f5f",
           "arrowhead": 0,
           "arrowwidth": 1
          },
          "autotypenumbers": "strict",
          "coloraxis": {
           "colorbar": {
            "outlinewidth": 0,
            "ticks": ""
           }
          },
          "colorscale": {
           "diverging": [
            [
             0,
             "#8e0152"
            ],
            [
             0.1,
             "#c51b7d"
            ],
            [
             0.2,
             "#de77ae"
            ],
            [
             0.3,
             "#f1b6da"
            ],
            [
             0.4,
             "#fde0ef"
            ],
            [
             0.5,
             "#f7f7f7"
            ],
            [
             0.6,
             "#e6f5d0"
            ],
            [
             0.7,
             "#b8e186"
            ],
            [
             0.8,
             "#7fbc41"
            ],
            [
             0.9,
             "#4d9221"
            ],
            [
             1,
             "#276419"
            ]
           ],
           "sequential": [
            [
             0,
             "#0d0887"
            ],
            [
             0.1111111111111111,
             "#46039f"
            ],
            [
             0.2222222222222222,
             "#7201a8"
            ],
            [
             0.3333333333333333,
             "#9c179e"
            ],
            [
             0.4444444444444444,
             "#bd3786"
            ],
            [
             0.5555555555555556,
             "#d8576b"
            ],
            [
             0.6666666666666666,
             "#ed7953"
            ],
            [
             0.7777777777777778,
             "#fb9f3a"
            ],
            [
             0.8888888888888888,
             "#fdca26"
            ],
            [
             1,
             "#f0f921"
            ]
           ],
           "sequentialminus": [
            [
             0,
             "#0d0887"
            ],
            [
             0.1111111111111111,
             "#46039f"
            ],
            [
             0.2222222222222222,
             "#7201a8"
            ],
            [
             0.3333333333333333,
             "#9c179e"
            ],
            [
             0.4444444444444444,
             "#bd3786"
            ],
            [
             0.5555555555555556,
             "#d8576b"
            ],
            [
             0.6666666666666666,
             "#ed7953"
            ],
            [
             0.7777777777777778,
             "#fb9f3a"
            ],
            [
             0.8888888888888888,
             "#fdca26"
            ],
            [
             1,
             "#f0f921"
            ]
           ]
          },
          "colorway": [
           "#636efa",
           "#EF553B",
           "#00cc96",
           "#ab63fa",
           "#FFA15A",
           "#19d3f3",
           "#FF6692",
           "#B6E880",
           "#FF97FF",
           "#FECB52"
          ],
          "font": {
           "color": "#2a3f5f"
          },
          "geo": {
           "bgcolor": "white",
           "lakecolor": "white",
           "landcolor": "#E5ECF6",
           "showlakes": true,
           "showland": true,
           "subunitcolor": "white"
          },
          "hoverlabel": {
           "align": "left"
          },
          "hovermode": "closest",
          "mapbox": {
           "style": "light"
          },
          "paper_bgcolor": "white",
          "plot_bgcolor": "#E5ECF6",
          "polar": {
           "angularaxis": {
            "gridcolor": "white",
            "linecolor": "white",
            "ticks": ""
           },
           "bgcolor": "#E5ECF6",
           "radialaxis": {
            "gridcolor": "white",
            "linecolor": "white",
            "ticks": ""
           }
          },
          "scene": {
           "xaxis": {
            "backgroundcolor": "#E5ECF6",
            "gridcolor": "white",
            "gridwidth": 2,
            "linecolor": "white",
            "showbackground": true,
            "ticks": "",
            "zerolinecolor": "white"
           },
           "yaxis": {
            "backgroundcolor": "#E5ECF6",
            "gridcolor": "white",
            "gridwidth": 2,
            "linecolor": "white",
            "showbackground": true,
            "ticks": "",
            "zerolinecolor": "white"
           },
           "zaxis": {
            "backgroundcolor": "#E5ECF6",
            "gridcolor": "white",
            "gridwidth": 2,
            "linecolor": "white",
            "showbackground": true,
            "ticks": "",
            "zerolinecolor": "white"
           }
          },
          "shapedefaults": {
           "line": {
            "color": "#2a3f5f"
           }
          },
          "ternary": {
           "aaxis": {
            "gridcolor": "white",
            "linecolor": "white",
            "ticks": ""
           },
           "baxis": {
            "gridcolor": "white",
            "linecolor": "white",
            "ticks": ""
           },
           "bgcolor": "#E5ECF6",
           "caxis": {
            "gridcolor": "white",
            "linecolor": "white",
            "ticks": ""
           }
          },
          "title": {
           "x": 0.05
          },
          "xaxis": {
           "automargin": true,
           "gridcolor": "white",
           "linecolor": "white",
           "ticks": "",
           "title": {
            "standoff": 15
           },
           "zerolinecolor": "white",
           "zerolinewidth": 2
          },
          "yaxis": {
           "automargin": true,
           "gridcolor": "white",
           "linecolor": "white",
           "ticks": "",
           "title": {
            "standoff": 15
           },
           "zerolinecolor": "white",
           "zerolinewidth": 2
          }
         }
        },
        "title": {
         "text": "ROA"
        },
        "xaxis": {
         "anchor": "y",
         "domain": [
          0,
          1
         ],
         "title": {
          "text": "quarter_end_time"
         }
        },
        "yaxis": {
         "anchor": "x",
         "domain": [
          0,
          1
         ],
         "tickformat": ",.0%",
         "title": {
          "text": "roa"
         }
        }
       }
      }
     },
     "metadata": {},
     "output_type": "display_data"
    }
   ],
   "source": [
    "import seaborn as sns\n",
    "import plotly.express as px\n",
    "\n",
    "fig = px.line(\n",
    "    balancesheet_financialratio_incomestatement_per_group,\n",
    "    x=\"quarter_end_time\",\n",
    "    y=\"roa\",\n",
    "    color=\"ticker\",\n",
    "    title=\"ROA\",\n",
    ")\n",
    "fig.layout.yaxis.tickformat = ',.0%'\n",
    "fig.show()"
   ]
  },
  {
   "cell_type": "markdown",
   "metadata": {},
   "source": [
    "## ROE (Return on Equity)"
   ]
  },
  {
   "cell_type": "code",
   "execution_count": 68,
   "metadata": {},
   "outputs": [
    {
     "data": {
      "application/vnd.plotly.v1+json": {
       "config": {
        "plotlyServerURL": "https://plot.ly"
       },
       "data": [
        {
         "hovertemplate": "ticker=HPG<br>quarter_end_time=%{x}<br>roe=%{y}<extra></extra>",
         "legendgroup": "HPG",
         "line": {
          "color": "#636efa",
          "dash": "solid"
         },
         "marker": {
          "symbol": "circle"
         },
         "mode": "lines",
         "name": "HPG",
         "orientation": "v",
         "showlegend": true,
         "type": "scatter",
         "x": [
          "2022-09-30T23:59:59.999999",
          "2022-06-30T23:59:59.999999",
          "2022-03-31T23:59:59.999999",
          "2021-12-31T23:59:59.999999",
          "2021-09-30T23:59:59.999999",
          "2021-06-30T23:59:59.999999",
          "2021-03-31T23:59:59.999999",
          "2020-12-31T23:59:59.999999",
          "2020-09-30T23:59:59.999999",
          "2020-06-30T23:59:59.999999",
          "2020-03-31T23:59:59.999999",
          "2019-12-31T23:59:59.999999",
          "2019-09-30T23:59:59.999999",
          "2019-06-30T23:59:59.999999",
          "2019-03-31T23:59:59.999999",
          "2018-12-31T23:59:59.999999",
          "2018-09-30T23:59:59.999999",
          "2018-06-30T23:59:59.999999",
          "2018-03-31T23:59:59.999999",
          "2017-12-31T23:59:59.999999",
          "2017-09-30T23:59:59.999999",
          "2017-06-30T23:59:59.999999",
          "2017-03-31T23:59:59.999999",
          "2016-12-31T23:59:59.999999",
          "2016-09-30T23:59:59.999999",
          "2016-06-30T23:59:59.999999",
          "2016-03-31T23:59:59.999999",
          "2015-12-31T23:59:59.999999",
          "2015-09-30T23:59:59.999999",
          "2015-06-30T23:59:59.999999",
          "2015-03-31T23:59:59.999999",
          "2014-12-31T23:59:59.999999",
          "2014-09-30T23:59:59.999999",
          "2014-06-30T23:59:59.999999",
          "2014-03-31T23:59:59.999999",
          "2013-12-31T23:59:59.999999",
          "2013-09-30T23:59:59.999999",
          "2013-06-30T23:59:59.999999",
          "2013-03-31T23:59:59.999999",
          "2012-12-31T23:59:59.999999",
          "2012-09-30T23:59:59.999999",
          "2012-06-30T23:59:59.999999",
          "2012-03-31T23:59:59.999999",
          "2011-12-31T23:59:59.999999",
          "2011-09-30T23:59:59.999999",
          "2011-06-30T23:59:59.999999",
          "2011-03-31T23:59:59.999999",
          "2010-12-31T23:59:59.999999",
          "2010-09-30T23:59:59.999999",
          "2010-06-30T23:59:59.999999",
          "2010-03-31T23:59:59.999999",
          "2009-12-31T23:59:59.999999",
          "2009-09-30T23:59:59.999999",
          "2009-06-30T23:59:59.999999",
          "2009-03-31T23:59:59.999999",
          "2008-12-31T23:59:59.999999",
          "2008-09-30T23:59:59.999999",
          "2008-06-30T23:59:59.999999"
         ],
         "xaxis": "x",
         "y": [
          0.197,
          0.346,
          0.433,
          0.461,
          0.456,
          0.398,
          0.313,
          0.252,
          0.213,
          0.18,
          0.174,
          0.17,
          0.174,
          0.199,
          0.214,
          0.236,
          0.267,
          0.301,
          0.298,
          0.308,
          0.315,
          0.349,
          0.409,
          0.386,
          0.326,
          0.304,
          0.278,
          0.265,
          0.266,
          0.271,
          0.258,
          0.294,
          0.307,
          0.285,
          0.245,
          0.222,
          0.188,
          0.168,
          0.151,
          0.125,
          0.123,
          0.101,
          0.123,
          0.171,
          0.227,
          0.27,
          0.267,
          0.238,
          0.221,
          0.243,
          0.266,
          0.285,
          0.18,
          0.152,
          0.175,
          0.233,
          0.366,
          0.346
         ],
         "yaxis": "y"
        },
        {
         "hovertemplate": "ticker=PVS<br>quarter_end_time=%{x}<br>roe=%{y}<extra></extra>",
         "legendgroup": "PVS",
         "line": {
          "color": "#EF553B",
          "dash": "solid"
         },
         "marker": {
          "symbol": "circle"
         },
         "mode": "lines",
         "name": "PVS",
         "orientation": "v",
         "showlegend": true,
         "type": "scatter",
         "x": [
          "2022-09-30T23:59:59.999999",
          "2022-06-30T23:59:59.999999",
          "2022-03-31T23:59:59.999999",
          "2021-12-31T23:59:59.999999",
          "2021-09-30T23:59:59.999999",
          "2021-06-30T23:59:59.999999",
          "2021-03-31T23:59:59.999999",
          "2020-12-31T23:59:59.999999",
          "2020-09-30T23:59:59.999999",
          "2020-06-30T23:59:59.999999",
          "2020-03-31T23:59:59.999999",
          "2019-12-31T23:59:59.999999",
          "2019-09-30T23:59:59.999999",
          "2019-06-30T23:59:59.999999",
          "2019-03-31T23:59:59.999999",
          "2018-12-31T23:59:59.999999",
          "2018-09-30T23:59:59.999999",
          "2018-06-30T23:59:59.999999",
          "2018-03-31T23:59:59.999999",
          "2017-12-31T23:59:59.999999",
          "2017-09-30T23:59:59.999999",
          "2017-06-30T23:59:59.999999",
          "2017-03-31T23:59:59.999999",
          "2016-12-31T23:59:59.999999",
          "2016-09-30T23:59:59.999999",
          "2016-06-30T23:59:59.999999",
          "2016-03-31T23:59:59.999999",
          "2015-12-31T23:59:59.999999",
          "2015-09-30T23:59:59.999999",
          "2015-06-30T23:59:59.999999",
          "2015-03-31T23:59:59.999999",
          "2014-12-31T23:59:59.999999",
          "2014-09-30T23:59:59.999999",
          "2014-06-30T23:59:59.999999",
          "2014-03-31T23:59:59.999999",
          "2013-12-31T23:59:59.999999",
          "2013-09-30T23:59:59.999999",
          "2013-06-30T23:59:59.999999",
          "2013-03-31T23:59:59.999999",
          "2012-12-31T23:59:59.999999",
          "2012-09-30T23:59:59.999999",
          "2012-06-30T23:59:59.999999",
          "2012-03-31T23:59:59.999999",
          "2011-12-31T23:59:59.999999",
          "2011-09-30T23:59:59.999999",
          "2011-06-30T23:59:59.999999",
          "2011-03-31T23:59:59.999999",
          "2010-12-31T23:59:59.999999",
          "2010-09-30T23:59:59.999999",
          "2010-06-30T23:59:59.999999",
          "2010-03-31T23:59:59.999999",
          "2009-12-31T23:59:59.999999",
          "2009-09-30T23:59:59.999999",
          "2009-06-30T23:59:59.999999",
          "2009-03-31T23:59:59.999999",
          "2008-12-31T23:59:59.999999",
          "2008-09-30T23:59:59.999999",
          "2008-06-30T23:59:59.999999"
         ],
         "xaxis": "x",
         "y": [
          0.041,
          0.044,
          0.055,
          0.05,
          0.048,
          0.046,
          0.056,
          0.054,
          0.077,
          0.067,
          0.063,
          0.089,
          0.085,
          0.099,
          0.101,
          0.095,
          0.078,
          0.068,
          0.075,
          0.076,
          0.081,
          0.083,
          0.091,
          0.096,
          0.105,
          0.133,
          0.134,
          0.153,
          0.199,
          0.207,
          0.186,
          0.201,
          0.203,
          0.229,
          0.192,
          0.21,
          0.18,
          0.171,
          0.174,
          0.191,
          0.268,
          0.267,
          0.261,
          0.258,
          0.23,
          0.224,
          0.21,
          0.243,
          0.287,
          0.283,
          0.261,
          0.216,
          0.304,
          0.306,
          0.297,
          0.292,
          0.284,
          0.487
         ],
         "yaxis": "y"
        },
        {
         "hovertemplate": "ticker=HCM<br>quarter_end_time=%{x}<br>roe=%{y}<extra></extra>",
         "legendgroup": "HCM",
         "line": {
          "color": "#00cc96",
          "dash": "solid"
         },
         "marker": {
          "symbol": "circle"
         },
         "mode": "lines",
         "name": "HCM",
         "orientation": "v",
         "showlegend": true,
         "type": "scatter",
         "x": [
          "2022-09-30T23:59:59.999999",
          "2022-06-30T23:59:59.999999",
          "2022-03-31T23:59:59.999999",
          "2021-12-31T23:59:59.999999",
          "2021-09-30T23:59:59.999999",
          "2021-06-30T23:59:59.999999",
          "2021-03-31T23:59:59.999999",
          "2020-12-31T23:59:59.999999",
          "2020-09-30T23:59:59.999999",
          "2020-06-30T23:59:59.999999",
          "2020-03-31T23:59:59.999999",
          "2019-12-31T23:59:59.999999",
          "2019-09-30T23:59:59.999999",
          "2019-06-30T23:59:59.999999",
          "2019-03-31T23:59:59.999999",
          "2018-12-31T23:59:59.999999",
          "2018-09-30T23:59:59.999999",
          "2018-06-30T23:59:59.999999",
          "2018-03-31T23:59:59.999999",
          "2017-12-31T23:59:59.999999",
          "2017-09-30T23:59:59.999999",
          "2017-06-30T23:59:59.999999",
          "2017-03-31T23:59:59.999999",
          "2016-12-31T23:59:59.999999",
          "2016-09-30T23:59:59.999999",
          "2016-06-30T23:59:59.999999",
          "2016-03-31T23:59:59.999999",
          "2015-12-31T23:59:59.999999",
          "2015-09-30T23:59:59.999999",
          "2015-06-30T23:59:59.999999",
          "2015-03-31T23:59:59.999999",
          "2014-12-31T23:59:59.999999",
          "2014-09-30T23:59:59.999999",
          "2014-06-30T23:59:59.999999",
          "2014-03-31T23:59:59.999999",
          "2013-12-31T23:59:59.999999",
          "2013-09-30T23:59:59.999999",
          "2013-06-30T23:59:59.999999",
          "2013-03-31T23:59:59.999999",
          "2012-12-31T23:59:59.999999",
          "2012-09-30T23:59:59.999999",
          "2012-06-30T23:59:59.999999",
          "2012-03-31T23:59:59.999999",
          "2011-12-31T23:59:59.999999",
          "2011-09-30T23:59:59.999999",
          "2011-06-30T23:59:59.999999",
          "2011-03-31T23:59:59.999999",
          "2010-12-31T23:59:59.999999",
          "2010-09-30T23:59:59.999999",
          "2010-06-30T23:59:59.999999"
         ],
         "xaxis": "x",
         "y": [
          0.145,
          0.175,
          0.179,
          0.195,
          0.221,
          0.194,
          0.164,
          0.121,
          0.118,
          0.115,
          0.12,
          0.117,
          0.102,
          0.111,
          0.141,
          0.231,
          0.278,
          0.293,
          0.283,
          0.214,
          0.178,
          0.163,
          0.138,
          0.13,
          0.128,
          0.116,
          0.098,
          null,
          null,
          null,
          null,
          null,
          null,
          null,
          null,
          null,
          null,
          null,
          null,
          null,
          null,
          null,
          null,
          null,
          null,
          null,
          null,
          null,
          null,
          null
         ],
         "yaxis": "y"
        },
        {
         "hovertemplate": "ticker=VCI<br>quarter_end_time=%{x}<br>roe=%{y}<extra></extra>",
         "legendgroup": "VCI",
         "line": {
          "color": "#ab63fa",
          "dash": "solid"
         },
         "marker": {
          "symbol": "circle"
         },
         "mode": "lines",
         "name": "VCI",
         "orientation": "v",
         "showlegend": true,
         "type": "scatter",
         "x": [
          "2022-09-30T23:59:59.999999",
          "2022-06-30T23:59:59.999999",
          "2022-03-31T23:59:59.999999",
          "2021-12-31T23:59:59.999999",
          "2021-09-30T23:59:59.999999",
          "2021-06-30T23:59:59.999999",
          "2021-03-31T23:59:59.999999",
          "2020-12-31T23:59:59.999999",
          "2020-09-30T23:59:59.999999",
          "2020-06-30T23:59:59.999999",
          "2020-03-31T23:59:59.999999",
          "2019-12-31T23:59:59.999999",
          "2019-09-30T23:59:59.999999",
          "2019-06-30T23:59:59.999999",
          "2019-03-31T23:59:59.999999",
          "2018-12-31T23:59:59.999999",
          "2018-09-30T23:59:59.999999",
          "2018-06-30T23:59:59.999999",
          "2018-03-31T23:59:59.999999",
          "2017-12-31T23:59:59.999999",
          "2017-09-30T23:59:59.999999",
          "2017-06-30T23:59:59.999999"
         ],
         "xaxis": "x",
         "y": [
          0.202,
          0.243,
          0.269,
          0.271,
          0.267,
          0.254,
          0.221,
          0.179,
          0.159,
          0.187,
          0.169,
          0.18,
          0.165,
          0.179,
          0.192,
          0.247,
          0.271,
          0.364,
          0.354,
          0.311,
          0.312,
          0.405
         ],
         "yaxis": "y"
        },
        {
         "hovertemplate": "ticker=STB<br>quarter_end_time=%{x}<br>roe=%{y}<extra></extra>",
         "legendgroup": "STB",
         "line": {
          "color": "#FFA15A",
          "dash": "solid"
         },
         "marker": {
          "symbol": "circle"
         },
         "mode": "lines",
         "name": "STB",
         "orientation": "v",
         "showlegend": true,
         "type": "scatter",
         "x": [
          "2022-09-30T23:59:59.999999",
          "2022-06-30T23:59:59.999999",
          "2022-03-31T23:59:59.999999",
          "2021-12-31T23:59:59.999999",
          "2021-09-30T23:59:59.999999",
          "2021-06-30T23:59:59.999999",
          "2021-03-31T23:59:59.999999",
          "2020-12-31T23:59:59.999999",
          "2020-09-30T23:59:59.999999",
          "2020-06-30T23:59:59.999999",
          "2020-03-31T23:59:59.999999",
          "2019-12-31T23:59:59.999999",
          "2019-09-30T23:59:59.999999",
          "2019-06-30T23:59:59.999999",
          "2019-03-31T23:59:59.999999",
          "2018-12-31T23:59:59.999999",
          "2018-09-30T23:59:59.999999",
          "2018-06-30T23:59:59.999999",
          "2018-03-31T23:59:59.999999",
          "2017-12-31T23:59:59.999999",
          "2017-09-30T23:59:59.999999",
          "2017-06-30T23:59:59.999999",
          "2017-03-31T23:59:59.999999",
          "2016-12-31T23:59:59.999999",
          "2016-09-30T23:59:59.999999",
          "2016-06-30T23:59:59.999999",
          "2016-03-31T23:59:59.999999",
          "2015-12-31T23:59:59.999999",
          "2015-09-30T23:59:59.999999",
          "2015-06-30T23:59:59.999999",
          "2015-03-31T23:59:59.999999",
          "2014-12-31T23:59:59.999999",
          "2014-09-30T23:59:59.999999",
          "2014-06-30T23:59:59.999999",
          "2014-03-31T23:59:59.999999",
          "2013-12-31T23:59:59.999999",
          "2013-09-30T23:59:59.999999",
          "2013-06-30T23:59:59.999999",
          "2013-03-31T23:59:59.999999",
          "2012-12-31T23:59:59.999999",
          "2012-09-30T23:59:59.999999",
          "2012-06-30T23:59:59.999999",
          "2012-03-31T23:59:59.999999",
          "2011-12-31T23:59:59.999999",
          "2011-09-30T23:59:59.999999",
          "2011-06-30T23:59:59.999999",
          "2011-03-31T23:59:59.999999",
          "2010-12-31T23:59:59.999999",
          "2010-09-30T23:59:59.999999",
          "2010-06-30T23:59:59.999999",
          "2010-03-31T23:59:59.999999",
          "2009-12-31T23:59:59.999999",
          "2009-09-30T23:59:59.999999",
          "2009-06-30T23:59:59.999999",
          "2008-09-30T23:59:59.999999",
          "2007-09-30T23:59:59.999999",
          "2007-06-30T23:59:59.999999"
         ],
         "xaxis": "x",
         "y": [
          0.118,
          0.108,
          0.119,
          0.108,
          0.11,
          0.12,
          0.094,
          0.096,
          0.087,
          0.092,
          0.09,
          0.096,
          0.111,
          0.088,
          0.091,
          0.075,
          0.057,
          0.064,
          0.058,
          0.051,
          0.031,
          0.025,
          0.006,
          0.004,
          -0.017,
          -0.002,
          0.032,
          0.056,
          0.108,
          0.118,
          0.126,
          0.126,
          0.143,
          0.15,
          0.141,
          0.146,
          0.051,
          null,
          0.039,
          0.051,
          0.145,
          null,
          0.156,
          0.145,
          null,
          null,
          null,
          null,
          null,
          null,
          null,
          null,
          null,
          null,
          null,
          null,
          null
         ],
         "yaxis": "y"
        },
        {
         "hovertemplate": "ticker=MBB<br>quarter_end_time=%{x}<br>roe=%{y}<extra></extra>",
         "legendgroup": "MBB",
         "line": {
          "color": "#19d3f3",
          "dash": "solid"
         },
         "marker": {
          "symbol": "circle"
         },
         "mode": "lines",
         "name": "MBB",
         "orientation": "v",
         "showlegend": true,
         "type": "scatter",
         "x": [
          "2022-09-30T23:59:59.999999",
          "2022-06-30T23:59:59.999999",
          "2022-03-31T23:59:59.999999",
          "2021-12-31T23:59:59.999999",
          "2021-09-30T23:59:59.999999",
          "2021-06-30T23:59:59.999999",
          "2021-03-31T23:59:59.999999",
          "2020-12-31T23:59:59.999999",
          "2020-09-30T23:59:59.999999",
          "2020-06-30T23:59:59.999999",
          "2020-03-31T23:59:59.999999",
          "2019-12-31T23:59:59.999999",
          "2019-09-30T23:59:59.999999",
          "2019-06-30T23:59:59.999999",
          "2019-03-31T23:59:59.999999",
          "2018-12-31T23:59:59.999999",
          "2018-09-30T23:59:59.999999",
          "2018-06-30T23:59:59.999999",
          "2018-03-31T23:59:59.999999",
          "2017-12-31T23:59:59.999999",
          "2017-09-30T23:59:59.999999",
          "2017-06-30T23:59:59.999999",
          "2017-03-31T23:59:59.999999",
          "2016-12-31T23:59:59.999999",
          "2016-09-30T23:59:59.999999",
          "2016-06-30T23:59:59.999999",
          "2016-03-31T23:59:59.999999",
          "2015-12-31T23:59:59.999999",
          "2015-09-30T23:59:59.999999",
          "2015-06-30T23:59:59.999999",
          "2015-03-31T23:59:59.999999",
          "2014-12-31T23:59:59.999999",
          "2014-09-30T23:59:59.999999",
          "2014-06-30T23:59:59.999999",
          "2014-03-31T23:59:59.999999",
          "2013-12-31T23:59:59.999999",
          "2013-09-30T23:59:59.999999",
          "2013-06-30T23:59:59.999999",
          "2013-03-31T23:59:59.999999",
          "2012-12-31T23:59:59.999999",
          "2012-09-30T23:59:59.999999",
          "2012-06-30T23:59:59.999999"
         ],
         "xaxis": "x",
         "y": [
          0.273,
          0.26,
          0.237,
          0.236,
          0.217,
          0.215,
          0.216,
          0.192,
          0.2,
          0.207,
          0.201,
          0.221,
          0.218,
          0.218,
          0.202,
          0.202,
          0.173,
          0.161,
          0.151,
          0.129,
          0.144,
          0.132,
          0.125,
          0.119,
          0.116,
          0.122,
          0.127,
          0.127,
          0.132,
          0.152,
          0.15,
          0.156,
          0.147,
          0.146,
          0.152,
          0.162,
          0.149,
          0.165,
          0.166,
          0.195,
          0.234,
          0.237
         ],
         "yaxis": "y"
        },
        {
         "hovertemplate": "ticker=MBS<br>quarter_end_time=%{x}<br>roe=%{y}<extra></extra>",
         "legendgroup": "MBS",
         "line": {
          "color": "#FF6692",
          "dash": "solid"
         },
         "marker": {
          "symbol": "circle"
         },
         "mode": "lines",
         "name": "MBS",
         "orientation": "v",
         "showlegend": true,
         "type": "scatter",
         "x": [
          "2022-09-30T23:59:59.999999",
          "2022-06-30T23:59:59.999999",
          "2022-03-31T23:59:59.999999",
          "2021-12-31T23:59:59.999999",
          "2021-09-30T23:59:59.999999",
          "2021-06-30T23:59:59.999999",
          "2021-03-31T23:59:59.999999",
          "2020-12-31T23:59:59.999999",
          "2020-09-30T23:59:59.999999",
          "2020-06-30T23:59:59.999999",
          "2020-03-31T23:59:59.999999",
          "2019-12-31T23:59:59.999999",
          "2019-09-30T23:59:59.999999",
          "2019-06-30T23:59:59.999999",
          "2019-03-31T23:59:59.999999",
          "2018-12-31T23:59:59.999999",
          "2018-09-30T23:59:59.999999",
          "2018-06-30T23:59:59.999999",
          "2018-03-31T23:59:59.999999",
          "2017-12-31T23:59:59.999999",
          "2017-09-30T23:59:59.999999",
          "2017-06-30T23:59:59.999999"
         ],
         "xaxis": "x",
         "y": [
          0.174,
          0.2,
          0.238,
          0.214,
          0.197,
          0.159,
          0.165,
          0.144,
          0.128,
          0.122,
          0.113,
          0.146,
          0.111,
          0.118,
          0.115,
          0.129,
          0.133,
          0.1,
          0.065,
          0.018,
          0.015,
          0.014
         ],
         "yaxis": "y"
        }
       ],
       "layout": {
        "legend": {
         "title": {
          "text": "ticker"
         },
         "tracegroupgap": 0
        },
        "template": {
         "data": {
          "bar": [
           {
            "error_x": {
             "color": "#2a3f5f"
            },
            "error_y": {
             "color": "#2a3f5f"
            },
            "marker": {
             "line": {
              "color": "#E5ECF6",
              "width": 0.5
             },
             "pattern": {
              "fillmode": "overlay",
              "size": 10,
              "solidity": 0.2
             }
            },
            "type": "bar"
           }
          ],
          "barpolar": [
           {
            "marker": {
             "line": {
              "color": "#E5ECF6",
              "width": 0.5
             },
             "pattern": {
              "fillmode": "overlay",
              "size": 10,
              "solidity": 0.2
             }
            },
            "type": "barpolar"
           }
          ],
          "carpet": [
           {
            "aaxis": {
             "endlinecolor": "#2a3f5f",
             "gridcolor": "white",
             "linecolor": "white",
             "minorgridcolor": "white",
             "startlinecolor": "#2a3f5f"
            },
            "baxis": {
             "endlinecolor": "#2a3f5f",
             "gridcolor": "white",
             "linecolor": "white",
             "minorgridcolor": "white",
             "startlinecolor": "#2a3f5f"
            },
            "type": "carpet"
           }
          ],
          "choropleth": [
           {
            "colorbar": {
             "outlinewidth": 0,
             "ticks": ""
            },
            "type": "choropleth"
           }
          ],
          "contour": [
           {
            "colorbar": {
             "outlinewidth": 0,
             "ticks": ""
            },
            "colorscale": [
             [
              0,
              "#0d0887"
             ],
             [
              0.1111111111111111,
              "#46039f"
             ],
             [
              0.2222222222222222,
              "#7201a8"
             ],
             [
              0.3333333333333333,
              "#9c179e"
             ],
             [
              0.4444444444444444,
              "#bd3786"
             ],
             [
              0.5555555555555556,
              "#d8576b"
             ],
             [
              0.6666666666666666,
              "#ed7953"
             ],
             [
              0.7777777777777778,
              "#fb9f3a"
             ],
             [
              0.8888888888888888,
              "#fdca26"
             ],
             [
              1,
              "#f0f921"
             ]
            ],
            "type": "contour"
           }
          ],
          "contourcarpet": [
           {
            "colorbar": {
             "outlinewidth": 0,
             "ticks": ""
            },
            "type": "contourcarpet"
           }
          ],
          "heatmap": [
           {
            "colorbar": {
             "outlinewidth": 0,
             "ticks": ""
            },
            "colorscale": [
             [
              0,
              "#0d0887"
             ],
             [
              0.1111111111111111,
              "#46039f"
             ],
             [
              0.2222222222222222,
              "#7201a8"
             ],
             [
              0.3333333333333333,
              "#9c179e"
             ],
             [
              0.4444444444444444,
              "#bd3786"
             ],
             [
              0.5555555555555556,
              "#d8576b"
             ],
             [
              0.6666666666666666,
              "#ed7953"
             ],
             [
              0.7777777777777778,
              "#fb9f3a"
             ],
             [
              0.8888888888888888,
              "#fdca26"
             ],
             [
              1,
              "#f0f921"
             ]
            ],
            "type": "heatmap"
           }
          ],
          "heatmapgl": [
           {
            "colorbar": {
             "outlinewidth": 0,
             "ticks": ""
            },
            "colorscale": [
             [
              0,
              "#0d0887"
             ],
             [
              0.1111111111111111,
              "#46039f"
             ],
             [
              0.2222222222222222,
              "#7201a8"
             ],
             [
              0.3333333333333333,
              "#9c179e"
             ],
             [
              0.4444444444444444,
              "#bd3786"
             ],
             [
              0.5555555555555556,
              "#d8576b"
             ],
             [
              0.6666666666666666,
              "#ed7953"
             ],
             [
              0.7777777777777778,
              "#fb9f3a"
             ],
             [
              0.8888888888888888,
              "#fdca26"
             ],
             [
              1,
              "#f0f921"
             ]
            ],
            "type": "heatmapgl"
           }
          ],
          "histogram": [
           {
            "marker": {
             "pattern": {
              "fillmode": "overlay",
              "size": 10,
              "solidity": 0.2
             }
            },
            "type": "histogram"
           }
          ],
          "histogram2d": [
           {
            "colorbar": {
             "outlinewidth": 0,
             "ticks": ""
            },
            "colorscale": [
             [
              0,
              "#0d0887"
             ],
             [
              0.1111111111111111,
              "#46039f"
             ],
             [
              0.2222222222222222,
              "#7201a8"
             ],
             [
              0.3333333333333333,
              "#9c179e"
             ],
             [
              0.4444444444444444,
              "#bd3786"
             ],
             [
              0.5555555555555556,
              "#d8576b"
             ],
             [
              0.6666666666666666,
              "#ed7953"
             ],
             [
              0.7777777777777778,
              "#fb9f3a"
             ],
             [
              0.8888888888888888,
              "#fdca26"
             ],
             [
              1,
              "#f0f921"
             ]
            ],
            "type": "histogram2d"
           }
          ],
          "histogram2dcontour": [
           {
            "colorbar": {
             "outlinewidth": 0,
             "ticks": ""
            },
            "colorscale": [
             [
              0,
              "#0d0887"
             ],
             [
              0.1111111111111111,
              "#46039f"
             ],
             [
              0.2222222222222222,
              "#7201a8"
             ],
             [
              0.3333333333333333,
              "#9c179e"
             ],
             [
              0.4444444444444444,
              "#bd3786"
             ],
             [
              0.5555555555555556,
              "#d8576b"
             ],
             [
              0.6666666666666666,
              "#ed7953"
             ],
             [
              0.7777777777777778,
              "#fb9f3a"
             ],
             [
              0.8888888888888888,
              "#fdca26"
             ],
             [
              1,
              "#f0f921"
             ]
            ],
            "type": "histogram2dcontour"
           }
          ],
          "mesh3d": [
           {
            "colorbar": {
             "outlinewidth": 0,
             "ticks": ""
            },
            "type": "mesh3d"
           }
          ],
          "parcoords": [
           {
            "line": {
             "colorbar": {
              "outlinewidth": 0,
              "ticks": ""
             }
            },
            "type": "parcoords"
           }
          ],
          "pie": [
           {
            "automargin": true,
            "type": "pie"
           }
          ],
          "scatter": [
           {
            "fillpattern": {
             "fillmode": "overlay",
             "size": 10,
             "solidity": 0.2
            },
            "type": "scatter"
           }
          ],
          "scatter3d": [
           {
            "line": {
             "colorbar": {
              "outlinewidth": 0,
              "ticks": ""
             }
            },
            "marker": {
             "colorbar": {
              "outlinewidth": 0,
              "ticks": ""
             }
            },
            "type": "scatter3d"
           }
          ],
          "scattercarpet": [
           {
            "marker": {
             "colorbar": {
              "outlinewidth": 0,
              "ticks": ""
             }
            },
            "type": "scattercarpet"
           }
          ],
          "scattergeo": [
           {
            "marker": {
             "colorbar": {
              "outlinewidth": 0,
              "ticks": ""
             }
            },
            "type": "scattergeo"
           }
          ],
          "scattergl": [
           {
            "marker": {
             "colorbar": {
              "outlinewidth": 0,
              "ticks": ""
             }
            },
            "type": "scattergl"
           }
          ],
          "scattermapbox": [
           {
            "marker": {
             "colorbar": {
              "outlinewidth": 0,
              "ticks": ""
             }
            },
            "type": "scattermapbox"
           }
          ],
          "scatterpolar": [
           {
            "marker": {
             "colorbar": {
              "outlinewidth": 0,
              "ticks": ""
             }
            },
            "type": "scatterpolar"
           }
          ],
          "scatterpolargl": [
           {
            "marker": {
             "colorbar": {
              "outlinewidth": 0,
              "ticks": ""
             }
            },
            "type": "scatterpolargl"
           }
          ],
          "scatterternary": [
           {
            "marker": {
             "colorbar": {
              "outlinewidth": 0,
              "ticks": ""
             }
            },
            "type": "scatterternary"
           }
          ],
          "surface": [
           {
            "colorbar": {
             "outlinewidth": 0,
             "ticks": ""
            },
            "colorscale": [
             [
              0,
              "#0d0887"
             ],
             [
              0.1111111111111111,
              "#46039f"
             ],
             [
              0.2222222222222222,
              "#7201a8"
             ],
             [
              0.3333333333333333,
              "#9c179e"
             ],
             [
              0.4444444444444444,
              "#bd3786"
             ],
             [
              0.5555555555555556,
              "#d8576b"
             ],
             [
              0.6666666666666666,
              "#ed7953"
             ],
             [
              0.7777777777777778,
              "#fb9f3a"
             ],
             [
              0.8888888888888888,
              "#fdca26"
             ],
             [
              1,
              "#f0f921"
             ]
            ],
            "type": "surface"
           }
          ],
          "table": [
           {
            "cells": {
             "fill": {
              "color": "#EBF0F8"
             },
             "line": {
              "color": "white"
             }
            },
            "header": {
             "fill": {
              "color": "#C8D4E3"
             },
             "line": {
              "color": "white"
             }
            },
            "type": "table"
           }
          ]
         },
         "layout": {
          "annotationdefaults": {
           "arrowcolor": "#2a3f5f",
           "arrowhead": 0,
           "arrowwidth": 1
          },
          "autotypenumbers": "strict",
          "coloraxis": {
           "colorbar": {
            "outlinewidth": 0,
            "ticks": ""
           }
          },
          "colorscale": {
           "diverging": [
            [
             0,
             "#8e0152"
            ],
            [
             0.1,
             "#c51b7d"
            ],
            [
             0.2,
             "#de77ae"
            ],
            [
             0.3,
             "#f1b6da"
            ],
            [
             0.4,
             "#fde0ef"
            ],
            [
             0.5,
             "#f7f7f7"
            ],
            [
             0.6,
             "#e6f5d0"
            ],
            [
             0.7,
             "#b8e186"
            ],
            [
             0.8,
             "#7fbc41"
            ],
            [
             0.9,
             "#4d9221"
            ],
            [
             1,
             "#276419"
            ]
           ],
           "sequential": [
            [
             0,
             "#0d0887"
            ],
            [
             0.1111111111111111,
             "#46039f"
            ],
            [
             0.2222222222222222,
             "#7201a8"
            ],
            [
             0.3333333333333333,
             "#9c179e"
            ],
            [
             0.4444444444444444,
             "#bd3786"
            ],
            [
             0.5555555555555556,
             "#d8576b"
            ],
            [
             0.6666666666666666,
             "#ed7953"
            ],
            [
             0.7777777777777778,
             "#fb9f3a"
            ],
            [
             0.8888888888888888,
             "#fdca26"
            ],
            [
             1,
             "#f0f921"
            ]
           ],
           "sequentialminus": [
            [
             0,
             "#0d0887"
            ],
            [
             0.1111111111111111,
             "#46039f"
            ],
            [
             0.2222222222222222,
             "#7201a8"
            ],
            [
             0.3333333333333333,
             "#9c179e"
            ],
            [
             0.4444444444444444,
             "#bd3786"
            ],
            [
             0.5555555555555556,
             "#d8576b"
            ],
            [
             0.6666666666666666,
             "#ed7953"
            ],
            [
             0.7777777777777778,
             "#fb9f3a"
            ],
            [
             0.8888888888888888,
             "#fdca26"
            ],
            [
             1,
             "#f0f921"
            ]
           ]
          },
          "colorway": [
           "#636efa",
           "#EF553B",
           "#00cc96",
           "#ab63fa",
           "#FFA15A",
           "#19d3f3",
           "#FF6692",
           "#B6E880",
           "#FF97FF",
           "#FECB52"
          ],
          "font": {
           "color": "#2a3f5f"
          },
          "geo": {
           "bgcolor": "white",
           "lakecolor": "white",
           "landcolor": "#E5ECF6",
           "showlakes": true,
           "showland": true,
           "subunitcolor": "white"
          },
          "hoverlabel": {
           "align": "left"
          },
          "hovermode": "closest",
          "mapbox": {
           "style": "light"
          },
          "paper_bgcolor": "white",
          "plot_bgcolor": "#E5ECF6",
          "polar": {
           "angularaxis": {
            "gridcolor": "white",
            "linecolor": "white",
            "ticks": ""
           },
           "bgcolor": "#E5ECF6",
           "radialaxis": {
            "gridcolor": "white",
            "linecolor": "white",
            "ticks": ""
           }
          },
          "scene": {
           "xaxis": {
            "backgroundcolor": "#E5ECF6",
            "gridcolor": "white",
            "gridwidth": 2,
            "linecolor": "white",
            "showbackground": true,
            "ticks": "",
            "zerolinecolor": "white"
           },
           "yaxis": {
            "backgroundcolor": "#E5ECF6",
            "gridcolor": "white",
            "gridwidth": 2,
            "linecolor": "white",
            "showbackground": true,
            "ticks": "",
            "zerolinecolor": "white"
           },
           "zaxis": {
            "backgroundcolor": "#E5ECF6",
            "gridcolor": "white",
            "gridwidth": 2,
            "linecolor": "white",
            "showbackground": true,
            "ticks": "",
            "zerolinecolor": "white"
           }
          },
          "shapedefaults": {
           "line": {
            "color": "#2a3f5f"
           }
          },
          "ternary": {
           "aaxis": {
            "gridcolor": "white",
            "linecolor": "white",
            "ticks": ""
           },
           "baxis": {
            "gridcolor": "white",
            "linecolor": "white",
            "ticks": ""
           },
           "bgcolor": "#E5ECF6",
           "caxis": {
            "gridcolor": "white",
            "linecolor": "white",
            "ticks": ""
           }
          },
          "title": {
           "x": 0.05
          },
          "xaxis": {
           "automargin": true,
           "gridcolor": "white",
           "linecolor": "white",
           "ticks": "",
           "title": {
            "standoff": 15
           },
           "zerolinecolor": "white",
           "zerolinewidth": 2
          },
          "yaxis": {
           "automargin": true,
           "gridcolor": "white",
           "linecolor": "white",
           "ticks": "",
           "title": {
            "standoff": 15
           },
           "zerolinecolor": "white",
           "zerolinewidth": 2
          }
         }
        },
        "title": {
         "text": "ROE"
        },
        "xaxis": {
         "anchor": "y",
         "domain": [
          0,
          1
         ],
         "title": {
          "text": "quarter_end_time"
         }
        },
        "yaxis": {
         "anchor": "x",
         "domain": [
          0,
          1
         ],
         "tickformat": ",.0%",
         "title": {
          "text": "roe"
         }
        }
       }
      }
     },
     "metadata": {},
     "output_type": "display_data"
    }
   ],
   "source": [
    "import seaborn as sns\n",
    "import plotly.express as px\n",
    "\n",
    "fig = px.line(\n",
    "    balancesheet_financialratio_incomestatement_per_group,\n",
    "    x=\"quarter_end_time\",\n",
    "    y=\"roe\",\n",
    "    color=\"ticker\",\n",
    "    title=\"ROE\",\n",
    ")\n",
    "fig.layout.yaxis.tickformat = ',.0%'\n",
    "fig.show()"
   ]
  },
  {
   "cell_type": "markdown",
   "metadata": {},
   "source": [
    "## Biên LNST(%)"
   ]
  },
  {
   "cell_type": "code",
   "execution_count": 69,
   "metadata": {},
   "outputs": [
    {
     "data": {
      "application/vnd.plotly.v1+json": {
       "config": {
        "plotlyServerURL": "https://plot.ly"
       },
       "data": [
        {
         "hovertemplate": "ticker=HPG<br>quarter_end_time=%{x}<br>postTaxMargin=%{y}<extra></extra>",
         "legendgroup": "HPG",
         "line": {
          "color": "#636efa",
          "dash": "solid"
         },
         "marker": {
          "symbol": "circle"
         },
         "mode": "lines",
         "name": "HPG",
         "orientation": "v",
         "showlegend": true,
         "type": "scatter",
         "x": [
          "2022-09-30T23:59:59.999999",
          "2022-06-30T23:59:59.999999",
          "2022-03-31T23:59:59.999999",
          "2021-12-31T23:59:59.999999",
          "2021-09-30T23:59:59.999999",
          "2021-06-30T23:59:59.999999",
          "2021-03-31T23:59:59.999999",
          "2020-12-31T23:59:59.999999",
          "2020-09-30T23:59:59.999999",
          "2020-06-30T23:59:59.999999",
          "2020-03-31T23:59:59.999999",
          "2019-12-31T23:59:59.999999",
          "2019-09-30T23:59:59.999999",
          "2019-06-30T23:59:59.999999",
          "2019-03-31T23:59:59.999999",
          "2018-12-31T23:59:59.999999",
          "2018-09-30T23:59:59.999999",
          "2018-06-30T23:59:59.999999",
          "2018-03-31T23:59:59.999999",
          "2017-12-31T23:59:59.999999",
          "2017-09-30T23:59:59.999999",
          "2017-06-30T23:59:59.999999",
          "2017-03-31T23:59:59.999999",
          "2016-12-31T23:59:59.999999",
          "2016-09-30T23:59:59.999999",
          "2016-06-30T23:59:59.999999",
          "2016-03-31T23:59:59.999999",
          "2015-12-31T23:59:59.999999",
          "2015-09-30T23:59:59.999999",
          "2015-06-30T23:59:59.999999",
          "2015-03-31T23:59:59.999999",
          "2014-12-31T23:59:59.999999",
          "2014-09-30T23:59:59.999999",
          "2014-06-30T23:59:59.999999",
          "2014-03-31T23:59:59.999999",
          "2013-12-31T23:59:59.999999",
          "2013-09-30T23:59:59.999999",
          "2013-06-30T23:59:59.999999",
          "2013-03-31T23:59:59.999999",
          "2012-12-31T23:59:59.999999",
          "2012-09-30T23:59:59.999999",
          "2012-06-30T23:59:59.999999",
          "2012-03-31T23:59:59.999999",
          "2011-12-31T23:59:59.999999",
          "2011-09-30T23:59:59.999999",
          "2011-06-30T23:59:59.999999",
          "2011-03-31T23:59:59.999999",
          "2010-12-31T23:59:59.999999",
          "2010-09-30T23:59:59.999999",
          "2010-06-30T23:59:59.999999",
          "2010-03-31T23:59:59.999999",
          "2009-12-31T23:59:59.999999",
          "2009-09-30T23:59:59.999999",
          "2009-06-30T23:59:59.999999",
          "2009-03-31T23:59:59.999999",
          "2008-12-31T23:59:59.999999",
          "2008-09-30T23:59:59.999999",
          "2008-06-30T23:59:59.999999"
         ],
         "xaxis": "x",
         "y": [
          null,
          0.108,
          0.187,
          0.166,
          0.268,
          0.277,
          0.224,
          0.18,
          0.153,
          0.134,
          0.119,
          0.107,
          0.116,
          0.13,
          0.12,
          0.123,
          0.169,
          0.154,
          0.17,
          0.188,
          0.171,
          0.145,
          0.188,
          0.196,
          0.197,
          0.252,
          0.143,
          0.079,
          0.151,
          0.162,
          0.111,
          0.072,
          0.149,
          0.141,
          0.134,
          0.076,
          0.118,
          0.118,
          0.116,
          0.041,
          0.072,
          0.074,
          0.048,
          0.031,
          0.025,
          0.102,
          0.111,
          0.09,
          0.083,
          0.102,
          0.11,
          0.1,
          0.169,
          0.19,
          0.19,
          -0.128,
          0.145,
          0.15
         ],
         "yaxis": "y"
        },
        {
         "hovertemplate": "ticker=PVS<br>quarter_end_time=%{x}<br>postTaxMargin=%{y}<extra></extra>",
         "legendgroup": "PVS",
         "line": {
          "color": "#EF553B",
          "dash": "solid"
         },
         "marker": {
          "symbol": "circle"
         },
         "mode": "lines",
         "name": "PVS",
         "orientation": "v",
         "showlegend": true,
         "type": "scatter",
         "x": [
          "2022-09-30T23:59:59.999999",
          "2022-06-30T23:59:59.999999",
          "2022-03-31T23:59:59.999999",
          "2021-12-31T23:59:59.999999",
          "2021-09-30T23:59:59.999999",
          "2021-06-30T23:59:59.999999",
          "2021-03-31T23:59:59.999999",
          "2020-12-31T23:59:59.999999",
          "2020-09-30T23:59:59.999999",
          "2020-06-30T23:59:59.999999",
          "2020-03-31T23:59:59.999999",
          "2019-12-31T23:59:59.999999",
          "2019-09-30T23:59:59.999999",
          "2019-06-30T23:59:59.999999",
          "2019-03-31T23:59:59.999999",
          "2018-12-31T23:59:59.999999",
          "2018-09-30T23:59:59.999999",
          "2018-06-30T23:59:59.999999",
          "2018-03-31T23:59:59.999999",
          "2017-12-31T23:59:59.999999",
          "2017-09-30T23:59:59.999999",
          "2017-06-30T23:59:59.999999",
          "2017-03-31T23:59:59.999999",
          "2016-12-31T23:59:59.999999",
          "2016-09-30T23:59:59.999999",
          "2016-06-30T23:59:59.999999",
          "2016-03-31T23:59:59.999999",
          "2015-12-31T23:59:59.999999",
          "2015-09-30T23:59:59.999999",
          "2015-06-30T23:59:59.999999",
          "2015-03-31T23:59:59.999999",
          "2014-12-31T23:59:59.999999",
          "2014-09-30T23:59:59.999999",
          "2014-06-30T23:59:59.999999",
          "2014-03-31T23:59:59.999999",
          "2013-12-31T23:59:59.999999",
          "2013-09-30T23:59:59.999999",
          "2013-06-30T23:59:59.999999",
          "2013-03-31T23:59:59.999999",
          "2012-12-31T23:59:59.999999",
          "2012-09-30T23:59:59.999999",
          "2012-06-30T23:59:59.999999",
          "2012-03-31T23:59:59.999999",
          "2011-12-31T23:59:59.999999",
          "2011-09-30T23:59:59.999999",
          "2011-06-30T23:59:59.999999",
          "2011-03-31T23:59:59.999999",
          "2010-12-31T23:59:59.999999",
          "2010-09-30T23:59:59.999999",
          "2010-06-30T23:59:59.999999",
          "2010-03-31T23:59:59.999999",
          "2009-12-31T23:59:59.999999",
          "2009-09-30T23:59:59.999999",
          "2009-06-30T23:59:59.999999",
          "2009-03-31T23:59:59.999999",
          "2008-12-31T23:59:59.999999",
          "2008-09-30T23:59:59.999999",
          "2008-06-30T23:59:59.999999"
         ],
         "xaxis": "x",
         "y": [
          0.055,
          0.002,
          0.057,
          0.018,
          0.056,
          0.05,
          0.055,
          0.014,
          0.033,
          0.048,
          0.034,
          0.119,
          0.013,
          0.045,
          0.09,
          0.101,
          0.06,
          0.054,
          0.076,
          0.021,
          0.035,
          0.072,
          0.076,
          0.036,
          0.026,
          0.087,
          0.064,
          0.06,
          0.055,
          0.073,
          0.066,
          0.07,
          0.039,
          0.069,
          0.047,
          0.081,
          0.063,
          0.041,
          0.055,
          0.032,
          0.052,
          0.058,
          0.044,
          0.08,
          0.043,
          0.043,
          0.026,
          0.058,
          0.049,
          0.043,
          0.079,
          0.079,
          0.049,
          0.058,
          0.046,
          0.083,
          0.044,
          0.052
         ],
         "yaxis": "y"
        },
        {
         "hovertemplate": "ticker=HCM<br>quarter_end_time=%{x}<br>postTaxMargin=%{y}<extra></extra>",
         "legendgroup": "HCM",
         "line": {
          "color": "#00cc96",
          "dash": "solid"
         },
         "marker": {
          "symbol": "circle"
         },
         "mode": "lines",
         "name": "HCM",
         "orientation": "v",
         "showlegend": true,
         "type": "scatter",
         "x": [
          "2022-09-30T23:59:59.999999",
          "2022-06-30T23:59:59.999999",
          "2022-03-31T23:59:59.999999",
          "2021-12-31T23:59:59.999999",
          "2021-09-30T23:59:59.999999",
          "2021-06-30T23:59:59.999999",
          "2021-03-31T23:59:59.999999",
          "2020-12-31T23:59:59.999999",
          "2020-09-30T23:59:59.999999",
          "2020-06-30T23:59:59.999999",
          "2020-03-31T23:59:59.999999",
          "2019-12-31T23:59:59.999999",
          "2019-09-30T23:59:59.999999",
          "2019-06-30T23:59:59.999999",
          "2019-03-31T23:59:59.999999",
          "2018-12-31T23:59:59.999999",
          "2018-09-30T23:59:59.999999",
          "2018-06-30T23:59:59.999999",
          "2018-03-31T23:59:59.999999",
          "2017-12-31T23:59:59.999999",
          "2017-09-30T23:59:59.999999",
          "2017-06-30T23:59:59.999999",
          "2017-03-31T23:59:59.999999",
          "2016-12-31T23:59:59.999999",
          "2016-09-30T23:59:59.999999",
          "2016-06-30T23:59:59.999999",
          "2016-03-31T23:59:59.999999",
          "2015-12-31T23:59:59.999999",
          "2015-09-30T23:59:59.999999",
          "2015-06-30T23:59:59.999999",
          "2015-03-31T23:59:59.999999",
          "2014-12-31T23:59:59.999999",
          "2014-09-30T23:59:59.999999",
          "2014-06-30T23:59:59.999999",
          "2014-03-31T23:59:59.999999",
          "2013-12-31T23:59:59.999999",
          "2013-09-30T23:59:59.999999",
          "2013-06-30T23:59:59.999999",
          "2013-03-31T23:59:59.999999",
          "2012-12-31T23:59:59.999999",
          "2012-09-30T23:59:59.999999",
          "2012-06-30T23:59:59.999999",
          "2012-03-31T23:59:59.999999",
          "2011-12-31T23:59:59.999999",
          "2011-09-30T23:59:59.999999",
          "2011-06-30T23:59:59.999999",
          "2011-03-31T23:59:59.999999",
          "2010-12-31T23:59:59.999999",
          "2010-09-30T23:59:59.999999",
          "2010-06-30T23:59:59.999999"
         ],
         "xaxis": "x",
         "y": [
          0.218,
          0.235,
          0.265,
          0.199,
          0.291,
          0.262,
          0.277,
          0.162,
          0.276,
          0.342,
          0.226,
          0.312,
          0.29,
          0.236,
          0.279,
          0.179,
          0.314,
          0.213,
          0.387,
          0.278,
          0.4,
          0.442,
          0.436,
          0.334,
          0.374,
          0.452,
          0.389,
          0.405,
          0.316,
          0.383,
          0.357,
          0.293,
          0.485,
          0.483,
          0.531,
          0.512,
          0.399,
          0.424,
          0.419,
          0.331,
          0.385,
          0.474,
          0.515,
          0.396,
          0.401,
          0.445,
          0.432,
          0.247,
          0.286,
          0.478
         ],
         "yaxis": "y"
        },
        {
         "hovertemplate": "ticker=VCI<br>quarter_end_time=%{x}<br>postTaxMargin=%{y}<extra></extra>",
         "legendgroup": "VCI",
         "line": {
          "color": "#ab63fa",
          "dash": "solid"
         },
         "marker": {
          "symbol": "circle"
         },
         "mode": "lines",
         "name": "VCI",
         "orientation": "v",
         "showlegend": true,
         "type": "scatter",
         "x": [
          "2022-09-30T23:59:59.999999",
          "2022-06-30T23:59:59.999999",
          "2022-03-31T23:59:59.999999",
          "2021-12-31T23:59:59.999999",
          "2021-09-30T23:59:59.999999",
          "2021-06-30T23:59:59.999999",
          "2021-03-31T23:59:59.999999",
          "2020-12-31T23:59:59.999999",
          "2020-09-30T23:59:59.999999",
          "2020-06-30T23:59:59.999999",
          "2020-03-31T23:59:59.999999",
          "2019-12-31T23:59:59.999999",
          "2019-09-30T23:59:59.999999",
          "2019-06-30T23:59:59.999999",
          "2019-03-31T23:59:59.999999",
          "2018-12-31T23:59:59.999999",
          "2018-09-30T23:59:59.999999",
          "2018-06-30T23:59:59.999999",
          "2018-03-31T23:59:59.999999",
          "2017-12-31T23:59:59.999999",
          "2017-09-30T23:59:59.999999",
          "2017-06-30T23:59:59.999999"
         ],
         "xaxis": "x",
         "y": [
          0.235,
          0.289,
          0.524,
          0.413,
          0.358,
          0.468,
          0.375,
          0.527,
          0.341,
          0.504,
          0.313,
          0.475,
          0.435,
          0.344,
          0.552,
          0.323,
          0.416,
          0.434,
          0.582,
          0.337,
          0.486,
          0.501
         ],
         "yaxis": "y"
        },
        {
         "hovertemplate": "ticker=STB<br>quarter_end_time=%{x}<br>postTaxMargin=%{y}<extra></extra>",
         "legendgroup": "STB",
         "line": {
          "color": "#FFA15A",
          "dash": "solid"
         },
         "marker": {
          "symbol": "circle"
         },
         "mode": "lines",
         "name": "STB",
         "orientation": "v",
         "showlegend": true,
         "type": "scatter",
         "x": [
          "2022-09-30T23:59:59.999999",
          "2022-06-30T23:59:59.999999",
          "2022-03-31T23:59:59.999999",
          "2021-12-31T23:59:59.999999",
          "2021-09-30T23:59:59.999999",
          "2021-06-30T23:59:59.999999",
          "2021-03-31T23:59:59.999999",
          "2020-12-31T23:59:59.999999",
          "2020-09-30T23:59:59.999999",
          "2020-06-30T23:59:59.999999",
          "2020-03-31T23:59:59.999999",
          "2019-12-31T23:59:59.999999",
          "2019-09-30T23:59:59.999999",
          "2019-06-30T23:59:59.999999",
          "2019-03-31T23:59:59.999999",
          "2018-12-31T23:59:59.999999",
          "2018-09-30T23:59:59.999999",
          "2018-06-30T23:59:59.999999",
          "2018-03-31T23:59:59.999999",
          "2017-12-31T23:59:59.999999",
          "2017-09-30T23:59:59.999999",
          "2017-06-30T23:59:59.999999",
          "2017-03-31T23:59:59.999999",
          "2016-12-31T23:59:59.999999",
          "2016-09-30T23:59:59.999999",
          "2016-06-30T23:59:59.999999",
          "2016-03-31T23:59:59.999999",
          "2015-12-31T23:59:59.999999",
          "2015-09-30T23:59:59.999999",
          "2015-06-30T23:59:59.999999",
          "2015-03-31T23:59:59.999999",
          "2014-12-31T23:59:59.999999",
          "2014-09-30T23:59:59.999999",
          "2014-06-30T23:59:59.999999",
          "2014-03-31T23:59:59.999999",
          "2013-12-31T23:59:59.999999",
          "2013-09-30T23:59:59.999999",
          "2013-06-30T23:59:59.999999",
          "2013-03-31T23:59:59.999999",
          "2012-12-31T23:59:59.999999",
          "2012-09-30T23:59:59.999999",
          "2012-06-30T23:59:59.999999",
          "2012-03-31T23:59:59.999999",
          "2011-12-31T23:59:59.999999",
          "2011-09-30T23:59:59.999999",
          "2011-06-30T23:59:59.999999",
          "2011-03-31T23:59:59.999999",
          "2010-12-31T23:59:59.999999",
          "2010-09-30T23:59:59.999999",
          "2010-06-30T23:59:59.999999",
          "2010-03-31T23:59:59.999999",
          "2009-12-31T23:59:59.999999",
          "2009-09-30T23:59:59.999999",
          "2009-06-30T23:59:59.999999",
          "2008-09-30T23:59:59.999999",
          "2007-09-30T23:59:59.999999",
          "2007-06-30T23:59:59.999999"
         ],
         "xaxis": "x",
         "y": [
          null,
          null,
          null,
          null,
          null,
          null,
          null,
          null,
          null,
          null,
          null,
          null,
          null,
          null,
          null,
          null,
          null,
          null,
          null,
          null,
          null,
          null,
          null,
          null,
          null,
          null,
          null,
          null,
          null,
          null,
          null,
          null,
          null,
          null,
          null,
          null,
          null,
          null,
          null,
          null,
          null,
          null,
          null,
          null,
          null,
          null,
          null,
          null,
          null,
          null,
          null,
          null,
          null,
          null,
          null,
          null,
          null
         ],
         "yaxis": "y"
        },
        {
         "hovertemplate": "ticker=MBB<br>quarter_end_time=%{x}<br>postTaxMargin=%{y}<extra></extra>",
         "legendgroup": "MBB",
         "line": {
          "color": "#19d3f3",
          "dash": "solid"
         },
         "marker": {
          "symbol": "circle"
         },
         "mode": "lines",
         "name": "MBB",
         "orientation": "v",
         "showlegend": true,
         "type": "scatter",
         "x": [
          "2022-09-30T23:59:59.999999",
          "2022-06-30T23:59:59.999999",
          "2022-03-31T23:59:59.999999",
          "2021-12-31T23:59:59.999999",
          "2021-09-30T23:59:59.999999",
          "2021-06-30T23:59:59.999999",
          "2021-03-31T23:59:59.999999",
          "2020-12-31T23:59:59.999999",
          "2020-09-30T23:59:59.999999",
          "2020-06-30T23:59:59.999999",
          "2020-03-31T23:59:59.999999",
          "2019-12-31T23:59:59.999999",
          "2019-09-30T23:59:59.999999",
          "2019-06-30T23:59:59.999999",
          "2019-03-31T23:59:59.999999",
          "2018-12-31T23:59:59.999999",
          "2018-09-30T23:59:59.999999",
          "2018-06-30T23:59:59.999999",
          "2018-03-31T23:59:59.999999",
          "2017-12-31T23:59:59.999999",
          "2017-09-30T23:59:59.999999",
          "2017-06-30T23:59:59.999999",
          "2017-03-31T23:59:59.999999",
          "2016-12-31T23:59:59.999999",
          "2016-09-30T23:59:59.999999",
          "2016-06-30T23:59:59.999999",
          "2016-03-31T23:59:59.999999",
          "2015-12-31T23:59:59.999999",
          "2015-09-30T23:59:59.999999",
          "2015-06-30T23:59:59.999999",
          "2015-03-31T23:59:59.999999",
          "2014-12-31T23:59:59.999999",
          "2014-09-30T23:59:59.999999",
          "2014-06-30T23:59:59.999999",
          "2014-03-31T23:59:59.999999",
          "2013-12-31T23:59:59.999999",
          "2013-09-30T23:59:59.999999",
          "2013-06-30T23:59:59.999999",
          "2013-03-31T23:59:59.999999",
          "2012-12-31T23:59:59.999999",
          "2012-09-30T23:59:59.999999",
          "2012-06-30T23:59:59.999999"
         ],
         "xaxis": "x",
         "y": [
          null,
          null,
          null,
          null,
          null,
          null,
          null,
          null,
          null,
          null,
          null,
          null,
          null,
          null,
          null,
          null,
          null,
          null,
          null,
          null,
          null,
          null,
          null,
          null,
          null,
          null,
          null,
          null,
          null,
          null,
          null,
          null,
          null,
          null,
          null,
          null,
          null,
          null,
          null,
          null,
          null,
          null
         ],
         "yaxis": "y"
        },
        {
         "hovertemplate": "ticker=MBS<br>quarter_end_time=%{x}<br>postTaxMargin=%{y}<extra></extra>",
         "legendgroup": "MBS",
         "line": {
          "color": "#FF6692",
          "dash": "solid"
         },
         "marker": {
          "symbol": "circle"
         },
         "mode": "lines",
         "name": "MBS",
         "orientation": "v",
         "showlegend": true,
         "type": "scatter",
         "x": [
          "2022-09-30T23:59:59.999999",
          "2022-06-30T23:59:59.999999",
          "2022-03-31T23:59:59.999999",
          "2021-12-31T23:59:59.999999",
          "2021-09-30T23:59:59.999999",
          "2021-06-30T23:59:59.999999",
          "2021-03-31T23:59:59.999999",
          "2020-12-31T23:59:59.999999",
          "2020-09-30T23:59:59.999999",
          "2020-06-30T23:59:59.999999",
          "2020-03-31T23:59:59.999999",
          "2019-12-31T23:59:59.999999",
          "2019-09-30T23:59:59.999999",
          "2019-06-30T23:59:59.999999",
          "2019-03-31T23:59:59.999999",
          "2018-12-31T23:59:59.999999",
          "2018-09-30T23:59:59.999999",
          "2018-06-30T23:59:59.999999",
          "2018-03-31T23:59:59.999999",
          "2017-12-31T23:59:59.999999",
          "2017-09-30T23:59:59.999999",
          "2017-06-30T23:59:59.999999"
         ],
         "xaxis": "x",
         "y": [
          0.282,
          0.235,
          0.328,
          0.26,
          0.357,
          0.205,
          0.249,
          0.276,
          0.254,
          0.282,
          0.118,
          0.214,
          0.199,
          0.269,
          0.3,
          0.002,
          0.234,
          0.188,
          0.232,
          0.016,
          0.032,
          0.028
         ],
         "yaxis": "y"
        }
       ],
       "layout": {
        "legend": {
         "title": {
          "text": "ticker"
         },
         "tracegroupgap": 0
        },
        "template": {
         "data": {
          "bar": [
           {
            "error_x": {
             "color": "#2a3f5f"
            },
            "error_y": {
             "color": "#2a3f5f"
            },
            "marker": {
             "line": {
              "color": "#E5ECF6",
              "width": 0.5
             },
             "pattern": {
              "fillmode": "overlay",
              "size": 10,
              "solidity": 0.2
             }
            },
            "type": "bar"
           }
          ],
          "barpolar": [
           {
            "marker": {
             "line": {
              "color": "#E5ECF6",
              "width": 0.5
             },
             "pattern": {
              "fillmode": "overlay",
              "size": 10,
              "solidity": 0.2
             }
            },
            "type": "barpolar"
           }
          ],
          "carpet": [
           {
            "aaxis": {
             "endlinecolor": "#2a3f5f",
             "gridcolor": "white",
             "linecolor": "white",
             "minorgridcolor": "white",
             "startlinecolor": "#2a3f5f"
            },
            "baxis": {
             "endlinecolor": "#2a3f5f",
             "gridcolor": "white",
             "linecolor": "white",
             "minorgridcolor": "white",
             "startlinecolor": "#2a3f5f"
            },
            "type": "carpet"
           }
          ],
          "choropleth": [
           {
            "colorbar": {
             "outlinewidth": 0,
             "ticks": ""
            },
            "type": "choropleth"
           }
          ],
          "contour": [
           {
            "colorbar": {
             "outlinewidth": 0,
             "ticks": ""
            },
            "colorscale": [
             [
              0,
              "#0d0887"
             ],
             [
              0.1111111111111111,
              "#46039f"
             ],
             [
              0.2222222222222222,
              "#7201a8"
             ],
             [
              0.3333333333333333,
              "#9c179e"
             ],
             [
              0.4444444444444444,
              "#bd3786"
             ],
             [
              0.5555555555555556,
              "#d8576b"
             ],
             [
              0.6666666666666666,
              "#ed7953"
             ],
             [
              0.7777777777777778,
              "#fb9f3a"
             ],
             [
              0.8888888888888888,
              "#fdca26"
             ],
             [
              1,
              "#f0f921"
             ]
            ],
            "type": "contour"
           }
          ],
          "contourcarpet": [
           {
            "colorbar": {
             "outlinewidth": 0,
             "ticks": ""
            },
            "type": "contourcarpet"
           }
          ],
          "heatmap": [
           {
            "colorbar": {
             "outlinewidth": 0,
             "ticks": ""
            },
            "colorscale": [
             [
              0,
              "#0d0887"
             ],
             [
              0.1111111111111111,
              "#46039f"
             ],
             [
              0.2222222222222222,
              "#7201a8"
             ],
             [
              0.3333333333333333,
              "#9c179e"
             ],
             [
              0.4444444444444444,
              "#bd3786"
             ],
             [
              0.5555555555555556,
              "#d8576b"
             ],
             [
              0.6666666666666666,
              "#ed7953"
             ],
             [
              0.7777777777777778,
              "#fb9f3a"
             ],
             [
              0.8888888888888888,
              "#fdca26"
             ],
             [
              1,
              "#f0f921"
             ]
            ],
            "type": "heatmap"
           }
          ],
          "heatmapgl": [
           {
            "colorbar": {
             "outlinewidth": 0,
             "ticks": ""
            },
            "colorscale": [
             [
              0,
              "#0d0887"
             ],
             [
              0.1111111111111111,
              "#46039f"
             ],
             [
              0.2222222222222222,
              "#7201a8"
             ],
             [
              0.3333333333333333,
              "#9c179e"
             ],
             [
              0.4444444444444444,
              "#bd3786"
             ],
             [
              0.5555555555555556,
              "#d8576b"
             ],
             [
              0.6666666666666666,
              "#ed7953"
             ],
             [
              0.7777777777777778,
              "#fb9f3a"
             ],
             [
              0.8888888888888888,
              "#fdca26"
             ],
             [
              1,
              "#f0f921"
             ]
            ],
            "type": "heatmapgl"
           }
          ],
          "histogram": [
           {
            "marker": {
             "pattern": {
              "fillmode": "overlay",
              "size": 10,
              "solidity": 0.2
             }
            },
            "type": "histogram"
           }
          ],
          "histogram2d": [
           {
            "colorbar": {
             "outlinewidth": 0,
             "ticks": ""
            },
            "colorscale": [
             [
              0,
              "#0d0887"
             ],
             [
              0.1111111111111111,
              "#46039f"
             ],
             [
              0.2222222222222222,
              "#7201a8"
             ],
             [
              0.3333333333333333,
              "#9c179e"
             ],
             [
              0.4444444444444444,
              "#bd3786"
             ],
             [
              0.5555555555555556,
              "#d8576b"
             ],
             [
              0.6666666666666666,
              "#ed7953"
             ],
             [
              0.7777777777777778,
              "#fb9f3a"
             ],
             [
              0.8888888888888888,
              "#fdca26"
             ],
             [
              1,
              "#f0f921"
             ]
            ],
            "type": "histogram2d"
           }
          ],
          "histogram2dcontour": [
           {
            "colorbar": {
             "outlinewidth": 0,
             "ticks": ""
            },
            "colorscale": [
             [
              0,
              "#0d0887"
             ],
             [
              0.1111111111111111,
              "#46039f"
             ],
             [
              0.2222222222222222,
              "#7201a8"
             ],
             [
              0.3333333333333333,
              "#9c179e"
             ],
             [
              0.4444444444444444,
              "#bd3786"
             ],
             [
              0.5555555555555556,
              "#d8576b"
             ],
             [
              0.6666666666666666,
              "#ed7953"
             ],
             [
              0.7777777777777778,
              "#fb9f3a"
             ],
             [
              0.8888888888888888,
              "#fdca26"
             ],
             [
              1,
              "#f0f921"
             ]
            ],
            "type": "histogram2dcontour"
           }
          ],
          "mesh3d": [
           {
            "colorbar": {
             "outlinewidth": 0,
             "ticks": ""
            },
            "type": "mesh3d"
           }
          ],
          "parcoords": [
           {
            "line": {
             "colorbar": {
              "outlinewidth": 0,
              "ticks": ""
             }
            },
            "type": "parcoords"
           }
          ],
          "pie": [
           {
            "automargin": true,
            "type": "pie"
           }
          ],
          "scatter": [
           {
            "fillpattern": {
             "fillmode": "overlay",
             "size": 10,
             "solidity": 0.2
            },
            "type": "scatter"
           }
          ],
          "scatter3d": [
           {
            "line": {
             "colorbar": {
              "outlinewidth": 0,
              "ticks": ""
             }
            },
            "marker": {
             "colorbar": {
              "outlinewidth": 0,
              "ticks": ""
             }
            },
            "type": "scatter3d"
           }
          ],
          "scattercarpet": [
           {
            "marker": {
             "colorbar": {
              "outlinewidth": 0,
              "ticks": ""
             }
            },
            "type": "scattercarpet"
           }
          ],
          "scattergeo": [
           {
            "marker": {
             "colorbar": {
              "outlinewidth": 0,
              "ticks": ""
             }
            },
            "type": "scattergeo"
           }
          ],
          "scattergl": [
           {
            "marker": {
             "colorbar": {
              "outlinewidth": 0,
              "ticks": ""
             }
            },
            "type": "scattergl"
           }
          ],
          "scattermapbox": [
           {
            "marker": {
             "colorbar": {
              "outlinewidth": 0,
              "ticks": ""
             }
            },
            "type": "scattermapbox"
           }
          ],
          "scatterpolar": [
           {
            "marker": {
             "colorbar": {
              "outlinewidth": 0,
              "ticks": ""
             }
            },
            "type": "scatterpolar"
           }
          ],
          "scatterpolargl": [
           {
            "marker": {
             "colorbar": {
              "outlinewidth": 0,
              "ticks": ""
             }
            },
            "type": "scatterpolargl"
           }
          ],
          "scatterternary": [
           {
            "marker": {
             "colorbar": {
              "outlinewidth": 0,
              "ticks": ""
             }
            },
            "type": "scatterternary"
           }
          ],
          "surface": [
           {
            "colorbar": {
             "outlinewidth": 0,
             "ticks": ""
            },
            "colorscale": [
             [
              0,
              "#0d0887"
             ],
             [
              0.1111111111111111,
              "#46039f"
             ],
             [
              0.2222222222222222,
              "#7201a8"
             ],
             [
              0.3333333333333333,
              "#9c179e"
             ],
             [
              0.4444444444444444,
              "#bd3786"
             ],
             [
              0.5555555555555556,
              "#d8576b"
             ],
             [
              0.6666666666666666,
              "#ed7953"
             ],
             [
              0.7777777777777778,
              "#fb9f3a"
             ],
             [
              0.8888888888888888,
              "#fdca26"
             ],
             [
              1,
              "#f0f921"
             ]
            ],
            "type": "surface"
           }
          ],
          "table": [
           {
            "cells": {
             "fill": {
              "color": "#EBF0F8"
             },
             "line": {
              "color": "white"
             }
            },
            "header": {
             "fill": {
              "color": "#C8D4E3"
             },
             "line": {
              "color": "white"
             }
            },
            "type": "table"
           }
          ]
         },
         "layout": {
          "annotationdefaults": {
           "arrowcolor": "#2a3f5f",
           "arrowhead": 0,
           "arrowwidth": 1
          },
          "autotypenumbers": "strict",
          "coloraxis": {
           "colorbar": {
            "outlinewidth": 0,
            "ticks": ""
           }
          },
          "colorscale": {
           "diverging": [
            [
             0,
             "#8e0152"
            ],
            [
             0.1,
             "#c51b7d"
            ],
            [
             0.2,
             "#de77ae"
            ],
            [
             0.3,
             "#f1b6da"
            ],
            [
             0.4,
             "#fde0ef"
            ],
            [
             0.5,
             "#f7f7f7"
            ],
            [
             0.6,
             "#e6f5d0"
            ],
            [
             0.7,
             "#b8e186"
            ],
            [
             0.8,
             "#7fbc41"
            ],
            [
             0.9,
             "#4d9221"
            ],
            [
             1,
             "#276419"
            ]
           ],
           "sequential": [
            [
             0,
             "#0d0887"
            ],
            [
             0.1111111111111111,
             "#46039f"
            ],
            [
             0.2222222222222222,
             "#7201a8"
            ],
            [
             0.3333333333333333,
             "#9c179e"
            ],
            [
             0.4444444444444444,
             "#bd3786"
            ],
            [
             0.5555555555555556,
             "#d8576b"
            ],
            [
             0.6666666666666666,
             "#ed7953"
            ],
            [
             0.7777777777777778,
             "#fb9f3a"
            ],
            [
             0.8888888888888888,
             "#fdca26"
            ],
            [
             1,
             "#f0f921"
            ]
           ],
           "sequentialminus": [
            [
             0,
             "#0d0887"
            ],
            [
             0.1111111111111111,
             "#46039f"
            ],
            [
             0.2222222222222222,
             "#7201a8"
            ],
            [
             0.3333333333333333,
             "#9c179e"
            ],
            [
             0.4444444444444444,
             "#bd3786"
            ],
            [
             0.5555555555555556,
             "#d8576b"
            ],
            [
             0.6666666666666666,
             "#ed7953"
            ],
            [
             0.7777777777777778,
             "#fb9f3a"
            ],
            [
             0.8888888888888888,
             "#fdca26"
            ],
            [
             1,
             "#f0f921"
            ]
           ]
          },
          "colorway": [
           "#636efa",
           "#EF553B",
           "#00cc96",
           "#ab63fa",
           "#FFA15A",
           "#19d3f3",
           "#FF6692",
           "#B6E880",
           "#FF97FF",
           "#FECB52"
          ],
          "font": {
           "color": "#2a3f5f"
          },
          "geo": {
           "bgcolor": "white",
           "lakecolor": "white",
           "landcolor": "#E5ECF6",
           "showlakes": true,
           "showland": true,
           "subunitcolor": "white"
          },
          "hoverlabel": {
           "align": "left"
          },
          "hovermode": "closest",
          "mapbox": {
           "style": "light"
          },
          "paper_bgcolor": "white",
          "plot_bgcolor": "#E5ECF6",
          "polar": {
           "angularaxis": {
            "gridcolor": "white",
            "linecolor": "white",
            "ticks": ""
           },
           "bgcolor": "#E5ECF6",
           "radialaxis": {
            "gridcolor": "white",
            "linecolor": "white",
            "ticks": ""
           }
          },
          "scene": {
           "xaxis": {
            "backgroundcolor": "#E5ECF6",
            "gridcolor": "white",
            "gridwidth": 2,
            "linecolor": "white",
            "showbackground": true,
            "ticks": "",
            "zerolinecolor": "white"
           },
           "yaxis": {
            "backgroundcolor": "#E5ECF6",
            "gridcolor": "white",
            "gridwidth": 2,
            "linecolor": "white",
            "showbackground": true,
            "ticks": "",
            "zerolinecolor": "white"
           },
           "zaxis": {
            "backgroundcolor": "#E5ECF6",
            "gridcolor": "white",
            "gridwidth": 2,
            "linecolor": "white",
            "showbackground": true,
            "ticks": "",
            "zerolinecolor": "white"
           }
          },
          "shapedefaults": {
           "line": {
            "color": "#2a3f5f"
           }
          },
          "ternary": {
           "aaxis": {
            "gridcolor": "white",
            "linecolor": "white",
            "ticks": ""
           },
           "baxis": {
            "gridcolor": "white",
            "linecolor": "white",
            "ticks": ""
           },
           "bgcolor": "#E5ECF6",
           "caxis": {
            "gridcolor": "white",
            "linecolor": "white",
            "ticks": ""
           }
          },
          "title": {
           "x": 0.05
          },
          "xaxis": {
           "automargin": true,
           "gridcolor": "white",
           "linecolor": "white",
           "ticks": "",
           "title": {
            "standoff": 15
           },
           "zerolinecolor": "white",
           "zerolinewidth": 2
          },
          "yaxis": {
           "automargin": true,
           "gridcolor": "white",
           "linecolor": "white",
           "ticks": "",
           "title": {
            "standoff": 15
           },
           "zerolinecolor": "white",
           "zerolinewidth": 2
          }
         }
        },
        "title": {
         "text": "Biên LNST(%)"
        },
        "xaxis": {
         "anchor": "y",
         "domain": [
          0,
          1
         ],
         "title": {
          "text": "quarter_end_time"
         }
        },
        "yaxis": {
         "anchor": "x",
         "domain": [
          0,
          1
         ],
         "tickformat": ",.0%",
         "title": {
          "text": "postTaxMargin"
         }
        }
       }
      }
     },
     "metadata": {},
     "output_type": "display_data"
    }
   ],
   "source": [
    "import seaborn as sns\n",
    "import plotly.express as px\n",
    "\n",
    "fig = px.line(\n",
    "    balancesheet_financialratio_incomestatement_per_group,\n",
    "    x=\"quarter_end_time\",\n",
    "    y=\"postTaxMargin\",\n",
    "    color=\"ticker\",\n",
    "    title=\"Biên LNST(%)\",\n",
    ")\n",
    "fig.layout.yaxis.tickformat = ',.0%'\n",
    "fig.show()"
   ]
  },
  {
   "cell_type": "markdown",
   "metadata": {},
   "source": [
    "## Biên LN gộp(%)"
   ]
  },
  {
   "cell_type": "code",
   "execution_count": 70,
   "metadata": {},
   "outputs": [
    {
     "data": {
      "application/vnd.plotly.v1+json": {
       "config": {
        "plotlyServerURL": "https://plot.ly"
       },
       "data": [
        {
         "hovertemplate": "ticker=HPG<br>quarter_end_time=%{x}<br>grossProfitMargin=%{y}<extra></extra>",
         "legendgroup": "HPG",
         "line": {
          "color": "#636efa",
          "dash": "solid"
         },
         "marker": {
          "symbol": "circle"
         },
         "mode": "lines",
         "name": "HPG",
         "orientation": "v",
         "showlegend": true,
         "type": "scatter",
         "x": [
          "2022-09-30T23:59:59.999999",
          "2022-06-30T23:59:59.999999",
          "2022-03-31T23:59:59.999999",
          "2021-12-31T23:59:59.999999",
          "2021-09-30T23:59:59.999999",
          "2021-06-30T23:59:59.999999",
          "2021-03-31T23:59:59.999999",
          "2020-12-31T23:59:59.999999",
          "2020-09-30T23:59:59.999999",
          "2020-06-30T23:59:59.999999",
          "2020-03-31T23:59:59.999999",
          "2019-12-31T23:59:59.999999",
          "2019-09-30T23:59:59.999999",
          "2019-06-30T23:59:59.999999",
          "2019-03-31T23:59:59.999999",
          "2018-12-31T23:59:59.999999",
          "2018-09-30T23:59:59.999999",
          "2018-06-30T23:59:59.999999",
          "2018-03-31T23:59:59.999999",
          "2017-12-31T23:59:59.999999",
          "2017-09-30T23:59:59.999999",
          "2017-06-30T23:59:59.999999",
          "2017-03-31T23:59:59.999999",
          "2016-12-31T23:59:59.999999",
          "2016-09-30T23:59:59.999999",
          "2016-06-30T23:59:59.999999",
          "2016-03-31T23:59:59.999999",
          "2015-12-31T23:59:59.999999",
          "2015-09-30T23:59:59.999999",
          "2015-06-30T23:59:59.999999",
          "2015-03-31T23:59:59.999999",
          "2014-12-31T23:59:59.999999",
          "2014-09-30T23:59:59.999999",
          "2014-06-30T23:59:59.999999",
          "2014-03-31T23:59:59.999999",
          "2013-12-31T23:59:59.999999",
          "2013-09-30T23:59:59.999999",
          "2013-06-30T23:59:59.999999",
          "2013-03-31T23:59:59.999999",
          "2012-12-31T23:59:59.999999",
          "2012-09-30T23:59:59.999999",
          "2012-06-30T23:59:59.999999",
          "2012-03-31T23:59:59.999999",
          "2011-12-31T23:59:59.999999",
          "2011-09-30T23:59:59.999999",
          "2011-06-30T23:59:59.999999",
          "2011-03-31T23:59:59.999999",
          "2010-12-31T23:59:59.999999",
          "2010-09-30T23:59:59.999999",
          "2010-06-30T23:59:59.999999",
          "2010-03-31T23:59:59.999999",
          "2009-12-31T23:59:59.999999",
          "2009-09-30T23:59:59.999999",
          "2009-06-30T23:59:59.999999",
          "2009-03-31T23:59:59.999999",
          "2008-12-31T23:59:59.999999",
          "2008-09-30T23:59:59.999999",
          "2008-06-30T23:59:59.999999"
         ],
         "xaxis": "x",
         "y": [
          0.029,
          0.175,
          0.229,
          0.214,
          0.307,
          0.327,
          0.262,
          0.243,
          0.209,
          0.181,
          0.196,
          0.158,
          0.179,
          0.194,
          0.175,
          0.178,
          0.23,
          0.202,
          0.228,
          0.25,
          0.226,
          0.206,
          0.24,
          0.265,
          0.26,
          0.32,
          0.2,
          0.183,
          0.228,
          0.222,
          0.174,
          0.157,
          0.231,
          0.214,
          0.213,
          0.169,
          0.157,
          0.192,
          0.176,
          0.167,
          0.134,
          0.151,
          0.134,
          0.129,
          0.136,
          0.18,
          0.208,
          0.181,
          0.162,
          0.164,
          0.184,
          0.213,
          0.255,
          0.238,
          0.282,
          -0.106,
          0.192,
          0.219
         ],
         "yaxis": "y"
        },
        {
         "hovertemplate": "ticker=PVS<br>quarter_end_time=%{x}<br>grossProfitMargin=%{y}<extra></extra>",
         "legendgroup": "PVS",
         "line": {
          "color": "#EF553B",
          "dash": "solid"
         },
         "marker": {
          "symbol": "circle"
         },
         "mode": "lines",
         "name": "PVS",
         "orientation": "v",
         "showlegend": true,
         "type": "scatter",
         "x": [
          "2022-09-30T23:59:59.999999",
          "2022-06-30T23:59:59.999999",
          "2022-03-31T23:59:59.999999",
          "2021-12-31T23:59:59.999999",
          "2021-09-30T23:59:59.999999",
          "2021-06-30T23:59:59.999999",
          "2021-03-31T23:59:59.999999",
          "2020-12-31T23:59:59.999999",
          "2020-09-30T23:59:59.999999",
          "2020-06-30T23:59:59.999999",
          "2020-03-31T23:59:59.999999",
          "2019-12-31T23:59:59.999999",
          "2019-09-30T23:59:59.999999",
          "2019-06-30T23:59:59.999999",
          "2019-03-31T23:59:59.999999",
          "2018-12-31T23:59:59.999999",
          "2018-09-30T23:59:59.999999",
          "2018-06-30T23:59:59.999999",
          "2018-03-31T23:59:59.999999",
          "2017-12-31T23:59:59.999999",
          "2017-09-30T23:59:59.999999",
          "2017-06-30T23:59:59.999999",
          "2017-03-31T23:59:59.999999",
          "2016-12-31T23:59:59.999999",
          "2016-09-30T23:59:59.999999",
          "2016-06-30T23:59:59.999999",
          "2016-03-31T23:59:59.999999",
          "2015-12-31T23:59:59.999999",
          "2015-09-30T23:59:59.999999",
          "2015-06-30T23:59:59.999999",
          "2015-03-31T23:59:59.999999",
          "2014-12-31T23:59:59.999999",
          "2014-09-30T23:59:59.999999",
          "2014-06-30T23:59:59.999999",
          "2014-03-31T23:59:59.999999",
          "2013-12-31T23:59:59.999999",
          "2013-09-30T23:59:59.999999",
          "2013-06-30T23:59:59.999999",
          "2013-03-31T23:59:59.999999",
          "2012-12-31T23:59:59.999999",
          "2012-09-30T23:59:59.999999",
          "2012-06-30T23:59:59.999999",
          "2012-03-31T23:59:59.999999",
          "2011-12-31T23:59:59.999999",
          "2011-09-30T23:59:59.999999",
          "2011-06-30T23:59:59.999999",
          "2011-03-31T23:59:59.999999",
          "2010-12-31T23:59:59.999999",
          "2010-09-30T23:59:59.999999",
          "2010-06-30T23:59:59.999999",
          "2010-03-31T23:59:59.999999",
          "2009-12-31T23:59:59.999999",
          "2009-09-30T23:59:59.999999",
          "2009-06-30T23:59:59.999999",
          "2009-03-31T23:59:59.999999",
          "2008-12-31T23:59:59.999999",
          "2008-09-30T23:59:59.999999",
          "2008-06-30T23:59:59.999999"
         ],
         "xaxis": "x",
         "y": [
          0.058,
          0.038,
          0.051,
          0.056,
          0.051,
          0.078,
          0.068,
          null,
          0.073,
          0.044,
          0.059,
          0.034,
          0.048,
          0.078,
          0.103,
          0.13,
          0.065,
          0.02,
          0.096,
          0.003,
          0.031,
          0.093,
          0.085,
          0.003,
          0.041,
          0.071,
          0.052,
          0.114,
          0.081,
          0.103,
          0.071,
          0.093,
          0.045,
          0.105,
          0.066,
          0.151,
          0.093,
          0.072,
          0.109,
          0.022,
          0.093,
          0.093,
          0.067,
          0.092,
          0.078,
          0.079,
          0.064,
          0.087,
          0.078,
          0.05,
          0.061,
          0.126,
          0.071,
          0.107,
          0.095,
          0.105,
          0.094,
          0.117
         ],
         "yaxis": "y"
        },
        {
         "hovertemplate": "ticker=HCM<br>quarter_end_time=%{x}<br>grossProfitMargin=%{y}<extra></extra>",
         "legendgroup": "HCM",
         "line": {
          "color": "#00cc96",
          "dash": "solid"
         },
         "marker": {
          "symbol": "circle"
         },
         "mode": "lines",
         "name": "HCM",
         "orientation": "v",
         "showlegend": true,
         "type": "scatter",
         "x": [
          "2022-09-30T23:59:59.999999",
          "2022-06-30T23:59:59.999999",
          "2022-03-31T23:59:59.999999",
          "2021-12-31T23:59:59.999999",
          "2021-09-30T23:59:59.999999",
          "2021-06-30T23:59:59.999999",
          "2021-03-31T23:59:59.999999",
          "2020-12-31T23:59:59.999999",
          "2020-09-30T23:59:59.999999",
          "2020-06-30T23:59:59.999999",
          "2020-03-31T23:59:59.999999",
          "2019-12-31T23:59:59.999999",
          "2019-09-30T23:59:59.999999",
          "2019-06-30T23:59:59.999999",
          "2019-03-31T23:59:59.999999",
          "2018-12-31T23:59:59.999999",
          "2018-09-30T23:59:59.999999",
          "2018-06-30T23:59:59.999999",
          "2018-03-31T23:59:59.999999",
          "2017-12-31T23:59:59.999999",
          "2017-09-30T23:59:59.999999",
          "2017-06-30T23:59:59.999999",
          "2017-03-31T23:59:59.999999",
          "2016-12-31T23:59:59.999999",
          "2016-09-30T23:59:59.999999",
          "2016-06-30T23:59:59.999999",
          "2016-03-31T23:59:59.999999",
          "2015-12-31T23:59:59.999999",
          "2015-09-30T23:59:59.999999",
          "2015-06-30T23:59:59.999999",
          "2015-03-31T23:59:59.999999",
          "2014-12-31T23:59:59.999999",
          "2014-09-30T23:59:59.999999",
          "2014-06-30T23:59:59.999999",
          "2014-03-31T23:59:59.999999",
          "2013-12-31T23:59:59.999999",
          "2013-09-30T23:59:59.999999",
          "2013-06-30T23:59:59.999999",
          "2013-03-31T23:59:59.999999",
          "2012-12-31T23:59:59.999999",
          "2012-09-30T23:59:59.999999",
          "2012-06-30T23:59:59.999999",
          "2012-03-31T23:59:59.999999",
          "2011-12-31T23:59:59.999999",
          "2011-09-30T23:59:59.999999",
          "2011-06-30T23:59:59.999999",
          "2011-03-31T23:59:59.999999",
          "2010-12-31T23:59:59.999999",
          "2010-09-30T23:59:59.999999",
          "2010-06-30T23:59:59.999999"
         ],
         "xaxis": "x",
         "y": [
          0.39,
          0.359,
          0.418,
          0.324,
          0.454,
          0.381,
          0.39,
          0.294,
          0.426,
          0.534,
          0.386,
          0.51,
          0.482,
          0.375,
          0.492,
          0.354,
          0.5,
          0.328,
          0.528,
          0.418,
          0.572,
          0.642,
          0.641,
          0.514,
          0.524,
          0.612,
          0.623,
          0.656,
          0.477,
          0.665,
          0.637,
          0.492,
          0.728,
          0.72,
          0.777,
          0.78,
          0.668,
          0.714,
          0.702,
          0.643,
          0.663,
          0.735,
          0.749,
          0.613,
          0.706,
          0.74,
          0.725,
          0.487,
          0.587,
          0.698
         ],
         "yaxis": "y"
        },
        {
         "hovertemplate": "ticker=VCI<br>quarter_end_time=%{x}<br>grossProfitMargin=%{y}<extra></extra>",
         "legendgroup": "VCI",
         "line": {
          "color": "#ab63fa",
          "dash": "solid"
         },
         "marker": {
          "symbol": "circle"
         },
         "mode": "lines",
         "name": "VCI",
         "orientation": "v",
         "showlegend": true,
         "type": "scatter",
         "x": [
          "2022-09-30T23:59:59.999999",
          "2022-06-30T23:59:59.999999",
          "2022-03-31T23:59:59.999999",
          "2021-12-31T23:59:59.999999",
          "2021-09-30T23:59:59.999999",
          "2021-06-30T23:59:59.999999",
          "2021-03-31T23:59:59.999999",
          "2020-12-31T23:59:59.999999",
          "2020-09-30T23:59:59.999999",
          "2020-06-30T23:59:59.999999",
          "2020-03-31T23:59:59.999999",
          "2019-12-31T23:59:59.999999",
          "2019-09-30T23:59:59.999999",
          "2019-06-30T23:59:59.999999",
          "2019-03-31T23:59:59.999999",
          "2018-12-31T23:59:59.999999",
          "2018-09-30T23:59:59.999999",
          "2018-06-30T23:59:59.999999",
          "2018-03-31T23:59:59.999999",
          "2017-12-31T23:59:59.999999",
          "2017-09-30T23:59:59.999999",
          "2017-06-30T23:59:59.999999"
         ],
         "xaxis": "x",
         "y": [
          0.597,
          0.491,
          0.825,
          0.71,
          0.568,
          0.71,
          0.556,
          0.738,
          0.616,
          0.935,
          0.434,
          0.756,
          0.721,
          0.532,
          0.8,
          0.666,
          0.748,
          0.693,
          0.831,
          0.606,
          0.799,
          0.759
         ],
         "yaxis": "y"
        },
        {
         "hovertemplate": "ticker=STB<br>quarter_end_time=%{x}<br>grossProfitMargin=%{y}<extra></extra>",
         "legendgroup": "STB",
         "line": {
          "color": "#FFA15A",
          "dash": "solid"
         },
         "marker": {
          "symbol": "circle"
         },
         "mode": "lines",
         "name": "STB",
         "orientation": "v",
         "showlegend": true,
         "type": "scatter",
         "x": [
          "2022-09-30T23:59:59.999999",
          "2022-06-30T23:59:59.999999",
          "2022-03-31T23:59:59.999999",
          "2021-12-31T23:59:59.999999",
          "2021-09-30T23:59:59.999999",
          "2021-06-30T23:59:59.999999",
          "2021-03-31T23:59:59.999999",
          "2020-12-31T23:59:59.999999",
          "2020-09-30T23:59:59.999999",
          "2020-06-30T23:59:59.999999",
          "2020-03-31T23:59:59.999999",
          "2019-12-31T23:59:59.999999",
          "2019-09-30T23:59:59.999999",
          "2019-06-30T23:59:59.999999",
          "2019-03-31T23:59:59.999999",
          "2018-12-31T23:59:59.999999",
          "2018-09-30T23:59:59.999999",
          "2018-06-30T23:59:59.999999",
          "2018-03-31T23:59:59.999999",
          "2017-12-31T23:59:59.999999",
          "2017-09-30T23:59:59.999999",
          "2017-06-30T23:59:59.999999",
          "2017-03-31T23:59:59.999999",
          "2016-12-31T23:59:59.999999",
          "2016-09-30T23:59:59.999999",
          "2016-06-30T23:59:59.999999",
          "2016-03-31T23:59:59.999999",
          "2015-12-31T23:59:59.999999",
          "2015-09-30T23:59:59.999999",
          "2015-06-30T23:59:59.999999",
          "2015-03-31T23:59:59.999999",
          "2014-12-31T23:59:59.999999",
          "2014-09-30T23:59:59.999999",
          "2014-06-30T23:59:59.999999",
          "2014-03-31T23:59:59.999999",
          "2013-12-31T23:59:59.999999",
          "2013-09-30T23:59:59.999999",
          "2013-06-30T23:59:59.999999",
          "2013-03-31T23:59:59.999999",
          "2012-12-31T23:59:59.999999",
          "2012-09-30T23:59:59.999999",
          "2012-06-30T23:59:59.999999",
          "2012-03-31T23:59:59.999999",
          "2011-12-31T23:59:59.999999",
          "2011-09-30T23:59:59.999999",
          "2011-06-30T23:59:59.999999",
          "2011-03-31T23:59:59.999999",
          "2010-12-31T23:59:59.999999",
          "2010-09-30T23:59:59.999999",
          "2010-06-30T23:59:59.999999",
          "2010-03-31T23:59:59.999999",
          "2009-12-31T23:59:59.999999",
          "2009-09-30T23:59:59.999999",
          "2009-06-30T23:59:59.999999",
          "2008-09-30T23:59:59.999999",
          "2007-09-30T23:59:59.999999",
          "2007-06-30T23:59:59.999999"
         ],
         "xaxis": "x",
         "y": [
          null,
          null,
          null,
          null,
          null,
          null,
          null,
          null,
          null,
          null,
          null,
          null,
          null,
          null,
          null,
          null,
          null,
          null,
          null,
          null,
          null,
          null,
          null,
          null,
          null,
          null,
          null,
          null,
          null,
          null,
          null,
          null,
          null,
          null,
          null,
          null,
          null,
          null,
          null,
          null,
          null,
          null,
          null,
          null,
          null,
          null,
          null,
          null,
          null,
          null,
          null,
          null,
          null,
          null,
          null,
          null,
          null
         ],
         "yaxis": "y"
        },
        {
         "hovertemplate": "ticker=MBB<br>quarter_end_time=%{x}<br>grossProfitMargin=%{y}<extra></extra>",
         "legendgroup": "MBB",
         "line": {
          "color": "#19d3f3",
          "dash": "solid"
         },
         "marker": {
          "symbol": "circle"
         },
         "mode": "lines",
         "name": "MBB",
         "orientation": "v",
         "showlegend": true,
         "type": "scatter",
         "x": [
          "2022-09-30T23:59:59.999999",
          "2022-06-30T23:59:59.999999",
          "2022-03-31T23:59:59.999999",
          "2021-12-31T23:59:59.999999",
          "2021-09-30T23:59:59.999999",
          "2021-06-30T23:59:59.999999",
          "2021-03-31T23:59:59.999999",
          "2020-12-31T23:59:59.999999",
          "2020-09-30T23:59:59.999999",
          "2020-06-30T23:59:59.999999",
          "2020-03-31T23:59:59.999999",
          "2019-12-31T23:59:59.999999",
          "2019-09-30T23:59:59.999999",
          "2019-06-30T23:59:59.999999",
          "2019-03-31T23:59:59.999999",
          "2018-12-31T23:59:59.999999",
          "2018-09-30T23:59:59.999999",
          "2018-06-30T23:59:59.999999",
          "2018-03-31T23:59:59.999999",
          "2017-12-31T23:59:59.999999",
          "2017-09-30T23:59:59.999999",
          "2017-06-30T23:59:59.999999",
          "2017-03-31T23:59:59.999999",
          "2016-12-31T23:59:59.999999",
          "2016-09-30T23:59:59.999999",
          "2016-06-30T23:59:59.999999",
          "2016-03-31T23:59:59.999999",
          "2015-12-31T23:59:59.999999",
          "2015-09-30T23:59:59.999999",
          "2015-06-30T23:59:59.999999",
          "2015-03-31T23:59:59.999999",
          "2014-12-31T23:59:59.999999",
          "2014-09-30T23:59:59.999999",
          "2014-06-30T23:59:59.999999",
          "2014-03-31T23:59:59.999999",
          "2013-12-31T23:59:59.999999",
          "2013-09-30T23:59:59.999999",
          "2013-06-30T23:59:59.999999",
          "2013-03-31T23:59:59.999999",
          "2012-12-31T23:59:59.999999",
          "2012-09-30T23:59:59.999999",
          "2012-06-30T23:59:59.999999"
         ],
         "xaxis": "x",
         "y": [
          null,
          null,
          null,
          null,
          null,
          null,
          null,
          null,
          null,
          null,
          null,
          null,
          null,
          null,
          null,
          null,
          null,
          null,
          null,
          null,
          null,
          null,
          null,
          null,
          null,
          null,
          null,
          null,
          null,
          null,
          null,
          null,
          null,
          null,
          null,
          null,
          null,
          null,
          null,
          null,
          null,
          null
         ],
         "yaxis": "y"
        },
        {
         "hovertemplate": "ticker=MBS<br>quarter_end_time=%{x}<br>grossProfitMargin=%{y}<extra></extra>",
         "legendgroup": "MBS",
         "line": {
          "color": "#FF6692",
          "dash": "solid"
         },
         "marker": {
          "symbol": "circle"
         },
         "mode": "lines",
         "name": "MBS",
         "orientation": "v",
         "showlegend": true,
         "type": "scatter",
         "x": [
          "2022-09-30T23:59:59.999999",
          "2022-06-30T23:59:59.999999",
          "2022-03-31T23:59:59.999999",
          "2021-12-31T23:59:59.999999",
          "2021-09-30T23:59:59.999999",
          "2021-06-30T23:59:59.999999",
          "2021-03-31T23:59:59.999999",
          "2020-12-31T23:59:59.999999",
          "2020-09-30T23:59:59.999999",
          "2020-06-30T23:59:59.999999",
          "2020-03-31T23:59:59.999999",
          "2019-12-31T23:59:59.999999",
          "2019-09-30T23:59:59.999999",
          "2019-06-30T23:59:59.999999",
          "2019-03-31T23:59:59.999999",
          "2018-12-31T23:59:59.999999",
          "2018-09-30T23:59:59.999999",
          "2018-06-30T23:59:59.999999",
          "2018-03-31T23:59:59.999999",
          "2017-12-31T23:59:59.999999",
          "2017-09-30T23:59:59.999999",
          "2017-06-30T23:59:59.999999"
         ],
         "xaxis": "x",
         "y": [
          0.646,
          0.556,
          0.646,
          0.614,
          0.663,
          0.481,
          0.556,
          0.542,
          0.555,
          0.656,
          0.474,
          0.558,
          0.549,
          0.628,
          0.594,
          0.331,
          0.574,
          0.526,
          0.425,
          0.322,
          0.385,
          0.412
         ],
         "yaxis": "y"
        }
       ],
       "layout": {
        "legend": {
         "title": {
          "text": "ticker"
         },
         "tracegroupgap": 0
        },
        "template": {
         "data": {
          "bar": [
           {
            "error_x": {
             "color": "#2a3f5f"
            },
            "error_y": {
             "color": "#2a3f5f"
            },
            "marker": {
             "line": {
              "color": "#E5ECF6",
              "width": 0.5
             },
             "pattern": {
              "fillmode": "overlay",
              "size": 10,
              "solidity": 0.2
             }
            },
            "type": "bar"
           }
          ],
          "barpolar": [
           {
            "marker": {
             "line": {
              "color": "#E5ECF6",
              "width": 0.5
             },
             "pattern": {
              "fillmode": "overlay",
              "size": 10,
              "solidity": 0.2
             }
            },
            "type": "barpolar"
           }
          ],
          "carpet": [
           {
            "aaxis": {
             "endlinecolor": "#2a3f5f",
             "gridcolor": "white",
             "linecolor": "white",
             "minorgridcolor": "white",
             "startlinecolor": "#2a3f5f"
            },
            "baxis": {
             "endlinecolor": "#2a3f5f",
             "gridcolor": "white",
             "linecolor": "white",
             "minorgridcolor": "white",
             "startlinecolor": "#2a3f5f"
            },
            "type": "carpet"
           }
          ],
          "choropleth": [
           {
            "colorbar": {
             "outlinewidth": 0,
             "ticks": ""
            },
            "type": "choropleth"
           }
          ],
          "contour": [
           {
            "colorbar": {
             "outlinewidth": 0,
             "ticks": ""
            },
            "colorscale": [
             [
              0,
              "#0d0887"
             ],
             [
              0.1111111111111111,
              "#46039f"
             ],
             [
              0.2222222222222222,
              "#7201a8"
             ],
             [
              0.3333333333333333,
              "#9c179e"
             ],
             [
              0.4444444444444444,
              "#bd3786"
             ],
             [
              0.5555555555555556,
              "#d8576b"
             ],
             [
              0.6666666666666666,
              "#ed7953"
             ],
             [
              0.7777777777777778,
              "#fb9f3a"
             ],
             [
              0.8888888888888888,
              "#fdca26"
             ],
             [
              1,
              "#f0f921"
             ]
            ],
            "type": "contour"
           }
          ],
          "contourcarpet": [
           {
            "colorbar": {
             "outlinewidth": 0,
             "ticks": ""
            },
            "type": "contourcarpet"
           }
          ],
          "heatmap": [
           {
            "colorbar": {
             "outlinewidth": 0,
             "ticks": ""
            },
            "colorscale": [
             [
              0,
              "#0d0887"
             ],
             [
              0.1111111111111111,
              "#46039f"
             ],
             [
              0.2222222222222222,
              "#7201a8"
             ],
             [
              0.3333333333333333,
              "#9c179e"
             ],
             [
              0.4444444444444444,
              "#bd3786"
             ],
             [
              0.5555555555555556,
              "#d8576b"
             ],
             [
              0.6666666666666666,
              "#ed7953"
             ],
             [
              0.7777777777777778,
              "#fb9f3a"
             ],
             [
              0.8888888888888888,
              "#fdca26"
             ],
             [
              1,
              "#f0f921"
             ]
            ],
            "type": "heatmap"
           }
          ],
          "heatmapgl": [
           {
            "colorbar": {
             "outlinewidth": 0,
             "ticks": ""
            },
            "colorscale": [
             [
              0,
              "#0d0887"
             ],
             [
              0.1111111111111111,
              "#46039f"
             ],
             [
              0.2222222222222222,
              "#7201a8"
             ],
             [
              0.3333333333333333,
              "#9c179e"
             ],
             [
              0.4444444444444444,
              "#bd3786"
             ],
             [
              0.5555555555555556,
              "#d8576b"
             ],
             [
              0.6666666666666666,
              "#ed7953"
             ],
             [
              0.7777777777777778,
              "#fb9f3a"
             ],
             [
              0.8888888888888888,
              "#fdca26"
             ],
             [
              1,
              "#f0f921"
             ]
            ],
            "type": "heatmapgl"
           }
          ],
          "histogram": [
           {
            "marker": {
             "pattern": {
              "fillmode": "overlay",
              "size": 10,
              "solidity": 0.2
             }
            },
            "type": "histogram"
           }
          ],
          "histogram2d": [
           {
            "colorbar": {
             "outlinewidth": 0,
             "ticks": ""
            },
            "colorscale": [
             [
              0,
              "#0d0887"
             ],
             [
              0.1111111111111111,
              "#46039f"
             ],
             [
              0.2222222222222222,
              "#7201a8"
             ],
             [
              0.3333333333333333,
              "#9c179e"
             ],
             [
              0.4444444444444444,
              "#bd3786"
             ],
             [
              0.5555555555555556,
              "#d8576b"
             ],
             [
              0.6666666666666666,
              "#ed7953"
             ],
             [
              0.7777777777777778,
              "#fb9f3a"
             ],
             [
              0.8888888888888888,
              "#fdca26"
             ],
             [
              1,
              "#f0f921"
             ]
            ],
            "type": "histogram2d"
           }
          ],
          "histogram2dcontour": [
           {
            "colorbar": {
             "outlinewidth": 0,
             "ticks": ""
            },
            "colorscale": [
             [
              0,
              "#0d0887"
             ],
             [
              0.1111111111111111,
              "#46039f"
             ],
             [
              0.2222222222222222,
              "#7201a8"
             ],
             [
              0.3333333333333333,
              "#9c179e"
             ],
             [
              0.4444444444444444,
              "#bd3786"
             ],
             [
              0.5555555555555556,
              "#d8576b"
             ],
             [
              0.6666666666666666,
              "#ed7953"
             ],
             [
              0.7777777777777778,
              "#fb9f3a"
             ],
             [
              0.8888888888888888,
              "#fdca26"
             ],
             [
              1,
              "#f0f921"
             ]
            ],
            "type": "histogram2dcontour"
           }
          ],
          "mesh3d": [
           {
            "colorbar": {
             "outlinewidth": 0,
             "ticks": ""
            },
            "type": "mesh3d"
           }
          ],
          "parcoords": [
           {
            "line": {
             "colorbar": {
              "outlinewidth": 0,
              "ticks": ""
             }
            },
            "type": "parcoords"
           }
          ],
          "pie": [
           {
            "automargin": true,
            "type": "pie"
           }
          ],
          "scatter": [
           {
            "fillpattern": {
             "fillmode": "overlay",
             "size": 10,
             "solidity": 0.2
            },
            "type": "scatter"
           }
          ],
          "scatter3d": [
           {
            "line": {
             "colorbar": {
              "outlinewidth": 0,
              "ticks": ""
             }
            },
            "marker": {
             "colorbar": {
              "outlinewidth": 0,
              "ticks": ""
             }
            },
            "type": "scatter3d"
           }
          ],
          "scattercarpet": [
           {
            "marker": {
             "colorbar": {
              "outlinewidth": 0,
              "ticks": ""
             }
            },
            "type": "scattercarpet"
           }
          ],
          "scattergeo": [
           {
            "marker": {
             "colorbar": {
              "outlinewidth": 0,
              "ticks": ""
             }
            },
            "type": "scattergeo"
           }
          ],
          "scattergl": [
           {
            "marker": {
             "colorbar": {
              "outlinewidth": 0,
              "ticks": ""
             }
            },
            "type": "scattergl"
           }
          ],
          "scattermapbox": [
           {
            "marker": {
             "colorbar": {
              "outlinewidth": 0,
              "ticks": ""
             }
            },
            "type": "scattermapbox"
           }
          ],
          "scatterpolar": [
           {
            "marker": {
             "colorbar": {
              "outlinewidth": 0,
              "ticks": ""
             }
            },
            "type": "scatterpolar"
           }
          ],
          "scatterpolargl": [
           {
            "marker": {
             "colorbar": {
              "outlinewidth": 0,
              "ticks": ""
             }
            },
            "type": "scatterpolargl"
           }
          ],
          "scatterternary": [
           {
            "marker": {
             "colorbar": {
              "outlinewidth": 0,
              "ticks": ""
             }
            },
            "type": "scatterternary"
           }
          ],
          "surface": [
           {
            "colorbar": {
             "outlinewidth": 0,
             "ticks": ""
            },
            "colorscale": [
             [
              0,
              "#0d0887"
             ],
             [
              0.1111111111111111,
              "#46039f"
             ],
             [
              0.2222222222222222,
              "#7201a8"
             ],
             [
              0.3333333333333333,
              "#9c179e"
             ],
             [
              0.4444444444444444,
              "#bd3786"
             ],
             [
              0.5555555555555556,
              "#d8576b"
             ],
             [
              0.6666666666666666,
              "#ed7953"
             ],
             [
              0.7777777777777778,
              "#fb9f3a"
             ],
             [
              0.8888888888888888,
              "#fdca26"
             ],
             [
              1,
              "#f0f921"
             ]
            ],
            "type": "surface"
           }
          ],
          "table": [
           {
            "cells": {
             "fill": {
              "color": "#EBF0F8"
             },
             "line": {
              "color": "white"
             }
            },
            "header": {
             "fill": {
              "color": "#C8D4E3"
             },
             "line": {
              "color": "white"
             }
            },
            "type": "table"
           }
          ]
         },
         "layout": {
          "annotationdefaults": {
           "arrowcolor": "#2a3f5f",
           "arrowhead": 0,
           "arrowwidth": 1
          },
          "autotypenumbers": "strict",
          "coloraxis": {
           "colorbar": {
            "outlinewidth": 0,
            "ticks": ""
           }
          },
          "colorscale": {
           "diverging": [
            [
             0,
             "#8e0152"
            ],
            [
             0.1,
             "#c51b7d"
            ],
            [
             0.2,
             "#de77ae"
            ],
            [
             0.3,
             "#f1b6da"
            ],
            [
             0.4,
             "#fde0ef"
            ],
            [
             0.5,
             "#f7f7f7"
            ],
            [
             0.6,
             "#e6f5d0"
            ],
            [
             0.7,
             "#b8e186"
            ],
            [
             0.8,
             "#7fbc41"
            ],
            [
             0.9,
             "#4d9221"
            ],
            [
             1,
             "#276419"
            ]
           ],
           "sequential": [
            [
             0,
             "#0d0887"
            ],
            [
             0.1111111111111111,
             "#46039f"
            ],
            [
             0.2222222222222222,
             "#7201a8"
            ],
            [
             0.3333333333333333,
             "#9c179e"
            ],
            [
             0.4444444444444444,
             "#bd3786"
            ],
            [
             0.5555555555555556,
             "#d8576b"
            ],
            [
             0.6666666666666666,
             "#ed7953"
            ],
            [
             0.7777777777777778,
             "#fb9f3a"
            ],
            [
             0.8888888888888888,
             "#fdca26"
            ],
            [
             1,
             "#f0f921"
            ]
           ],
           "sequentialminus": [
            [
             0,
             "#0d0887"
            ],
            [
             0.1111111111111111,
             "#46039f"
            ],
            [
             0.2222222222222222,
             "#7201a8"
            ],
            [
             0.3333333333333333,
             "#9c179e"
            ],
            [
             0.4444444444444444,
             "#bd3786"
            ],
            [
             0.5555555555555556,
             "#d8576b"
            ],
            [
             0.6666666666666666,
             "#ed7953"
            ],
            [
             0.7777777777777778,
             "#fb9f3a"
            ],
            [
             0.8888888888888888,
             "#fdca26"
            ],
            [
             1,
             "#f0f921"
            ]
           ]
          },
          "colorway": [
           "#636efa",
           "#EF553B",
           "#00cc96",
           "#ab63fa",
           "#FFA15A",
           "#19d3f3",
           "#FF6692",
           "#B6E880",
           "#FF97FF",
           "#FECB52"
          ],
          "font": {
           "color": "#2a3f5f"
          },
          "geo": {
           "bgcolor": "white",
           "lakecolor": "white",
           "landcolor": "#E5ECF6",
           "showlakes": true,
           "showland": true,
           "subunitcolor": "white"
          },
          "hoverlabel": {
           "align": "left"
          },
          "hovermode": "closest",
          "mapbox": {
           "style": "light"
          },
          "paper_bgcolor": "white",
          "plot_bgcolor": "#E5ECF6",
          "polar": {
           "angularaxis": {
            "gridcolor": "white",
            "linecolor": "white",
            "ticks": ""
           },
           "bgcolor": "#E5ECF6",
           "radialaxis": {
            "gridcolor": "white",
            "linecolor": "white",
            "ticks": ""
           }
          },
          "scene": {
           "xaxis": {
            "backgroundcolor": "#E5ECF6",
            "gridcolor": "white",
            "gridwidth": 2,
            "linecolor": "white",
            "showbackground": true,
            "ticks": "",
            "zerolinecolor": "white"
           },
           "yaxis": {
            "backgroundcolor": "#E5ECF6",
            "gridcolor": "white",
            "gridwidth": 2,
            "linecolor": "white",
            "showbackground": true,
            "ticks": "",
            "zerolinecolor": "white"
           },
           "zaxis": {
            "backgroundcolor": "#E5ECF6",
            "gridcolor": "white",
            "gridwidth": 2,
            "linecolor": "white",
            "showbackground": true,
            "ticks": "",
            "zerolinecolor": "white"
           }
          },
          "shapedefaults": {
           "line": {
            "color": "#2a3f5f"
           }
          },
          "ternary": {
           "aaxis": {
            "gridcolor": "white",
            "linecolor": "white",
            "ticks": ""
           },
           "baxis": {
            "gridcolor": "white",
            "linecolor": "white",
            "ticks": ""
           },
           "bgcolor": "#E5ECF6",
           "caxis": {
            "gridcolor": "white",
            "linecolor": "white",
            "ticks": ""
           }
          },
          "title": {
           "x": 0.05
          },
          "xaxis": {
           "automargin": true,
           "gridcolor": "white",
           "linecolor": "white",
           "ticks": "",
           "title": {
            "standoff": 15
           },
           "zerolinecolor": "white",
           "zerolinewidth": 2
          },
          "yaxis": {
           "automargin": true,
           "gridcolor": "white",
           "linecolor": "white",
           "ticks": "",
           "title": {
            "standoff": 15
           },
           "zerolinecolor": "white",
           "zerolinewidth": 2
          }
         }
        },
        "title": {
         "text": "Biên LN gộp"
        },
        "xaxis": {
         "anchor": "y",
         "domain": [
          0,
          1
         ],
         "title": {
          "text": "quarter_end_time"
         }
        },
        "yaxis": {
         "anchor": "x",
         "domain": [
          0,
          1
         ],
         "tickformat": ",.0%",
         "title": {
          "text": "grossProfitMargin"
         }
        }
       }
      }
     },
     "metadata": {},
     "output_type": "display_data"
    }
   ],
   "source": [
    "import seaborn as sns\n",
    "import plotly.express as px\n",
    "\n",
    "fig = px.line(\n",
    "    balancesheet_financialratio_incomestatement_per_group,\n",
    "    x=\"quarter_end_time\",\n",
    "    y=\"grossProfitMargin\",\n",
    "    color=\"ticker\",\n",
    "    title=\"Biên LN gộp\",\n",
    ")\n",
    "fig.layout.yaxis.tickformat = ',.0%'\n",
    "fig.show()"
   ]
  },
  {
   "cell_type": "markdown",
   "metadata": {},
   "source": [
    "## DAR - Vay/Tài sản"
   ]
  },
  {
   "cell_type": "code",
   "execution_count": 71,
   "metadata": {},
   "outputs": [
    {
     "data": {
      "application/vnd.plotly.v1+json": {
       "config": {
        "plotlyServerURL": "https://plot.ly"
       },
       "data": [
        {
         "hovertemplate": "ticker=HPG<br>quarter_end_time=%{x}<br>debtOnAsset=%{y}<extra></extra>",
         "legendgroup": "HPG",
         "line": {
          "color": "#636efa",
          "dash": "solid"
         },
         "marker": {
          "symbol": "circle"
         },
         "mode": "lines",
         "name": "HPG",
         "orientation": "v",
         "showlegend": true,
         "type": "scatter",
         "x": [
          "2022-09-30T23:59:59.999999",
          "2022-06-30T23:59:59.999999",
          "2022-03-31T23:59:59.999999",
          "2021-12-31T23:59:59.999999",
          "2021-09-30T23:59:59.999999",
          "2021-06-30T23:59:59.999999",
          "2021-03-31T23:59:59.999999",
          "2020-12-31T23:59:59.999999",
          "2020-09-30T23:59:59.999999",
          "2020-06-30T23:59:59.999999",
          "2020-03-31T23:59:59.999999",
          "2019-12-31T23:59:59.999999",
          "2019-09-30T23:59:59.999999",
          "2019-06-30T23:59:59.999999",
          "2019-03-31T23:59:59.999999",
          "2018-12-31T23:59:59.999999",
          "2018-09-30T23:59:59.999999",
          "2018-06-30T23:59:59.999999",
          "2018-03-31T23:59:59.999999",
          "2017-12-31T23:59:59.999999",
          "2017-09-30T23:59:59.999999",
          "2017-06-30T23:59:59.999999",
          "2017-03-31T23:59:59.999999",
          "2016-12-31T23:59:59.999999",
          "2016-09-30T23:59:59.999999",
          "2016-06-30T23:59:59.999999",
          "2016-03-31T23:59:59.999999",
          "2015-12-31T23:59:59.999999",
          "2015-09-30T23:59:59.999999",
          "2015-06-30T23:59:59.999999",
          "2015-03-31T23:59:59.999999",
          "2014-12-31T23:59:59.999999",
          "2014-09-30T23:59:59.999999",
          "2014-06-30T23:59:59.999999",
          "2014-03-31T23:59:59.999999",
          "2013-12-31T23:59:59.999999",
          "2013-09-30T23:59:59.999999",
          "2013-06-30T23:59:59.999999",
          "2013-03-31T23:59:59.999999",
          "2012-12-31T23:59:59.999999",
          "2012-09-30T23:59:59.999999",
          "2012-06-30T23:59:59.999999",
          "2012-03-31T23:59:59.999999",
          "2011-12-31T23:59:59.999999",
          "2011-09-30T23:59:59.999999",
          "2011-06-30T23:59:59.999999",
          "2011-03-31T23:59:59.999999",
          "2010-12-31T23:59:59.999999",
          "2010-09-30T23:59:59.999999",
          "2010-06-30T23:59:59.999999",
          "2010-03-31T23:59:59.999999",
          "2009-12-31T23:59:59.999999",
          "2009-09-30T23:59:59.999999",
          "2009-06-30T23:59:59.999999",
          "2009-03-31T23:59:59.999999",
          "2008-12-31T23:59:59.999999",
          "2008-09-30T23:59:59.999999",
          "2008-06-30T23:59:59.999999"
         ],
         "xaxis": "x",
         "y": [
          0.4,
          0.3,
          0.3,
          0.3,
          0.3,
          0.4,
          0.4,
          0.4,
          0.4,
          0.4,
          0.4,
          0.4,
          0.4,
          0.4,
          0.4,
          0.3,
          0.3,
          0.3,
          0.2,
          0.2,
          0.2,
          0.2,
          0.3,
          0.2,
          0.2,
          0.2,
          0.3,
          0.3,
          0.3,
          0.3,
          0.3,
          0.3,
          0.3,
          0.3,
          0.3,
          0.3,
          0.3,
          0.3,
          0.3,
          0.3,
          0.3,
          0.3,
          0.3,
          0.4,
          0.4,
          0.4,
          0.4,
          0.4,
          0.4,
          0.4,
          0.4,
          0.4,
          0.3,
          0.2,
          0.1,
          0.2,
          0,
          0.2
         ],
         "yaxis": "y"
        },
        {
         "hovertemplate": "ticker=PVS<br>quarter_end_time=%{x}<br>debtOnAsset=%{y}<extra></extra>",
         "legendgroup": "PVS",
         "line": {
          "color": "#EF553B",
          "dash": "solid"
         },
         "marker": {
          "symbol": "circle"
         },
         "mode": "lines",
         "name": "PVS",
         "orientation": "v",
         "showlegend": true,
         "type": "scatter",
         "x": [
          "2022-09-30T23:59:59.999999",
          "2022-06-30T23:59:59.999999",
          "2022-03-31T23:59:59.999999",
          "2021-12-31T23:59:59.999999",
          "2021-09-30T23:59:59.999999",
          "2021-06-30T23:59:59.999999",
          "2021-03-31T23:59:59.999999",
          "2020-12-31T23:59:59.999999",
          "2020-09-30T23:59:59.999999",
          "2020-06-30T23:59:59.999999",
          "2020-03-31T23:59:59.999999",
          "2019-12-31T23:59:59.999999",
          "2019-09-30T23:59:59.999999",
          "2019-06-30T23:59:59.999999",
          "2019-03-31T23:59:59.999999",
          "2018-12-31T23:59:59.999999",
          "2018-09-30T23:59:59.999999",
          "2018-06-30T23:59:59.999999",
          "2018-03-31T23:59:59.999999",
          "2017-12-31T23:59:59.999999",
          "2017-09-30T23:59:59.999999",
          "2017-06-30T23:59:59.999999",
          "2017-03-31T23:59:59.999999",
          "2016-12-31T23:59:59.999999",
          "2016-09-30T23:59:59.999999",
          "2016-06-30T23:59:59.999999",
          "2016-03-31T23:59:59.999999",
          "2015-12-31T23:59:59.999999",
          "2015-09-30T23:59:59.999999",
          "2015-06-30T23:59:59.999999",
          "2015-03-31T23:59:59.999999",
          "2014-12-31T23:59:59.999999",
          "2014-09-30T23:59:59.999999",
          "2014-06-30T23:59:59.999999",
          "2014-03-31T23:59:59.999999",
          "2013-12-31T23:59:59.999999",
          "2013-09-30T23:59:59.999999",
          "2013-06-30T23:59:59.999999",
          "2013-03-31T23:59:59.999999",
          "2012-12-31T23:59:59.999999",
          "2012-09-30T23:59:59.999999",
          "2012-06-30T23:59:59.999999",
          "2012-03-31T23:59:59.999999",
          "2011-12-31T23:59:59.999999",
          "2011-09-30T23:59:59.999999",
          "2011-06-30T23:59:59.999999",
          "2011-03-31T23:59:59.999999",
          "2010-12-31T23:59:59.999999",
          "2010-09-30T23:59:59.999999",
          "2010-06-30T23:59:59.999999",
          "2010-03-31T23:59:59.999999",
          "2009-12-31T23:59:59.999999",
          "2009-09-30T23:59:59.999999",
          "2009-06-30T23:59:59.999999",
          "2009-03-31T23:59:59.999999",
          "2008-12-31T23:59:59.999999",
          "2008-09-30T23:59:59.999999",
          "2008-06-30T23:59:59.999999"
         ],
         "xaxis": "x",
         "y": [
          0.1,
          0,
          0,
          0.1,
          0,
          0,
          0.1,
          0,
          0,
          0,
          0.1,
          0.1,
          0,
          0,
          0,
          0,
          0,
          0,
          0.1,
          0,
          0.1,
          0.1,
          0.1,
          0.1,
          0.1,
          0.1,
          0.1,
          0.1,
          0.1,
          0.1,
          0.1,
          0.1,
          0.1,
          0.1,
          0.1,
          0.1,
          0.1,
          0.2,
          0.2,
          0.2,
          0.2,
          0.2,
          0.3,
          0.3,
          0.3,
          0.3,
          0.3,
          0.3,
          0.3,
          0.3,
          0.4,
          0.4,
          0.4,
          0.7,
          0.4,
          0.4,
          0.3,
          0.3
         ],
         "yaxis": "y"
        },
        {
         "hovertemplate": "ticker=HCM<br>quarter_end_time=%{x}<br>debtOnAsset=%{y}<extra></extra>",
         "legendgroup": "HCM",
         "line": {
          "color": "#00cc96",
          "dash": "solid"
         },
         "marker": {
          "symbol": "circle"
         },
         "mode": "lines",
         "name": "HCM",
         "orientation": "v",
         "showlegend": true,
         "type": "scatter",
         "x": [
          "2022-09-30T23:59:59.999999",
          "2022-06-30T23:59:59.999999",
          "2022-03-31T23:59:59.999999",
          "2021-12-31T23:59:59.999999",
          "2021-09-30T23:59:59.999999",
          "2021-06-30T23:59:59.999999",
          "2021-03-31T23:59:59.999999",
          "2020-12-31T23:59:59.999999",
          "2020-09-30T23:59:59.999999",
          "2020-06-30T23:59:59.999999",
          "2020-03-31T23:59:59.999999",
          "2019-12-31T23:59:59.999999",
          "2019-09-30T23:59:59.999999",
          "2019-06-30T23:59:59.999999",
          "2019-03-31T23:59:59.999999",
          "2018-12-31T23:59:59.999999",
          "2018-09-30T23:59:59.999999",
          "2018-06-30T23:59:59.999999",
          "2018-03-31T23:59:59.999999",
          "2017-12-31T23:59:59.999999",
          "2017-09-30T23:59:59.999999",
          "2017-06-30T23:59:59.999999",
          "2017-03-31T23:59:59.999999",
          "2016-12-31T23:59:59.999999",
          "2016-09-30T23:59:59.999999",
          "2016-06-30T23:59:59.999999",
          "2016-03-31T23:59:59.999999",
          "2015-12-31T23:59:59.999999",
          "2015-09-30T23:59:59.999999",
          "2015-06-30T23:59:59.999999",
          "2015-03-31T23:59:59.999999",
          "2014-12-31T23:59:59.999999",
          "2014-09-30T23:59:59.999999",
          "2014-06-30T23:59:59.999999",
          "2014-03-31T23:59:59.999999",
          "2013-12-31T23:59:59.999999",
          "2013-09-30T23:59:59.999999",
          "2013-06-30T23:59:59.999999",
          "2013-03-31T23:59:59.999999",
          "2012-12-31T23:59:59.999999",
          "2012-09-30T23:59:59.999999",
          "2012-06-30T23:59:59.999999",
          "2012-03-31T23:59:59.999999",
          "2011-12-31T23:59:59.999999",
          "2011-09-30T23:59:59.999999",
          "2011-06-30T23:59:59.999999",
          "2011-03-31T23:59:59.999999",
          "2010-12-31T23:59:59.999999",
          "2010-09-30T23:59:59.999999",
          "2010-06-30T23:59:59.999999"
         ],
         "xaxis": "x",
         "y": [
          0.5,
          0.5,
          0.6,
          0.6,
          0.7,
          0.6,
          0.6,
          0.5,
          0.4,
          0.3,
          0.2,
          0.3,
          0.2,
          0.3,
          0.3,
          0.3,
          0.2,
          0.1,
          0.3,
          0.4,
          0.3,
          0.3,
          0.3,
          0.3,
          0.3,
          0.2,
          0.1,
          0.2,
          0,
          0,
          0,
          null,
          null,
          null,
          null,
          null,
          null,
          null,
          null,
          null,
          null,
          null,
          null,
          null,
          null,
          null,
          null,
          null,
          null,
          null
         ],
         "yaxis": "y"
        },
        {
         "hovertemplate": "ticker=VCI<br>quarter_end_time=%{x}<br>debtOnAsset=%{y}<extra></extra>",
         "legendgroup": "VCI",
         "line": {
          "color": "#ab63fa",
          "dash": "solid"
         },
         "marker": {
          "symbol": "circle"
         },
         "mode": "lines",
         "name": "VCI",
         "orientation": "v",
         "showlegend": true,
         "type": "scatter",
         "x": [
          "2022-09-30T23:59:59.999999",
          "2022-06-30T23:59:59.999999",
          "2022-03-31T23:59:59.999999",
          "2021-12-31T23:59:59.999999",
          "2021-09-30T23:59:59.999999",
          "2021-06-30T23:59:59.999999",
          "2021-03-31T23:59:59.999999",
          "2020-12-31T23:59:59.999999",
          "2020-09-30T23:59:59.999999",
          "2020-06-30T23:59:59.999999",
          "2020-03-31T23:59:59.999999",
          "2019-12-31T23:59:59.999999",
          "2019-09-30T23:59:59.999999",
          "2019-06-30T23:59:59.999999",
          "2019-03-31T23:59:59.999999",
          "2018-12-31T23:59:59.999999",
          "2018-09-30T23:59:59.999999",
          "2018-06-30T23:59:59.999999",
          "2018-03-31T23:59:59.999999",
          "2017-12-31T23:59:59.999999",
          "2017-09-30T23:59:59.999999",
          "2017-06-30T23:59:59.999999"
         ],
         "xaxis": "x",
         "y": [
          0.4,
          0.4,
          0.4,
          0.4,
          0.3,
          0.3,
          0.4,
          0.3,
          0.3,
          0.3,
          0.3,
          0.2,
          0.2,
          0.2,
          0,
          0.2,
          0.1,
          0.2,
          0.2,
          0.2,
          0.2,
          0.2
         ],
         "yaxis": "y"
        },
        {
         "hovertemplate": "ticker=STB<br>quarter_end_time=%{x}<br>debtOnAsset=%{y}<extra></extra>",
         "legendgroup": "STB",
         "line": {
          "color": "#FFA15A",
          "dash": "solid"
         },
         "marker": {
          "symbol": "circle"
         },
         "mode": "lines",
         "name": "STB",
         "orientation": "v",
         "showlegend": true,
         "type": "scatter",
         "x": [
          "2022-09-30T23:59:59.999999",
          "2022-06-30T23:59:59.999999",
          "2022-03-31T23:59:59.999999",
          "2021-12-31T23:59:59.999999",
          "2021-09-30T23:59:59.999999",
          "2021-06-30T23:59:59.999999",
          "2021-03-31T23:59:59.999999",
          "2020-12-31T23:59:59.999999",
          "2020-09-30T23:59:59.999999",
          "2020-06-30T23:59:59.999999",
          "2020-03-31T23:59:59.999999",
          "2019-12-31T23:59:59.999999",
          "2019-09-30T23:59:59.999999",
          "2019-06-30T23:59:59.999999",
          "2019-03-31T23:59:59.999999",
          "2018-12-31T23:59:59.999999",
          "2018-09-30T23:59:59.999999",
          "2018-06-30T23:59:59.999999",
          "2018-03-31T23:59:59.999999",
          "2017-12-31T23:59:59.999999",
          "2017-09-30T23:59:59.999999",
          "2017-06-30T23:59:59.999999",
          "2017-03-31T23:59:59.999999",
          "2016-12-31T23:59:59.999999",
          "2016-09-30T23:59:59.999999",
          "2016-06-30T23:59:59.999999",
          "2016-03-31T23:59:59.999999",
          "2015-12-31T23:59:59.999999",
          "2015-09-30T23:59:59.999999",
          "2015-06-30T23:59:59.999999",
          "2015-03-31T23:59:59.999999",
          "2014-12-31T23:59:59.999999",
          "2014-09-30T23:59:59.999999",
          "2014-06-30T23:59:59.999999",
          "2014-03-31T23:59:59.999999",
          "2013-12-31T23:59:59.999999",
          "2013-09-30T23:59:59.999999",
          "2013-06-30T23:59:59.999999",
          "2013-03-31T23:59:59.999999",
          "2012-12-31T23:59:59.999999",
          "2012-09-30T23:59:59.999999",
          "2012-06-30T23:59:59.999999",
          "2012-03-31T23:59:59.999999",
          "2011-12-31T23:59:59.999999",
          "2011-09-30T23:59:59.999999",
          "2011-06-30T23:59:59.999999",
          "2011-03-31T23:59:59.999999",
          "2010-12-31T23:59:59.999999",
          "2010-09-30T23:59:59.999999",
          "2010-06-30T23:59:59.999999",
          "2010-03-31T23:59:59.999999",
          "2009-12-31T23:59:59.999999",
          "2009-09-30T23:59:59.999999",
          "2009-06-30T23:59:59.999999",
          "2008-09-30T23:59:59.999999",
          "2007-09-30T23:59:59.999999",
          "2007-06-30T23:59:59.999999"
         ],
         "xaxis": "x",
         "y": [
          null,
          null,
          null,
          null,
          null,
          null,
          null,
          null,
          null,
          null,
          null,
          null,
          null,
          null,
          null,
          null,
          null,
          null,
          null,
          null,
          null,
          null,
          null,
          null,
          null,
          null,
          null,
          null,
          null,
          null,
          null,
          null,
          null,
          null,
          null,
          null,
          null,
          null,
          null,
          null,
          null,
          null,
          null,
          null,
          null,
          null,
          null,
          null,
          null,
          null,
          null,
          null,
          null,
          null,
          null,
          null,
          null
         ],
         "yaxis": "y"
        },
        {
         "hovertemplate": "ticker=MBB<br>quarter_end_time=%{x}<br>debtOnAsset=%{y}<extra></extra>",
         "legendgroup": "MBB",
         "line": {
          "color": "#19d3f3",
          "dash": "solid"
         },
         "marker": {
          "symbol": "circle"
         },
         "mode": "lines",
         "name": "MBB",
         "orientation": "v",
         "showlegend": true,
         "type": "scatter",
         "x": [
          "2022-09-30T23:59:59.999999",
          "2022-06-30T23:59:59.999999",
          "2022-03-31T23:59:59.999999",
          "2021-12-31T23:59:59.999999",
          "2021-09-30T23:59:59.999999",
          "2021-06-30T23:59:59.999999",
          "2021-03-31T23:59:59.999999",
          "2020-12-31T23:59:59.999999",
          "2020-09-30T23:59:59.999999",
          "2020-06-30T23:59:59.999999",
          "2020-03-31T23:59:59.999999",
          "2019-12-31T23:59:59.999999",
          "2019-09-30T23:59:59.999999",
          "2019-06-30T23:59:59.999999",
          "2019-03-31T23:59:59.999999",
          "2018-12-31T23:59:59.999999",
          "2018-09-30T23:59:59.999999",
          "2018-06-30T23:59:59.999999",
          "2018-03-31T23:59:59.999999",
          "2017-12-31T23:59:59.999999",
          "2017-09-30T23:59:59.999999",
          "2017-06-30T23:59:59.999999",
          "2017-03-31T23:59:59.999999",
          "2016-12-31T23:59:59.999999",
          "2016-09-30T23:59:59.999999",
          "2016-06-30T23:59:59.999999",
          "2016-03-31T23:59:59.999999",
          "2015-12-31T23:59:59.999999",
          "2015-09-30T23:59:59.999999",
          "2015-06-30T23:59:59.999999",
          "2015-03-31T23:59:59.999999",
          "2014-12-31T23:59:59.999999",
          "2014-09-30T23:59:59.999999",
          "2014-06-30T23:59:59.999999",
          "2014-03-31T23:59:59.999999",
          "2013-12-31T23:59:59.999999",
          "2013-09-30T23:59:59.999999",
          "2013-06-30T23:59:59.999999",
          "2013-03-31T23:59:59.999999",
          "2012-12-31T23:59:59.999999",
          "2012-09-30T23:59:59.999999",
          "2012-06-30T23:59:59.999999"
         ],
         "xaxis": "x",
         "y": [
          null,
          null,
          null,
          null,
          null,
          null,
          null,
          null,
          null,
          null,
          null,
          null,
          null,
          null,
          null,
          null,
          null,
          null,
          null,
          null,
          null,
          null,
          null,
          null,
          null,
          null,
          null,
          null,
          null,
          null,
          null,
          null,
          null,
          null,
          null,
          null,
          null,
          null,
          null,
          null,
          null,
          null
         ],
         "yaxis": "y"
        },
        {
         "hovertemplate": "ticker=MBS<br>quarter_end_time=%{x}<br>debtOnAsset=%{y}<extra></extra>",
         "legendgroup": "MBS",
         "line": {
          "color": "#FF6692",
          "dash": "solid"
         },
         "marker": {
          "symbol": "circle"
         },
         "mode": "lines",
         "name": "MBS",
         "orientation": "v",
         "showlegend": true,
         "type": "scatter",
         "x": [
          "2022-09-30T23:59:59.999999",
          "2022-06-30T23:59:59.999999",
          "2022-03-31T23:59:59.999999",
          "2021-12-31T23:59:59.999999",
          "2021-09-30T23:59:59.999999",
          "2021-06-30T23:59:59.999999",
          "2021-03-31T23:59:59.999999",
          "2020-12-31T23:59:59.999999",
          "2020-09-30T23:59:59.999999",
          "2020-06-30T23:59:59.999999",
          "2020-03-31T23:59:59.999999",
          "2019-12-31T23:59:59.999999",
          "2019-09-30T23:59:59.999999",
          "2019-06-30T23:59:59.999999",
          "2019-03-31T23:59:59.999999",
          "2018-12-31T23:59:59.999999",
          "2018-09-30T23:59:59.999999",
          "2018-06-30T23:59:59.999999",
          "2018-03-31T23:59:59.999999",
          "2017-12-31T23:59:59.999999",
          "2017-09-30T23:59:59.999999",
          "2017-06-30T23:59:59.999999"
         ],
         "xaxis": "x",
         "y": [
          0.6,
          0.6,
          0.6,
          0.6,
          0.6,
          0.4,
          0.4,
          0.3,
          0.3,
          0.3,
          0.2,
          0.2,
          0.2,
          0.2,
          0.2,
          0.1,
          0.2,
          0.1,
          0.2,
          0.2,
          0.1,
          0.1
         ],
         "yaxis": "y"
        }
       ],
       "layout": {
        "legend": {
         "title": {
          "text": "ticker"
         },
         "tracegroupgap": 0
        },
        "template": {
         "data": {
          "bar": [
           {
            "error_x": {
             "color": "#2a3f5f"
            },
            "error_y": {
             "color": "#2a3f5f"
            },
            "marker": {
             "line": {
              "color": "#E5ECF6",
              "width": 0.5
             },
             "pattern": {
              "fillmode": "overlay",
              "size": 10,
              "solidity": 0.2
             }
            },
            "type": "bar"
           }
          ],
          "barpolar": [
           {
            "marker": {
             "line": {
              "color": "#E5ECF6",
              "width": 0.5
             },
             "pattern": {
              "fillmode": "overlay",
              "size": 10,
              "solidity": 0.2
             }
            },
            "type": "barpolar"
           }
          ],
          "carpet": [
           {
            "aaxis": {
             "endlinecolor": "#2a3f5f",
             "gridcolor": "white",
             "linecolor": "white",
             "minorgridcolor": "white",
             "startlinecolor": "#2a3f5f"
            },
            "baxis": {
             "endlinecolor": "#2a3f5f",
             "gridcolor": "white",
             "linecolor": "white",
             "minorgridcolor": "white",
             "startlinecolor": "#2a3f5f"
            },
            "type": "carpet"
           }
          ],
          "choropleth": [
           {
            "colorbar": {
             "outlinewidth": 0,
             "ticks": ""
            },
            "type": "choropleth"
           }
          ],
          "contour": [
           {
            "colorbar": {
             "outlinewidth": 0,
             "ticks": ""
            },
            "colorscale": [
             [
              0,
              "#0d0887"
             ],
             [
              0.1111111111111111,
              "#46039f"
             ],
             [
              0.2222222222222222,
              "#7201a8"
             ],
             [
              0.3333333333333333,
              "#9c179e"
             ],
             [
              0.4444444444444444,
              "#bd3786"
             ],
             [
              0.5555555555555556,
              "#d8576b"
             ],
             [
              0.6666666666666666,
              "#ed7953"
             ],
             [
              0.7777777777777778,
              "#fb9f3a"
             ],
             [
              0.8888888888888888,
              "#fdca26"
             ],
             [
              1,
              "#f0f921"
             ]
            ],
            "type": "contour"
           }
          ],
          "contourcarpet": [
           {
            "colorbar": {
             "outlinewidth": 0,
             "ticks": ""
            },
            "type": "contourcarpet"
           }
          ],
          "heatmap": [
           {
            "colorbar": {
             "outlinewidth": 0,
             "ticks": ""
            },
            "colorscale": [
             [
              0,
              "#0d0887"
             ],
             [
              0.1111111111111111,
              "#46039f"
             ],
             [
              0.2222222222222222,
              "#7201a8"
             ],
             [
              0.3333333333333333,
              "#9c179e"
             ],
             [
              0.4444444444444444,
              "#bd3786"
             ],
             [
              0.5555555555555556,
              "#d8576b"
             ],
             [
              0.6666666666666666,
              "#ed7953"
             ],
             [
              0.7777777777777778,
              "#fb9f3a"
             ],
             [
              0.8888888888888888,
              "#fdca26"
             ],
             [
              1,
              "#f0f921"
             ]
            ],
            "type": "heatmap"
           }
          ],
          "heatmapgl": [
           {
            "colorbar": {
             "outlinewidth": 0,
             "ticks": ""
            },
            "colorscale": [
             [
              0,
              "#0d0887"
             ],
             [
              0.1111111111111111,
              "#46039f"
             ],
             [
              0.2222222222222222,
              "#7201a8"
             ],
             [
              0.3333333333333333,
              "#9c179e"
             ],
             [
              0.4444444444444444,
              "#bd3786"
             ],
             [
              0.5555555555555556,
              "#d8576b"
             ],
             [
              0.6666666666666666,
              "#ed7953"
             ],
             [
              0.7777777777777778,
              "#fb9f3a"
             ],
             [
              0.8888888888888888,
              "#fdca26"
             ],
             [
              1,
              "#f0f921"
             ]
            ],
            "type": "heatmapgl"
           }
          ],
          "histogram": [
           {
            "marker": {
             "pattern": {
              "fillmode": "overlay",
              "size": 10,
              "solidity": 0.2
             }
            },
            "type": "histogram"
           }
          ],
          "histogram2d": [
           {
            "colorbar": {
             "outlinewidth": 0,
             "ticks": ""
            },
            "colorscale": [
             [
              0,
              "#0d0887"
             ],
             [
              0.1111111111111111,
              "#46039f"
             ],
             [
              0.2222222222222222,
              "#7201a8"
             ],
             [
              0.3333333333333333,
              "#9c179e"
             ],
             [
              0.4444444444444444,
              "#bd3786"
             ],
             [
              0.5555555555555556,
              "#d8576b"
             ],
             [
              0.6666666666666666,
              "#ed7953"
             ],
             [
              0.7777777777777778,
              "#fb9f3a"
             ],
             [
              0.8888888888888888,
              "#fdca26"
             ],
             [
              1,
              "#f0f921"
             ]
            ],
            "type": "histogram2d"
           }
          ],
          "histogram2dcontour": [
           {
            "colorbar": {
             "outlinewidth": 0,
             "ticks": ""
            },
            "colorscale": [
             [
              0,
              "#0d0887"
             ],
             [
              0.1111111111111111,
              "#46039f"
             ],
             [
              0.2222222222222222,
              "#7201a8"
             ],
             [
              0.3333333333333333,
              "#9c179e"
             ],
             [
              0.4444444444444444,
              "#bd3786"
             ],
             [
              0.5555555555555556,
              "#d8576b"
             ],
             [
              0.6666666666666666,
              "#ed7953"
             ],
             [
              0.7777777777777778,
              "#fb9f3a"
             ],
             [
              0.8888888888888888,
              "#fdca26"
             ],
             [
              1,
              "#f0f921"
             ]
            ],
            "type": "histogram2dcontour"
           }
          ],
          "mesh3d": [
           {
            "colorbar": {
             "outlinewidth": 0,
             "ticks": ""
            },
            "type": "mesh3d"
           }
          ],
          "parcoords": [
           {
            "line": {
             "colorbar": {
              "outlinewidth": 0,
              "ticks": ""
             }
            },
            "type": "parcoords"
           }
          ],
          "pie": [
           {
            "automargin": true,
            "type": "pie"
           }
          ],
          "scatter": [
           {
            "fillpattern": {
             "fillmode": "overlay",
             "size": 10,
             "solidity": 0.2
            },
            "type": "scatter"
           }
          ],
          "scatter3d": [
           {
            "line": {
             "colorbar": {
              "outlinewidth": 0,
              "ticks": ""
             }
            },
            "marker": {
             "colorbar": {
              "outlinewidth": 0,
              "ticks": ""
             }
            },
            "type": "scatter3d"
           }
          ],
          "scattercarpet": [
           {
            "marker": {
             "colorbar": {
              "outlinewidth": 0,
              "ticks": ""
             }
            },
            "type": "scattercarpet"
           }
          ],
          "scattergeo": [
           {
            "marker": {
             "colorbar": {
              "outlinewidth": 0,
              "ticks": ""
             }
            },
            "type": "scattergeo"
           }
          ],
          "scattergl": [
           {
            "marker": {
             "colorbar": {
              "outlinewidth": 0,
              "ticks": ""
             }
            },
            "type": "scattergl"
           }
          ],
          "scattermapbox": [
           {
            "marker": {
             "colorbar": {
              "outlinewidth": 0,
              "ticks": ""
             }
            },
            "type": "scattermapbox"
           }
          ],
          "scatterpolar": [
           {
            "marker": {
             "colorbar": {
              "outlinewidth": 0,
              "ticks": ""
             }
            },
            "type": "scatterpolar"
           }
          ],
          "scatterpolargl": [
           {
            "marker": {
             "colorbar": {
              "outlinewidth": 0,
              "ticks": ""
             }
            },
            "type": "scatterpolargl"
           }
          ],
          "scatterternary": [
           {
            "marker": {
             "colorbar": {
              "outlinewidth": 0,
              "ticks": ""
             }
            },
            "type": "scatterternary"
           }
          ],
          "surface": [
           {
            "colorbar": {
             "outlinewidth": 0,
             "ticks": ""
            },
            "colorscale": [
             [
              0,
              "#0d0887"
             ],
             [
              0.1111111111111111,
              "#46039f"
             ],
             [
              0.2222222222222222,
              "#7201a8"
             ],
             [
              0.3333333333333333,
              "#9c179e"
             ],
             [
              0.4444444444444444,
              "#bd3786"
             ],
             [
              0.5555555555555556,
              "#d8576b"
             ],
             [
              0.6666666666666666,
              "#ed7953"
             ],
             [
              0.7777777777777778,
              "#fb9f3a"
             ],
             [
              0.8888888888888888,
              "#fdca26"
             ],
             [
              1,
              "#f0f921"
             ]
            ],
            "type": "surface"
           }
          ],
          "table": [
           {
            "cells": {
             "fill": {
              "color": "#EBF0F8"
             },
             "line": {
              "color": "white"
             }
            },
            "header": {
             "fill": {
              "color": "#C8D4E3"
             },
             "line": {
              "color": "white"
             }
            },
            "type": "table"
           }
          ]
         },
         "layout": {
          "annotationdefaults": {
           "arrowcolor": "#2a3f5f",
           "arrowhead": 0,
           "arrowwidth": 1
          },
          "autotypenumbers": "strict",
          "coloraxis": {
           "colorbar": {
            "outlinewidth": 0,
            "ticks": ""
           }
          },
          "colorscale": {
           "diverging": [
            [
             0,
             "#8e0152"
            ],
            [
             0.1,
             "#c51b7d"
            ],
            [
             0.2,
             "#de77ae"
            ],
            [
             0.3,
             "#f1b6da"
            ],
            [
             0.4,
             "#fde0ef"
            ],
            [
             0.5,
             "#f7f7f7"
            ],
            [
             0.6,
             "#e6f5d0"
            ],
            [
             0.7,
             "#b8e186"
            ],
            [
             0.8,
             "#7fbc41"
            ],
            [
             0.9,
             "#4d9221"
            ],
            [
             1,
             "#276419"
            ]
           ],
           "sequential": [
            [
             0,
             "#0d0887"
            ],
            [
             0.1111111111111111,
             "#46039f"
            ],
            [
             0.2222222222222222,
             "#7201a8"
            ],
            [
             0.3333333333333333,
             "#9c179e"
            ],
            [
             0.4444444444444444,
             "#bd3786"
            ],
            [
             0.5555555555555556,
             "#d8576b"
            ],
            [
             0.6666666666666666,
             "#ed7953"
            ],
            [
             0.7777777777777778,
             "#fb9f3a"
            ],
            [
             0.8888888888888888,
             "#fdca26"
            ],
            [
             1,
             "#f0f921"
            ]
           ],
           "sequentialminus": [
            [
             0,
             "#0d0887"
            ],
            [
             0.1111111111111111,
             "#46039f"
            ],
            [
             0.2222222222222222,
             "#7201a8"
            ],
            [
             0.3333333333333333,
             "#9c179e"
            ],
            [
             0.4444444444444444,
             "#bd3786"
            ],
            [
             0.5555555555555556,
             "#d8576b"
            ],
            [
             0.6666666666666666,
             "#ed7953"
            ],
            [
             0.7777777777777778,
             "#fb9f3a"
            ],
            [
             0.8888888888888888,
             "#fdca26"
            ],
            [
             1,
             "#f0f921"
            ]
           ]
          },
          "colorway": [
           "#636efa",
           "#EF553B",
           "#00cc96",
           "#ab63fa",
           "#FFA15A",
           "#19d3f3",
           "#FF6692",
           "#B6E880",
           "#FF97FF",
           "#FECB52"
          ],
          "font": {
           "color": "#2a3f5f"
          },
          "geo": {
           "bgcolor": "white",
           "lakecolor": "white",
           "landcolor": "#E5ECF6",
           "showlakes": true,
           "showland": true,
           "subunitcolor": "white"
          },
          "hoverlabel": {
           "align": "left"
          },
          "hovermode": "closest",
          "mapbox": {
           "style": "light"
          },
          "paper_bgcolor": "white",
          "plot_bgcolor": "#E5ECF6",
          "polar": {
           "angularaxis": {
            "gridcolor": "white",
            "linecolor": "white",
            "ticks": ""
           },
           "bgcolor": "#E5ECF6",
           "radialaxis": {
            "gridcolor": "white",
            "linecolor": "white",
            "ticks": ""
           }
          },
          "scene": {
           "xaxis": {
            "backgroundcolor": "#E5ECF6",
            "gridcolor": "white",
            "gridwidth": 2,
            "linecolor": "white",
            "showbackground": true,
            "ticks": "",
            "zerolinecolor": "white"
           },
           "yaxis": {
            "backgroundcolor": "#E5ECF6",
            "gridcolor": "white",
            "gridwidth": 2,
            "linecolor": "white",
            "showbackground": true,
            "ticks": "",
            "zerolinecolor": "white"
           },
           "zaxis": {
            "backgroundcolor": "#E5ECF6",
            "gridcolor": "white",
            "gridwidth": 2,
            "linecolor": "white",
            "showbackground": true,
            "ticks": "",
            "zerolinecolor": "white"
           }
          },
          "shapedefaults": {
           "line": {
            "color": "#2a3f5f"
           }
          },
          "ternary": {
           "aaxis": {
            "gridcolor": "white",
            "linecolor": "white",
            "ticks": ""
           },
           "baxis": {
            "gridcolor": "white",
            "linecolor": "white",
            "ticks": ""
           },
           "bgcolor": "#E5ECF6",
           "caxis": {
            "gridcolor": "white",
            "linecolor": "white",
            "ticks": ""
           }
          },
          "title": {
           "x": 0.05
          },
          "xaxis": {
           "automargin": true,
           "gridcolor": "white",
           "linecolor": "white",
           "ticks": "",
           "title": {
            "standoff": 15
           },
           "zerolinecolor": "white",
           "zerolinewidth": 2
          },
          "yaxis": {
           "automargin": true,
           "gridcolor": "white",
           "linecolor": "white",
           "ticks": "",
           "title": {
            "standoff": 15
           },
           "zerolinecolor": "white",
           "zerolinewidth": 2
          }
         }
        },
        "title": {
         "text": "Vay/Tài sản"
        },
        "xaxis": {
         "anchor": "y",
         "domain": [
          0,
          1
         ],
         "title": {
          "text": "quarter_end_time"
         }
        },
        "yaxis": {
         "anchor": "x",
         "domain": [
          0,
          1
         ],
         "title": {
          "text": "debtOnAsset"
         }
        }
       }
      }
     },
     "metadata": {},
     "output_type": "display_data"
    }
   ],
   "source": [
    "import seaborn as sns\n",
    "import plotly.express as px\n",
    "\n",
    "fig = px.line(\n",
    "    balancesheet_financialratio_incomestatement_per_group,\n",
    "    x=\"quarter_end_time\",\n",
    "    y=\"debtOnAsset\",\n",
    "    color=\"ticker\",\n",
    "    title=\"Vay/Tài sản\",\n",
    ")\n",
    "fig.show()"
   ]
  },
  {
   "cell_type": "markdown",
   "metadata": {},
   "source": [
    "## ROIC"
   ]
  },
  {
   "cell_type": "code",
   "execution_count": 72,
   "metadata": {},
   "outputs": [
    {
     "name": "stderr",
     "output_type": "stream",
     "text": [
      "/tmp/ipykernel_221867/3456267101.py:1: SettingWithCopyWarning:\n",
      "\n",
      "\n",
      "A value is trying to be set on a copy of a slice from a DataFrame.\n",
      "Try using .loc[row_indexer,col_indexer] = value instead\n",
      "\n",
      "See the caveats in the documentation: https://pandas.pydata.org/pandas-docs/stable/user_guide/indexing.html#returning-a-view-versus-a-copy\n",
      "\n"
     ]
    }
   ],
   "source": [
    "balancesheet_financialratio_incomestatement_per_group[\n",
    "    \"roic\"\n",
    "] = balancesheet_financialratio_incomestatement_per_group[\"postTaxProfit\"] / (\n",
    "    balancesheet_financialratio_incomestatement_per_group[\"equity\"]\n",
    "    + balancesheet_financialratio_incomestatement_per_group[\"longDebt\"]\n",
    ")"
   ]
  },
  {
   "cell_type": "code",
   "execution_count": 74,
   "metadata": {},
   "outputs": [
    {
     "data": {
      "application/vnd.plotly.v1+json": {
       "config": {
        "plotlyServerURL": "https://plot.ly"
       },
       "data": [
        {
         "hovertemplate": "ticker=HPG<br>quarter_end_time=%{x}<br>roic=%{y}<extra></extra>",
         "legendgroup": "HPG",
         "line": {
          "color": "#636efa",
          "dash": "solid"
         },
         "marker": {
          "symbol": "circle"
         },
         "mode": "lines",
         "name": "HPG",
         "orientation": "v",
         "showlegend": true,
         "type": "scatter",
         "x": [
          "2022-09-30T23:59:59.999999",
          "2022-06-30T23:59:59.999999",
          "2022-03-31T23:59:59.999999",
          "2021-12-31T23:59:59.999999",
          "2021-09-30T23:59:59.999999",
          "2021-06-30T23:59:59.999999",
          "2021-03-31T23:59:59.999999",
          "2020-12-31T23:59:59.999999",
          "2020-09-30T23:59:59.999999",
          "2020-06-30T23:59:59.999999",
          "2020-03-31T23:59:59.999999",
          "2019-12-31T23:59:59.999999",
          "2019-09-30T23:59:59.999999",
          "2019-06-30T23:59:59.999999",
          "2019-03-31T23:59:59.999999",
          "2018-12-31T23:59:59.999999",
          "2018-09-30T23:59:59.999999",
          "2018-06-30T23:59:59.999999",
          "2018-03-31T23:59:59.999999",
          "2017-12-31T23:59:59.999999",
          "2017-09-30T23:59:59.999999",
          "2017-06-30T23:59:59.999999",
          "2017-03-31T23:59:59.999999",
          "2016-12-31T23:59:59.999999",
          "2016-09-30T23:59:59.999999",
          "2016-06-30T23:59:59.999999",
          "2016-03-31T23:59:59.999999",
          "2015-12-31T23:59:59.999999",
          "2015-09-30T23:59:59.999999",
          "2015-06-30T23:59:59.999999",
          "2015-03-31T23:59:59.999999",
          "2014-12-31T23:59:59.999999",
          "2014-09-30T23:59:59.999999",
          "2014-06-30T23:59:59.999999",
          "2014-03-31T23:59:59.999999",
          "2013-12-31T23:59:59.999999",
          "2013-09-30T23:59:59.999999",
          "2013-06-30T23:59:59.999999",
          "2013-03-31T23:59:59.999999",
          "2012-12-31T23:59:59.999999",
          "2012-09-30T23:59:59.999999",
          "2012-06-30T23:59:59.999999",
          "2012-03-31T23:59:59.999999",
          "2011-12-31T23:59:59.999999",
          "2011-09-30T23:59:59.999999",
          "2011-06-30T23:59:59.999999",
          "2011-03-31T23:59:59.999999",
          "2010-12-31T23:59:59.999999",
          "2010-09-30T23:59:59.999999",
          "2010-06-30T23:59:59.999999",
          "2010-03-31T23:59:59.999999",
          "2009-12-31T23:59:59.999999",
          "2009-09-30T23:59:59.999999",
          "2009-06-30T23:59:59.999999",
          "2009-03-31T23:59:59.999999",
          "2008-12-31T23:59:59.999999",
          "2008-09-30T23:59:59.999999",
          "2008-06-30T23:59:59.999999"
         ],
         "xaxis": "x",
         "y": [
          -0.016133111721347015,
          0.035489334674217964,
          0.0726966690290574,
          0.07116888100148688,
          0.10144359399041525,
          0.10863264441620404,
          0.08292105574624216,
          0.06087796977652391,
          0.049644552871120906,
          0.03763330738874551,
          0.032784786721094625,
          0.0284341268667751,
          0.026861112774749955,
          0.03177703373015873,
          0.02972622312733006,
          0.033077499064020965,
          0.05011863630687258,
          0.05292887532149124,
          0.060895767703054375,
          0.07051602102851773,
          0.06833131106711796,
          0.06589877537038623,
          0.08789461730638201,
          0.09570082449941107,
          0.08597430406852248,
          0.11199382103056384,
          0.06414287511004906,
          0.03722214915165067,
          0.0692837557680733,
          0.0876382472350553,
          0.048776827254990246,
          0.03872579637726421,
          0.06842923794712286,
          0.08023304203079484,
          0.07665740038749895,
          0.043179414874867816,
          0.045511557068625696,
          0.04779874213836478,
          0.04402343034962475,
          0.01865632533277434,
          0.030276394179119055,
          0.034942950285248575,
          0.020931449502878074,
          0.01466065204018864,
          0.011616954474097331,
          0.051797154957107176,
          0.06226776263934242,
          0.05210949271722752,
          0.04242424242424243,
          0.05312833003501294,
          0.0497451221655827,
          0.04308598784754189,
          0.06530835000909586,
          0.07707588398887565,
          0.06496020649602065,
          -0.056461426137746414,
          0.05643611911623439,
          0.08674698795180723
         ],
         "yaxis": "y"
        },
        {
         "hovertemplate": "ticker=PVS<br>quarter_end_time=%{x}<br>roic=%{y}<extra></extra>",
         "legendgroup": "PVS",
         "line": {
          "color": "#EF553B",
          "dash": "solid"
         },
         "marker": {
          "symbol": "circle"
         },
         "mode": "lines",
         "name": "PVS",
         "orientation": "v",
         "showlegend": true,
         "type": "scatter",
         "x": [
          "2022-09-30T23:59:59.999999",
          "2022-06-30T23:59:59.999999",
          "2022-03-31T23:59:59.999999",
          "2021-12-31T23:59:59.999999",
          "2021-09-30T23:59:59.999999",
          "2021-06-30T23:59:59.999999",
          "2021-03-31T23:59:59.999999",
          "2020-12-31T23:59:59.999999",
          "2020-09-30T23:59:59.999999",
          "2020-06-30T23:59:59.999999",
          "2020-03-31T23:59:59.999999",
          "2019-12-31T23:59:59.999999",
          "2019-09-30T23:59:59.999999",
          "2019-06-30T23:59:59.999999",
          "2019-03-31T23:59:59.999999",
          "2018-12-31T23:59:59.999999",
          "2018-09-30T23:59:59.999999",
          "2018-06-30T23:59:59.999999",
          "2018-03-31T23:59:59.999999",
          "2017-12-31T23:59:59.999999",
          "2017-09-30T23:59:59.999999",
          "2017-06-30T23:59:59.999999",
          "2017-03-31T23:59:59.999999",
          "2016-12-31T23:59:59.999999",
          "2016-09-30T23:59:59.999999",
          "2016-06-30T23:59:59.999999",
          "2016-03-31T23:59:59.999999",
          "2015-12-31T23:59:59.999999",
          "2015-09-30T23:59:59.999999",
          "2015-06-30T23:59:59.999999",
          "2015-03-31T23:59:59.999999",
          "2014-12-31T23:59:59.999999",
          "2014-09-30T23:59:59.999999",
          "2014-06-30T23:59:59.999999",
          "2014-03-31T23:59:59.999999",
          "2013-12-31T23:59:59.999999",
          "2013-09-30T23:59:59.999999",
          "2013-06-30T23:59:59.999999",
          "2013-03-31T23:59:59.999999",
          "2012-12-31T23:59:59.999999",
          "2012-09-30T23:59:59.999999",
          "2012-06-30T23:59:59.999999",
          "2012-03-31T23:59:59.999999",
          "2011-12-31T23:59:59.999999",
          "2011-09-30T23:59:59.999999",
          "2011-06-30T23:59:59.999999",
          "2011-03-31T23:59:59.999999",
          "2010-12-31T23:59:59.999999",
          "2010-09-30T23:59:59.999999",
          "2010-06-30T23:59:59.999999",
          "2010-03-31T23:59:59.999999",
          "2009-12-31T23:59:59.999999",
          "2009-09-30T23:59:59.999999",
          "2009-06-30T23:59:59.999999",
          "2009-03-31T23:59:59.999999",
          "2008-12-31T23:59:59.999999",
          "2008-09-30T23:59:59.999999",
          "2008-06-30T23:59:59.999999"
         ],
         "xaxis": "x",
         "y": [
          0.0143143217384855,
          0.0007638835841417768,
          0.018815383457514864,
          0.007813098429720413,
          0.017717407352724052,
          0.012786958797577208,
          0.01215354972580406,
          0.007472166180975865,
          0.016220541169624673,
          0.021518054532056005,
          0.008938464947920515,
          0.027296988181471596,
          0.006276150627615063,
          0.012639293994465634,
          0.028845433430733498,
          0.00024295432458697764,
          0.014894951395421763,
          0.014835858585858586,
          0.014648891644706247,
          0.005238021876444308,
          0.005481355670501042,
          0.028144171779141105,
          0.020933241988277385,
          0.008485792137018295,
          0.0046746877155337575,
          0.033868501529051985,
          0.018152181966362896,
          0.013200330008250206,
          0.031180910269116412,
          0.04825119236883943,
          0.021681068342498035,
          0.05213014560488945,
          0.02826025725284011,
          0.06183001531393568,
          0.0219435736677116,
          0.04943882756701605,
          0.04855401876390367,
          0.029091272618214536,
          0.02873234058801069,
          0.02361153885638025,
          0.036367393325756794,
          0.041894162116757665,
          0.022749180643917486,
          0.06211453744493392,
          0.033537643113218454,
          0.04147141518275539,
          0.008854454897620365,
          0.03553178847296495,
          0.025634795286113475,
          0.030510752688172042,
          0.024756079801951363,
          0.036770921386306,
          0.026094570928196146,
          0.027597082594125764,
          0.03571428571428571,
          0.09899749373433583,
          0.031947122004957314,
          0.03394433129667346
         ],
         "yaxis": "y"
        },
        {
         "hovertemplate": "ticker=HCM<br>quarter_end_time=%{x}<br>roic=%{y}<extra></extra>",
         "legendgroup": "HCM",
         "line": {
          "color": "#00cc96",
          "dash": "solid"
         },
         "marker": {
          "symbol": "circle"
         },
         "mode": "lines",
         "name": "HCM",
         "orientation": "v",
         "showlegend": true,
         "type": "scatter",
         "x": [
          "2022-09-30T23:59:59.999999",
          "2022-06-30T23:59:59.999999",
          "2022-03-31T23:59:59.999999",
          "2021-12-31T23:59:59.999999",
          "2021-09-30T23:59:59.999999",
          "2021-06-30T23:59:59.999999",
          "2021-03-31T23:59:59.999999",
          "2020-12-31T23:59:59.999999",
          "2020-09-30T23:59:59.999999",
          "2020-06-30T23:59:59.999999",
          "2020-03-31T23:59:59.999999",
          "2019-12-31T23:59:59.999999",
          "2019-09-30T23:59:59.999999",
          "2019-06-30T23:59:59.999999",
          "2019-03-31T23:59:59.999999",
          "2018-12-31T23:59:59.999999",
          "2018-09-30T23:59:59.999999",
          "2018-06-30T23:59:59.999999",
          "2018-03-31T23:59:59.999999",
          "2017-12-31T23:59:59.999999",
          "2017-09-30T23:59:59.999999",
          "2017-06-30T23:59:59.999999",
          "2017-03-31T23:59:59.999999",
          "2016-12-31T23:59:59.999999",
          "2016-09-30T23:59:59.999999",
          "2016-06-30T23:59:59.999999",
          "2016-03-31T23:59:59.999999",
          "2015-12-31T23:59:59.999999",
          "2015-09-30T23:59:59.999999",
          "2015-06-30T23:59:59.999999",
          "2015-03-31T23:59:59.999999",
          "2014-12-31T23:59:59.999999",
          "2014-09-30T23:59:59.999999",
          "2014-06-30T23:59:59.999999",
          "2014-03-31T23:59:59.999999",
          "2013-12-31T23:59:59.999999",
          "2013-09-30T23:59:59.999999",
          "2013-06-30T23:59:59.999999",
          "2013-03-31T23:59:59.999999",
          "2012-12-31T23:59:59.999999",
          "2012-09-30T23:59:59.999999",
          "2012-06-30T23:59:59.999999",
          "2012-03-31T23:59:59.999999",
          "2011-12-31T23:59:59.999999",
          "2011-09-30T23:59:59.999999",
          "2011-06-30T23:59:59.999999",
          "2011-03-31T23:59:59.999999",
          "2010-12-31T23:59:59.999999",
          "2010-09-30T23:59:59.999999",
          "2010-06-30T23:59:59.999999"
         ],
         "xaxis": "x",
         "y": [
          0.020637898686679174,
          0.035632183908045977,
          0.03719768664563617,
          0.030580204778156997,
          0.06206088992974239,
          0.05889698231009365,
          0.06761864762704746,
          0.030855855855855856,
          0.031867145421903054,
          0.03477051460361613,
          0.02293890529184647,
          0.02950743494423792,
          0.026096997690531178,
          0.02631578947368421,
          0.026434558349451968,
          0.02352172492649461,
          0.04272667971298108,
          0.05008517887563884,
          0.1070840197693575,
          0.06664278036546041,
          0.05204745503252966,
          0.055286521388216305,
          0.03778838504375497,
          0.03177257525083612,
          0.034453781512605045,
          0.03568320278503046,
          0.02773037542662116,
          0.030263157894736843,
          0.01978891820580475,
          0.02332884701659937,
          0.019747899159663865,
          0.02374893977947413,
          0.043914680050188205,
          0.04157549234135667,
          0.05115089514066496,
          0.04539385847797063,
          0.02541239411502452,
          0.027354260089686097,
          0.026980728051391862,
          0.01671799384073911,
          0.01925601750547046,
          0.03579223046704496,
          0.03594914511179308,
          0.02188476998660116,
          0.026134800550206328,
          0.028059701492537312,
          0.02575107296137339,
          0.01762114537444934,
          0.01972872996300863,
          0.04274041483343809
         ],
         "yaxis": "y"
        },
        {
         "hovertemplate": "ticker=VCI<br>quarter_end_time=%{x}<br>roic=%{y}<extra></extra>",
         "legendgroup": "VCI",
         "line": {
          "color": "#ab63fa",
          "dash": "solid"
         },
         "marker": {
          "symbol": "circle"
         },
         "mode": "lines",
         "name": "VCI",
         "orientation": "v",
         "showlegend": true,
         "type": "scatter",
         "x": [
          "2022-09-30T23:59:59.999999",
          "2022-06-30T23:59:59.999999",
          "2022-03-31T23:59:59.999999",
          "2021-12-31T23:59:59.999999",
          "2021-09-30T23:59:59.999999",
          "2021-06-30T23:59:59.999999",
          "2021-03-31T23:59:59.999999",
          "2020-12-31T23:59:59.999999",
          "2020-09-30T23:59:59.999999",
          "2020-06-30T23:59:59.999999",
          "2020-03-31T23:59:59.999999",
          "2019-12-31T23:59:59.999999",
          "2019-09-30T23:59:59.999999",
          "2019-06-30T23:59:59.999999",
          "2019-03-31T23:59:59.999999",
          "2018-12-31T23:59:59.999999",
          "2018-09-30T23:59:59.999999",
          "2018-06-30T23:59:59.999999",
          "2018-03-31T23:59:59.999999",
          "2017-12-31T23:59:59.999999",
          "2017-09-30T23:59:59.999999",
          "2017-06-30T23:59:59.999999"
         ],
         "xaxis": "x",
         "y": [
          0.018661811561219845,
          0.042150959249404846,
          0.058321678321678325,
          0.07138489758483645,
          0.05190911959608709,
          0.07731472751272865,
          0.05945835878639788,
          0.07741650077416501,
          0.02375,
          0.05493033226152197,
          0.0329366177691669,
          0.04960513326752221,
          0.039546533087266016,
          0.040022870211549454,
          0.05613938053097345,
          0.035959374142190505,
          0.042649006622516555,
          0.05506117908787542,
          0.09245335561125034,
          0.059622391520370986,
          0.07532956685499058,
          0.10828025477707007
         ],
         "yaxis": "y"
        },
        {
         "hovertemplate": "ticker=STB<br>quarter_end_time=%{x}<br>roic=%{y}<extra></extra>",
         "legendgroup": "STB",
         "line": {
          "color": "#FFA15A",
          "dash": "solid"
         },
         "marker": {
          "symbol": "circle"
         },
         "mode": "lines",
         "name": "STB",
         "orientation": "v",
         "showlegend": true,
         "type": "scatter",
         "x": [
          "2022-09-30T23:59:59.999999",
          "2022-06-30T23:59:59.999999",
          "2022-03-31T23:59:59.999999",
          "2021-12-31T23:59:59.999999",
          "2021-09-30T23:59:59.999999",
          "2021-06-30T23:59:59.999999",
          "2021-03-31T23:59:59.999999",
          "2020-12-31T23:59:59.999999",
          "2020-09-30T23:59:59.999999",
          "2020-06-30T23:59:59.999999",
          "2020-03-31T23:59:59.999999",
          "2019-12-31T23:59:59.999999",
          "2019-09-30T23:59:59.999999",
          "2019-06-30T23:59:59.999999",
          "2019-03-31T23:59:59.999999",
          "2018-12-31T23:59:59.999999",
          "2018-09-30T23:59:59.999999",
          "2018-06-30T23:59:59.999999",
          "2018-03-31T23:59:59.999999",
          "2017-12-31T23:59:59.999999",
          "2017-09-30T23:59:59.999999",
          "2017-06-30T23:59:59.999999",
          "2017-03-31T23:59:59.999999",
          "2016-12-31T23:59:59.999999",
          "2016-09-30T23:59:59.999999",
          "2016-06-30T23:59:59.999999",
          "2016-03-31T23:59:59.999999",
          "2015-12-31T23:59:59.999999",
          "2015-09-30T23:59:59.999999",
          "2015-06-30T23:59:59.999999",
          "2015-03-31T23:59:59.999999",
          "2014-12-31T23:59:59.999999",
          "2014-09-30T23:59:59.999999",
          "2014-06-30T23:59:59.999999",
          "2014-03-31T23:59:59.999999",
          "2013-12-31T23:59:59.999999",
          "2013-09-30T23:59:59.999999",
          "2013-06-30T23:59:59.999999",
          "2013-03-31T23:59:59.999999",
          "2012-12-31T23:59:59.999999",
          "2012-09-30T23:59:59.999999",
          "2012-06-30T23:59:59.999999",
          "2012-03-31T23:59:59.999999",
          "2011-12-31T23:59:59.999999",
          "2011-09-30T23:59:59.999999",
          "2011-06-30T23:59:59.999999",
          "2011-03-31T23:59:59.999999",
          "2010-12-31T23:59:59.999999",
          "2010-09-30T23:59:59.999999",
          "2010-06-30T23:59:59.999999",
          "2010-03-31T23:59:59.999999",
          "2009-12-31T23:59:59.999999",
          "2009-09-30T23:59:59.999999",
          "2009-06-30T23:59:59.999999",
          "2008-09-30T23:59:59.999999",
          "2007-09-30T23:59:59.999999",
          "2007-06-30T23:59:59.999999"
         ],
         "xaxis": "x",
         "y": [
          null,
          null,
          null,
          null,
          null,
          null,
          null,
          null,
          null,
          null,
          null,
          null,
          null,
          null,
          null,
          null,
          null,
          null,
          null,
          null,
          null,
          null,
          null,
          null,
          null,
          null,
          null,
          null,
          null,
          null,
          null,
          null,
          null,
          null,
          null,
          null,
          null,
          null,
          null,
          null,
          null,
          null,
          null,
          null,
          null,
          null,
          null,
          null,
          null,
          null,
          null,
          null,
          null,
          null,
          null,
          null,
          null
         ],
         "yaxis": "y"
        },
        {
         "hovertemplate": "ticker=MBB<br>quarter_end_time=%{x}<br>roic=%{y}<extra></extra>",
         "legendgroup": "MBB",
         "line": {
          "color": "#19d3f3",
          "dash": "solid"
         },
         "marker": {
          "symbol": "circle"
         },
         "mode": "lines",
         "name": "MBB",
         "orientation": "v",
         "showlegend": true,
         "type": "scatter",
         "x": [
          "2022-09-30T23:59:59.999999",
          "2022-06-30T23:59:59.999999",
          "2022-03-31T23:59:59.999999",
          "2021-12-31T23:59:59.999999",
          "2021-09-30T23:59:59.999999",
          "2021-06-30T23:59:59.999999",
          "2021-03-31T23:59:59.999999",
          "2020-12-31T23:59:59.999999",
          "2020-09-30T23:59:59.999999",
          "2020-06-30T23:59:59.999999",
          "2020-03-31T23:59:59.999999",
          "2019-12-31T23:59:59.999999",
          "2019-09-30T23:59:59.999999",
          "2019-06-30T23:59:59.999999",
          "2019-03-31T23:59:59.999999",
          "2018-12-31T23:59:59.999999",
          "2018-09-30T23:59:59.999999",
          "2018-06-30T23:59:59.999999",
          "2018-03-31T23:59:59.999999",
          "2017-12-31T23:59:59.999999",
          "2017-09-30T23:59:59.999999",
          "2017-06-30T23:59:59.999999",
          "2017-03-31T23:59:59.999999",
          "2016-12-31T23:59:59.999999",
          "2016-09-30T23:59:59.999999",
          "2016-06-30T23:59:59.999999",
          "2016-03-31T23:59:59.999999",
          "2015-12-31T23:59:59.999999",
          "2015-09-30T23:59:59.999999",
          "2015-06-30T23:59:59.999999",
          "2015-03-31T23:59:59.999999",
          "2014-12-31T23:59:59.999999",
          "2014-09-30T23:59:59.999999",
          "2014-06-30T23:59:59.999999",
          "2014-03-31T23:59:59.999999",
          "2013-12-31T23:59:59.999999",
          "2013-09-30T23:59:59.999999",
          "2013-06-30T23:59:59.999999",
          "2013-03-31T23:59:59.999999",
          "2012-12-31T23:59:59.999999",
          "2012-09-30T23:59:59.999999",
          "2012-06-30T23:59:59.999999"
         ],
         "xaxis": "x",
         "y": [
          null,
          null,
          null,
          null,
          null,
          null,
          null,
          null,
          null,
          null,
          null,
          null,
          null,
          null,
          null,
          null,
          null,
          null,
          null,
          null,
          null,
          null,
          null,
          null,
          null,
          null,
          null,
          null,
          null,
          null,
          null,
          null,
          null,
          null,
          null,
          null,
          null,
          null,
          null,
          null,
          null,
          null
         ],
         "yaxis": "y"
        },
        {
         "hovertemplate": "ticker=MBS<br>quarter_end_time=%{x}<br>roic=%{y}<extra></extra>",
         "legendgroup": "MBS",
         "line": {
          "color": "#FF6692",
          "dash": "solid"
         },
         "marker": {
          "symbol": "circle"
         },
         "mode": "lines",
         "name": "MBS",
         "orientation": "v",
         "showlegend": true,
         "type": "scatter",
         "x": [
          "2022-09-30T23:59:59.999999",
          "2022-06-30T23:59:59.999999",
          "2022-03-31T23:59:59.999999",
          "2021-12-31T23:59:59.999999",
          "2021-09-30T23:59:59.999999",
          "2021-06-30T23:59:59.999999",
          "2021-03-31T23:59:59.999999",
          "2020-12-31T23:59:59.999999",
          "2020-09-30T23:59:59.999999",
          "2020-06-30T23:59:59.999999",
          "2020-03-31T23:59:59.999999",
          "2019-12-31T23:59:59.999999",
          "2019-09-30T23:59:59.999999",
          "2019-06-30T23:59:59.999999",
          "2019-03-31T23:59:59.999999",
          "2018-12-31T23:59:59.999999",
          "2018-09-30T23:59:59.999999",
          "2018-06-30T23:59:59.999999",
          "2018-03-31T23:59:59.999999",
          "2017-12-31T23:59:59.999999",
          "2017-09-30T23:59:59.999999",
          "2017-06-30T23:59:59.999999"
         ],
         "xaxis": "x",
         "y": [
          0.03169198533263489,
          0.032458750338111984,
          0.05537098560354374,
          0.05011723329425557,
          0.05677260104905893,
          0.04317958783120707,
          0.046296296296296294,
          0.04757281553398058,
          0.032603158430973,
          0.04265402843601896,
          0.013026052104208416,
          0.035329341317365266,
          0.028553693358162633,
          0.0421455938697318,
          0.03871829105473965,
          0,
          0.03493150684931507,
          0.03903477643718949,
          0.05239852398523985,
          0.0038910505836575876,
          0.0046875,
          0.0037481259370314842
         ],
         "yaxis": "y"
        }
       ],
       "layout": {
        "legend": {
         "title": {
          "text": "ticker"
         },
         "tracegroupgap": 0
        },
        "template": {
         "data": {
          "bar": [
           {
            "error_x": {
             "color": "#2a3f5f"
            },
            "error_y": {
             "color": "#2a3f5f"
            },
            "marker": {
             "line": {
              "color": "#E5ECF6",
              "width": 0.5
             },
             "pattern": {
              "fillmode": "overlay",
              "size": 10,
              "solidity": 0.2
             }
            },
            "type": "bar"
           }
          ],
          "barpolar": [
           {
            "marker": {
             "line": {
              "color": "#E5ECF6",
              "width": 0.5
             },
             "pattern": {
              "fillmode": "overlay",
              "size": 10,
              "solidity": 0.2
             }
            },
            "type": "barpolar"
           }
          ],
          "carpet": [
           {
            "aaxis": {
             "endlinecolor": "#2a3f5f",
             "gridcolor": "white",
             "linecolor": "white",
             "minorgridcolor": "white",
             "startlinecolor": "#2a3f5f"
            },
            "baxis": {
             "endlinecolor": "#2a3f5f",
             "gridcolor": "white",
             "linecolor": "white",
             "minorgridcolor": "white",
             "startlinecolor": "#2a3f5f"
            },
            "type": "carpet"
           }
          ],
          "choropleth": [
           {
            "colorbar": {
             "outlinewidth": 0,
             "ticks": ""
            },
            "type": "choropleth"
           }
          ],
          "contour": [
           {
            "colorbar": {
             "outlinewidth": 0,
             "ticks": ""
            },
            "colorscale": [
             [
              0,
              "#0d0887"
             ],
             [
              0.1111111111111111,
              "#46039f"
             ],
             [
              0.2222222222222222,
              "#7201a8"
             ],
             [
              0.3333333333333333,
              "#9c179e"
             ],
             [
              0.4444444444444444,
              "#bd3786"
             ],
             [
              0.5555555555555556,
              "#d8576b"
             ],
             [
              0.6666666666666666,
              "#ed7953"
             ],
             [
              0.7777777777777778,
              "#fb9f3a"
             ],
             [
              0.8888888888888888,
              "#fdca26"
             ],
             [
              1,
              "#f0f921"
             ]
            ],
            "type": "contour"
           }
          ],
          "contourcarpet": [
           {
            "colorbar": {
             "outlinewidth": 0,
             "ticks": ""
            },
            "type": "contourcarpet"
           }
          ],
          "heatmap": [
           {
            "colorbar": {
             "outlinewidth": 0,
             "ticks": ""
            },
            "colorscale": [
             [
              0,
              "#0d0887"
             ],
             [
              0.1111111111111111,
              "#46039f"
             ],
             [
              0.2222222222222222,
              "#7201a8"
             ],
             [
              0.3333333333333333,
              "#9c179e"
             ],
             [
              0.4444444444444444,
              "#bd3786"
             ],
             [
              0.5555555555555556,
              "#d8576b"
             ],
             [
              0.6666666666666666,
              "#ed7953"
             ],
             [
              0.7777777777777778,
              "#fb9f3a"
             ],
             [
              0.8888888888888888,
              "#fdca26"
             ],
             [
              1,
              "#f0f921"
             ]
            ],
            "type": "heatmap"
           }
          ],
          "heatmapgl": [
           {
            "colorbar": {
             "outlinewidth": 0,
             "ticks": ""
            },
            "colorscale": [
             [
              0,
              "#0d0887"
             ],
             [
              0.1111111111111111,
              "#46039f"
             ],
             [
              0.2222222222222222,
              "#7201a8"
             ],
             [
              0.3333333333333333,
              "#9c179e"
             ],
             [
              0.4444444444444444,
              "#bd3786"
             ],
             [
              0.5555555555555556,
              "#d8576b"
             ],
             [
              0.6666666666666666,
              "#ed7953"
             ],
             [
              0.7777777777777778,
              "#fb9f3a"
             ],
             [
              0.8888888888888888,
              "#fdca26"
             ],
             [
              1,
              "#f0f921"
             ]
            ],
            "type": "heatmapgl"
           }
          ],
          "histogram": [
           {
            "marker": {
             "pattern": {
              "fillmode": "overlay",
              "size": 10,
              "solidity": 0.2
             }
            },
            "type": "histogram"
           }
          ],
          "histogram2d": [
           {
            "colorbar": {
             "outlinewidth": 0,
             "ticks": ""
            },
            "colorscale": [
             [
              0,
              "#0d0887"
             ],
             [
              0.1111111111111111,
              "#46039f"
             ],
             [
              0.2222222222222222,
              "#7201a8"
             ],
             [
              0.3333333333333333,
              "#9c179e"
             ],
             [
              0.4444444444444444,
              "#bd3786"
             ],
             [
              0.5555555555555556,
              "#d8576b"
             ],
             [
              0.6666666666666666,
              "#ed7953"
             ],
             [
              0.7777777777777778,
              "#fb9f3a"
             ],
             [
              0.8888888888888888,
              "#fdca26"
             ],
             [
              1,
              "#f0f921"
             ]
            ],
            "type": "histogram2d"
           }
          ],
          "histogram2dcontour": [
           {
            "colorbar": {
             "outlinewidth": 0,
             "ticks": ""
            },
            "colorscale": [
             [
              0,
              "#0d0887"
             ],
             [
              0.1111111111111111,
              "#46039f"
             ],
             [
              0.2222222222222222,
              "#7201a8"
             ],
             [
              0.3333333333333333,
              "#9c179e"
             ],
             [
              0.4444444444444444,
              "#bd3786"
             ],
             [
              0.5555555555555556,
              "#d8576b"
             ],
             [
              0.6666666666666666,
              "#ed7953"
             ],
             [
              0.7777777777777778,
              "#fb9f3a"
             ],
             [
              0.8888888888888888,
              "#fdca26"
             ],
             [
              1,
              "#f0f921"
             ]
            ],
            "type": "histogram2dcontour"
           }
          ],
          "mesh3d": [
           {
            "colorbar": {
             "outlinewidth": 0,
             "ticks": ""
            },
            "type": "mesh3d"
           }
          ],
          "parcoords": [
           {
            "line": {
             "colorbar": {
              "outlinewidth": 0,
              "ticks": ""
             }
            },
            "type": "parcoords"
           }
          ],
          "pie": [
           {
            "automargin": true,
            "type": "pie"
           }
          ],
          "scatter": [
           {
            "fillpattern": {
             "fillmode": "overlay",
             "size": 10,
             "solidity": 0.2
            },
            "type": "scatter"
           }
          ],
          "scatter3d": [
           {
            "line": {
             "colorbar": {
              "outlinewidth": 0,
              "ticks": ""
             }
            },
            "marker": {
             "colorbar": {
              "outlinewidth": 0,
              "ticks": ""
             }
            },
            "type": "scatter3d"
           }
          ],
          "scattercarpet": [
           {
            "marker": {
             "colorbar": {
              "outlinewidth": 0,
              "ticks": ""
             }
            },
            "type": "scattercarpet"
           }
          ],
          "scattergeo": [
           {
            "marker": {
             "colorbar": {
              "outlinewidth": 0,
              "ticks": ""
             }
            },
            "type": "scattergeo"
           }
          ],
          "scattergl": [
           {
            "marker": {
             "colorbar": {
              "outlinewidth": 0,
              "ticks": ""
             }
            },
            "type": "scattergl"
           }
          ],
          "scattermapbox": [
           {
            "marker": {
             "colorbar": {
              "outlinewidth": 0,
              "ticks": ""
             }
            },
            "type": "scattermapbox"
           }
          ],
          "scatterpolar": [
           {
            "marker": {
             "colorbar": {
              "outlinewidth": 0,
              "ticks": ""
             }
            },
            "type": "scatterpolar"
           }
          ],
          "scatterpolargl": [
           {
            "marker": {
             "colorbar": {
              "outlinewidth": 0,
              "ticks": ""
             }
            },
            "type": "scatterpolargl"
           }
          ],
          "scatterternary": [
           {
            "marker": {
             "colorbar": {
              "outlinewidth": 0,
              "ticks": ""
             }
            },
            "type": "scatterternary"
           }
          ],
          "surface": [
           {
            "colorbar": {
             "outlinewidth": 0,
             "ticks": ""
            },
            "colorscale": [
             [
              0,
              "#0d0887"
             ],
             [
              0.1111111111111111,
              "#46039f"
             ],
             [
              0.2222222222222222,
              "#7201a8"
             ],
             [
              0.3333333333333333,
              "#9c179e"
             ],
             [
              0.4444444444444444,
              "#bd3786"
             ],
             [
              0.5555555555555556,
              "#d8576b"
             ],
             [
              0.6666666666666666,
              "#ed7953"
             ],
             [
              0.7777777777777778,
              "#fb9f3a"
             ],
             [
              0.8888888888888888,
              "#fdca26"
             ],
             [
              1,
              "#f0f921"
             ]
            ],
            "type": "surface"
           }
          ],
          "table": [
           {
            "cells": {
             "fill": {
              "color": "#EBF0F8"
             },
             "line": {
              "color": "white"
             }
            },
            "header": {
             "fill": {
              "color": "#C8D4E3"
             },
             "line": {
              "color": "white"
             }
            },
            "type": "table"
           }
          ]
         },
         "layout": {
          "annotationdefaults": {
           "arrowcolor": "#2a3f5f",
           "arrowhead": 0,
           "arrowwidth": 1
          },
          "autotypenumbers": "strict",
          "coloraxis": {
           "colorbar": {
            "outlinewidth": 0,
            "ticks": ""
           }
          },
          "colorscale": {
           "diverging": [
            [
             0,
             "#8e0152"
            ],
            [
             0.1,
             "#c51b7d"
            ],
            [
             0.2,
             "#de77ae"
            ],
            [
             0.3,
             "#f1b6da"
            ],
            [
             0.4,
             "#fde0ef"
            ],
            [
             0.5,
             "#f7f7f7"
            ],
            [
             0.6,
             "#e6f5d0"
            ],
            [
             0.7,
             "#b8e186"
            ],
            [
             0.8,
             "#7fbc41"
            ],
            [
             0.9,
             "#4d9221"
            ],
            [
             1,
             "#276419"
            ]
           ],
           "sequential": [
            [
             0,
             "#0d0887"
            ],
            [
             0.1111111111111111,
             "#46039f"
            ],
            [
             0.2222222222222222,
             "#7201a8"
            ],
            [
             0.3333333333333333,
             "#9c179e"
            ],
            [
             0.4444444444444444,
             "#bd3786"
            ],
            [
             0.5555555555555556,
             "#d8576b"
            ],
            [
             0.6666666666666666,
             "#ed7953"
            ],
            [
             0.7777777777777778,
             "#fb9f3a"
            ],
            [
             0.8888888888888888,
             "#fdca26"
            ],
            [
             1,
             "#f0f921"
            ]
           ],
           "sequentialminus": [
            [
             0,
             "#0d0887"
            ],
            [
             0.1111111111111111,
             "#46039f"
            ],
            [
             0.2222222222222222,
             "#7201a8"
            ],
            [
             0.3333333333333333,
             "#9c179e"
            ],
            [
             0.4444444444444444,
             "#bd3786"
            ],
            [
             0.5555555555555556,
             "#d8576b"
            ],
            [
             0.6666666666666666,
             "#ed7953"
            ],
            [
             0.7777777777777778,
             "#fb9f3a"
            ],
            [
             0.8888888888888888,
             "#fdca26"
            ],
            [
             1,
             "#f0f921"
            ]
           ]
          },
          "colorway": [
           "#636efa",
           "#EF553B",
           "#00cc96",
           "#ab63fa",
           "#FFA15A",
           "#19d3f3",
           "#FF6692",
           "#B6E880",
           "#FF97FF",
           "#FECB52"
          ],
          "font": {
           "color": "#2a3f5f"
          },
          "geo": {
           "bgcolor": "white",
           "lakecolor": "white",
           "landcolor": "#E5ECF6",
           "showlakes": true,
           "showland": true,
           "subunitcolor": "white"
          },
          "hoverlabel": {
           "align": "left"
          },
          "hovermode": "closest",
          "mapbox": {
           "style": "light"
          },
          "paper_bgcolor": "white",
          "plot_bgcolor": "#E5ECF6",
          "polar": {
           "angularaxis": {
            "gridcolor": "white",
            "linecolor": "white",
            "ticks": ""
           },
           "bgcolor": "#E5ECF6",
           "radialaxis": {
            "gridcolor": "white",
            "linecolor": "white",
            "ticks": ""
           }
          },
          "scene": {
           "xaxis": {
            "backgroundcolor": "#E5ECF6",
            "gridcolor": "white",
            "gridwidth": 2,
            "linecolor": "white",
            "showbackground": true,
            "ticks": "",
            "zerolinecolor": "white"
           },
           "yaxis": {
            "backgroundcolor": "#E5ECF6",
            "gridcolor": "white",
            "gridwidth": 2,
            "linecolor": "white",
            "showbackground": true,
            "ticks": "",
            "zerolinecolor": "white"
           },
           "zaxis": {
            "backgroundcolor": "#E5ECF6",
            "gridcolor": "white",
            "gridwidth": 2,
            "linecolor": "white",
            "showbackground": true,
            "ticks": "",
            "zerolinecolor": "white"
           }
          },
          "shapedefaults": {
           "line": {
            "color": "#2a3f5f"
           }
          },
          "ternary": {
           "aaxis": {
            "gridcolor": "white",
            "linecolor": "white",
            "ticks": ""
           },
           "baxis": {
            "gridcolor": "white",
            "linecolor": "white",
            "ticks": ""
           },
           "bgcolor": "#E5ECF6",
           "caxis": {
            "gridcolor": "white",
            "linecolor": "white",
            "ticks": ""
           }
          },
          "title": {
           "x": 0.05
          },
          "xaxis": {
           "automargin": true,
           "gridcolor": "white",
           "linecolor": "white",
           "ticks": "",
           "title": {
            "standoff": 15
           },
           "zerolinecolor": "white",
           "zerolinewidth": 2
          },
          "yaxis": {
           "automargin": true,
           "gridcolor": "white",
           "linecolor": "white",
           "ticks": "",
           "title": {
            "standoff": 15
           },
           "zerolinecolor": "white",
           "zerolinewidth": 2
          }
         }
        },
        "title": {
         "text": "ROIC"
        },
        "xaxis": {
         "anchor": "y",
         "domain": [
          0,
          1
         ],
         "title": {
          "text": "quarter_end_time"
         }
        },
        "yaxis": {
         "anchor": "x",
         "domain": [
          0,
          1
         ],
         "tickformat": ",.0%",
         "title": {
          "text": "roic"
         }
        }
       }
      }
     },
     "metadata": {},
     "output_type": "display_data"
    }
   ],
   "source": [
    "import seaborn as sns\n",
    "import plotly.express as px\n",
    "\n",
    "fig = px.line(\n",
    "    balancesheet_financialratio_incomestatement_per_group,\n",
    "    x=\"quarter_end_time\",\n",
    "    y=\"roic\",\n",
    "    color=\"ticker\",\n",
    "    title=\"ROIC\",\n",
    ")\n",
    "fig.layout.yaxis.tickformat = ',.0%'\n",
    "fig.show()"
   ]
  },
  {
   "cell_type": "code",
   "execution_count": null,
   "metadata": {},
   "outputs": [],
   "source": []
  }
 ],
 "metadata": {
  "kernelspec": {
   "display_name": "Python 3.9.12 64-bit ('base')",
   "language": "python",
   "name": "python3"
  },
  "language_info": {
   "codemirror_mode": {
    "name": "ipython",
    "version": 3
   },
   "file_extension": ".py",
   "mimetype": "text/x-python",
   "name": "python",
   "nbconvert_exporter": "python",
   "pygments_lexer": "ipython3",
   "version": "3.9.12"
  },
  "orig_nbformat": 4,
  "vscode": {
   "interpreter": {
    "hash": "2a7145f593d101c30a2c479ee680412f7217baad164519b80bf39000052a94bf"
   }
  }
 },
 "nbformat": 4,
 "nbformat_minor": 2
}
